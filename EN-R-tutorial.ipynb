{
 "cells": [
  {
   "cell_type": "markdown",
   "metadata": {},
   "source": [
    "# Plotting an Invariant Mass Histogram in R\n",
    "\n",
    "This tutorial is meant to be run using [CMS Open Data](http://opendata.cern.ch/about/cms) available from the [CERN Open Data portal](http://opendata.cern.ch).\n",
    "Please see the [README](https://github.com/cms-opendata-education/cms-rmaterial-multiple-languages/blob/master/README.md) for instructions on how to run this tutorial offline.\n",
    "\n",
    "**N.B.**: Original text and code by [Edith Villegas Garcia](https://github.com/edithvillegas), with additions by [Andrew John Lowe](https://github.com/andrewjohnlowe). Edited and converted to this interactive notebook by [Achintya Rao](https://github.com/RaoOfPhysics).\n",
    "\n",
    "---\n",
    "\n",
    "If you're comfortable with R, [jump straight into the analysis of CMS Open Data](#Working-with-CMS-Open-Data). If not, let's start with a…\n",
    "\n",
    "## Quick intro to R\n",
    "\n",
    "R is a language used for statistics and data analysis. In this tutorial, we introduce data analysis in R using the CMS Open Data from 2011. At the end of this tutorial, you will know how to create histograms of invariant mass and identify the particles that appear in the histograms.\n",
    "\n",
    "### Data types in R\n",
    "\n",
    "There are different data types in R. Basic data types include the following:\n",
    "- Logical\n",
    "- Numeric\n",
    "- Integer\n",
    "- Complex\n",
    "- Character\n",
    "\n",
    "Variables  are  assigned  to  a  type  without  having  to  specify  it.  Numeric  variables  are  simply numbers. Integer variables are specified by adding an “L” at the end of the number. Go ahead, execute the code in the following cell by clicking on it and then selecting \"Run\" from the menu above or by clicking on it and hitting `Shift`+`Enter`:"
   ]
  },
  {
   "cell_type": "code",
   "execution_count": 1,
   "metadata": {},
   "outputs": [],
   "source": [
    "a <- 5L"
   ]
  },
  {
   "cell_type": "markdown",
   "metadata": {},
   "source": [
    "Complex variables are complex numbers, they can be declared using the following format:"
   ]
  },
  {
   "cell_type": "code",
   "execution_count": 2,
   "metadata": {},
   "outputs": [],
   "source": [
    "b <- 5 + 3i\n",
    "d <- 8 + 0i"
   ]
  },
  {
   "cell_type": "markdown",
   "metadata": {},
   "source": [
    "Logical variables can have values of either TRUE or FALSE. You can also assign a condition to a logical variable:"
   ]
  },
  {
   "cell_type": "code",
   "execution_count": 3,
   "metadata": {},
   "outputs": [],
   "source": [
    "c <- 3 > 5"
   ]
  },
  {
   "cell_type": "markdown",
   "metadata": {},
   "source": [
    "Character variables are either letters or phrases, you can also add numbers and symbols between quotation marks."
   ]
  },
  {
   "cell_type": "code",
   "execution_count": 4,
   "metadata": {},
   "outputs": [],
   "source": [
    "cr <- \"3!\""
   ]
  },
  {
   "cell_type": "markdown",
   "metadata": {},
   "source": [
    "#### Vectors\n",
    "\n",
    "Variables can be either scalar or vector. A scalar vector is a variable that contains a Vectors can contain more than one value, and are created in the following form:"
   ]
  },
  {
   "cell_type": "code",
   "execution_count": 5,
   "metadata": {},
   "outputs": [],
   "source": [
    "a <- c(2, 3, 5)"
   ]
  },
  {
   "cell_type": "markdown",
   "metadata": {},
   "source": [
    "Vectors can be any of the basic data types that we mentioned before. We can also apply conditions to vectors to create a logical vector, using the following conditions:"
   ]
  },
  {
   "cell_type": "code",
   "execution_count": 6,
   "metadata": {},
   "outputs": [],
   "source": [
    "a <- c(2, 5, 8, 3, 9)\n",
    "b <- a > 3"
   ]
  },
  {
   "cell_type": "markdown",
   "metadata": {},
   "source": [
    "We can create a vector with these values:\n",
    "`FALSE TRUE TRUE FALSE TRUE`"
   ]
  },
  {
   "cell_type": "code",
   "execution_count": 7,
   "metadata": {},
   "outputs": [
    {
     "data": {
      "text/html": [
       "<ol class=list-inline>\n",
       "\t<li>FALSE</li>\n",
       "\t<li>TRUE</li>\n",
       "\t<li>TRUE</li>\n",
       "\t<li>FALSE</li>\n",
       "\t<li>TRUE</li>\n",
       "</ol>\n"
      ],
      "text/latex": [
       "\\begin{enumerate*}\n",
       "\\item FALSE\n",
       "\\item TRUE\n",
       "\\item TRUE\n",
       "\\item FALSE\n",
       "\\item TRUE\n",
       "\\end{enumerate*}\n"
      ],
      "text/markdown": [
       "1. FALSE\n",
       "2. TRUE\n",
       "3. TRUE\n",
       "4. FALSE\n",
       "5. TRUE\n",
       "\n",
       "\n"
      ],
      "text/plain": [
       "[1] FALSE  TRUE  TRUE FALSE  TRUE"
      ]
     },
     "metadata": {},
     "output_type": "display_data"
    }
   ],
   "source": [
    "b"
   ]
  },
  {
   "cell_type": "markdown",
   "metadata": {},
   "source": [
    "To access a particular element of the vector (vector indexing) we can use the name of the vector and the number of the element in brackets, counting from 1. The following command will produce the output corresponding to the first element in the vector `a` we defined:"
   ]
  },
  {
   "cell_type": "code",
   "execution_count": 8,
   "metadata": {},
   "outputs": [
    {
     "data": {
      "text/html": [
       "2"
      ],
      "text/latex": [
       "2"
      ],
      "text/markdown": [
       "2"
      ],
      "text/plain": [
       "[1] 2"
      ]
     },
     "metadata": {},
     "output_type": "display_data"
    }
   ],
   "source": [
    "a[1]"
   ]
  },
  {
   "cell_type": "markdown",
   "metadata": {},
   "source": [
    "We can also do logical indexing, apply a condition so that only the elements of the vector that meet the condition are shown:"
   ]
  },
  {
   "cell_type": "code",
   "execution_count": 9,
   "metadata": {},
   "outputs": [
    {
     "data": {
      "text/html": [
       "<ol class=list-inline>\n",
       "\t<li>5</li>\n",
       "\t<li>8</li>\n",
       "\t<li>9</li>\n",
       "</ol>\n"
      ],
      "text/latex": [
       "\\begin{enumerate*}\n",
       "\\item 5\n",
       "\\item 8\n",
       "\\item 9\n",
       "\\end{enumerate*}\n"
      ],
      "text/markdown": [
       "1. 5\n",
       "2. 8\n",
       "3. 9\n",
       "\n",
       "\n"
      ],
      "text/plain": [
       "[1] 5 8 9"
      ]
     },
     "metadata": {},
     "output_type": "display_data"
    }
   ],
   "source": [
    "a[a>3]"
   ]
  },
  {
   "cell_type": "markdown",
   "metadata": {},
   "source": [
    "#### Matrices\n",
    "\n",
    "In R, we can create a matrix from a vector. Matrices are two-dimensional data structures. The way we create a matrix is by specifying the values it will contain, the number of rows and number of columns and if we are going to fill the matrix by column or by row. The following command creates a vector with values from 1 to 9."
   ]
  },
  {
   "cell_type": "code",
   "execution_count": 10,
   "metadata": {},
   "outputs": [],
   "source": [
    "a <- c(1:9)"
   ]
  },
  {
   "cell_type": "code",
   "execution_count": 11,
   "metadata": {},
   "outputs": [
    {
     "data": {
      "text/html": [
       "<table>\n",
       "<caption>A matrix: 3 x 3 of type int</caption>\n",
       "<tbody>\n",
       "\t<tr><td>1</td><td>2</td><td>3</td></tr>\n",
       "\t<tr><td>4</td><td>5</td><td>6</td></tr>\n",
       "\t<tr><td>7</td><td>8</td><td>9</td></tr>\n",
       "</tbody>\n",
       "</table>\n"
      ],
      "text/latex": [
       "A matrix: 3 x 3 of type int\n",
       "\\begin{tabular}{lll}\n",
       "\t 1 & 2 & 3\\\\\n",
       "\t 4 & 5 & 6\\\\\n",
       "\t 7 & 8 & 9\\\\\n",
       "\\end{tabular}\n"
      ],
      "text/markdown": [
       "\n",
       "A matrix: 3 x 3 of type int\n",
       "\n",
       "| 1 | 2 | 3 |\n",
       "| 4 | 5 | 6 |\n",
       "| 7 | 8 | 9 |\n",
       "\n"
      ],
      "text/plain": [
       "     [,1] [,2] [,3]\n",
       "[1,] 1    2    3   \n",
       "[2,] 4    5    6   \n",
       "[3,] 7    8    9   "
      ]
     },
     "metadata": {},
     "output_type": "display_data"
    }
   ],
   "source": [
    "A <- matrix(a, nrow=3, ncol=3, byrow=TRUE)\n",
    "\n",
    "A"
   ]
  },
  {
   "cell_type": "markdown",
   "metadata": {},
   "source": [
    "To  access  some  element  of  a  matrix  we  have  to specify  the  row  and  column  values  in  brackets \n",
    "after the matrix name. The following command, for example, gives the value 6, which is in the second row and the third column."
   ]
  },
  {
   "cell_type": "code",
   "execution_count": 12,
   "metadata": {},
   "outputs": [
    {
     "data": {
      "text/html": [
       "6"
      ],
      "text/latex": [
       "6"
      ],
      "text/markdown": [
       "6"
      ],
      "text/plain": [
       "[1] 6"
      ]
     },
     "metadata": {},
     "output_type": "display_data"
    }
   ],
   "source": [
    "A[2,3]"
   ]
  },
  {
   "cell_type": "markdown",
   "metadata": {},
   "source": [
    "We can access the values of a whole column at once, by leaving and empty space where the row number would be, and vice\n",
    "versa. A[2,] gives the values of the second row. Matrices can also be created using conditions for other matrices, and can also be indexed logical. Indexing  a  matrix  logical  gives  as  a  result  a  vector  with  the  values  of  the  matrix  for  which  the condition is true."
   ]
  },
  {
   "cell_type": "code",
   "execution_count": 13,
   "metadata": {},
   "outputs": [],
   "source": [
    "# Create a vector with values from 1 to 25\n",
    "a <- c(1:25)\n",
    "\n",
    "# Create a matrix from vector a, with 5 rows and 5 columns, and fill it by row.\n",
    "A <- matrix(a, nrow=5, ncol=5, byrow=TRUE)\n",
    "\n",
    "# Create a logical matrix from a condition.\n",
    "C <- A > 12"
   ]
  },
  {
   "cell_type": "code",
   "execution_count": 14,
   "metadata": {},
   "outputs": [
    {
     "data": {
      "text/html": [
       "<table>\n",
       "<caption>A matrix: 5 x 5 of type lgl</caption>\n",
       "<tbody>\n",
       "\t<tr><td>FALSE</td><td>FALSE</td><td>FALSE</td><td>FALSE</td><td>FALSE</td></tr>\n",
       "\t<tr><td>FALSE</td><td>FALSE</td><td>FALSE</td><td>FALSE</td><td>FALSE</td></tr>\n",
       "\t<tr><td>FALSE</td><td>FALSE</td><td> TRUE</td><td> TRUE</td><td> TRUE</td></tr>\n",
       "\t<tr><td> TRUE</td><td> TRUE</td><td> TRUE</td><td> TRUE</td><td> TRUE</td></tr>\n",
       "\t<tr><td> TRUE</td><td> TRUE</td><td> TRUE</td><td> TRUE</td><td> TRUE</td></tr>\n",
       "</tbody>\n",
       "</table>\n"
      ],
      "text/latex": [
       "A matrix: 5 x 5 of type lgl\n",
       "\\begin{tabular}{lllll}\n",
       "\t FALSE & FALSE & FALSE & FALSE & FALSE\\\\\n",
       "\t FALSE & FALSE & FALSE & FALSE & FALSE\\\\\n",
       "\t FALSE & FALSE &  TRUE &  TRUE &  TRUE\\\\\n",
       "\t  TRUE &  TRUE &  TRUE &  TRUE &  TRUE\\\\\n",
       "\t  TRUE &  TRUE &  TRUE &  TRUE &  TRUE\\\\\n",
       "\\end{tabular}\n"
      ],
      "text/markdown": [
       "\n",
       "A matrix: 5 x 5 of type lgl\n",
       "\n",
       "| FALSE | FALSE | FALSE | FALSE | FALSE |\n",
       "| FALSE | FALSE | FALSE | FALSE | FALSE |\n",
       "| FALSE | FALSE |  TRUE |  TRUE |  TRUE |\n",
       "|  TRUE |  TRUE |  TRUE |  TRUE |  TRUE |\n",
       "|  TRUE |  TRUE |  TRUE |  TRUE |  TRUE |\n",
       "\n"
      ],
      "text/plain": [
       "     [,1]  [,2]  [,3]  [,4]  [,5] \n",
       "[1,] FALSE FALSE FALSE FALSE FALSE\n",
       "[2,] FALSE FALSE FALSE FALSE FALSE\n",
       "[3,] FALSE FALSE  TRUE  TRUE  TRUE\n",
       "[4,]  TRUE  TRUE  TRUE  TRUE  TRUE\n",
       "[5,]  TRUE  TRUE  TRUE  TRUE  TRUE"
      ]
     },
     "metadata": {},
     "output_type": "display_data"
    }
   ],
   "source": [
    "# Show the logical matrix: the values are true when the \n",
    "# corresponding elements of matrix A meet the condition \"A>12\".\n",
    "\n",
    "C"
   ]
  },
  {
   "cell_type": "code",
   "execution_count": 15,
   "metadata": {},
   "outputs": [
    {
     "data": {
      "text/html": [
       "<ol class=list-inline>\n",
       "\t<li>16</li>\n",
       "\t<li>21</li>\n",
       "\t<li>17</li>\n",
       "\t<li>22</li>\n",
       "\t<li>13</li>\n",
       "\t<li>18</li>\n",
       "\t<li>23</li>\n",
       "\t<li>14</li>\n",
       "\t<li>19</li>\n",
       "\t<li>24</li>\n",
       "\t<li>15</li>\n",
       "\t<li>20</li>\n",
       "\t<li>25</li>\n",
       "</ol>\n"
      ],
      "text/latex": [
       "\\begin{enumerate*}\n",
       "\\item 16\n",
       "\\item 21\n",
       "\\item 17\n",
       "\\item 22\n",
       "\\item 13\n",
       "\\item 18\n",
       "\\item 23\n",
       "\\item 14\n",
       "\\item 19\n",
       "\\item 24\n",
       "\\item 15\n",
       "\\item 20\n",
       "\\item 25\n",
       "\\end{enumerate*}\n"
      ],
      "text/markdown": [
       "1. 16\n",
       "2. 21\n",
       "3. 17\n",
       "4. 22\n",
       "5. 13\n",
       "6. 18\n",
       "7. 23\n",
       "8. 14\n",
       "9. 19\n",
       "10. 24\n",
       "11. 15\n",
       "12. 20\n",
       "13. 25\n",
       "\n",
       "\n"
      ],
      "text/plain": [
       " [1] 16 21 17 22 13 18 23 14 19 24 15 20 25"
      ]
     },
     "metadata": {},
     "output_type": "display_data"
    }
   ],
   "source": [
    "# Indexing matrix A using matrix C, this gives of us the values  \n",
    "# of A for which the corresponding values of C are TRUE.\n",
    "# That is, the values for which \"A>12\", in the form of a vector.\n",
    "\n",
    "A[C]"
   ]
  },
  {
   "cell_type": "markdown",
   "metadata": {},
   "source": [
    "#### Arrays\n",
    "\n",
    "Arrays are data structures similar to matrices, but they can have more than two dimensions. You can create them from a vector and specify the number of dimensions of the array."
   ]
  },
  {
   "cell_type": "code",
   "execution_count": 16,
   "metadata": {},
   "outputs": [
    {
     "name": "stdout",
     "output_type": "stream",
     "text": [
      ", , 1\n",
      "\n",
      "     [,1] [,2] [,3]\n",
      "[1,]    1    4    7\n",
      "[2,]    2    5    8\n",
      "[3,]    3    6    9\n",
      "\n",
      ", , 2\n",
      "\n",
      "     [,1] [,2] [,3]\n",
      "[1,]   10   13   16\n",
      "[2,]   11   14   17\n",
      "[3,]   12   15   18\n",
      "\n",
      ", , 3\n",
      "\n",
      "     [,1] [,2] [,3]\n",
      "[1,]   19   22   25\n",
      "[2,]   20   23   26\n",
      "[3,]   21   24   27\n",
      "\n"
     ]
    }
   ],
   "source": [
    "# NOTE: For some reason, arrays don't display correctly in Jupyter notebooks.\n",
    "# See below for correct output.\n",
    "\n",
    "# Create a vector with values from 1 to 27\n",
    "a <- c(1:27)\n",
    "\n",
    "# Create an array from vector a, that has 3 matrices of dimension 3x3.\n",
    "A <- array(a, dim=c(3,3,3))\n",
    "\n",
    "# Show the array.\n",
    "print(A)"
   ]
  },
  {
   "cell_type": "markdown",
   "metadata": {},
   "source": [
    "#### Lists\n",
    "\n",
    "Lists are like vectors, but they can contain different data types at the same time, and they can also contain vectors. "
   ]
  },
  {
   "cell_type": "code",
   "execution_count": 17,
   "metadata": {},
   "outputs": [
    {
     "data": {
      "text/html": [
       "<ol>\n",
       "\t<li><ol class=list-inline>\n",
       "\t<li>1</li>\n",
       "\t<li>2</li>\n",
       "\t<li>3</li>\n",
       "</ol>\n",
       "</li>\n",
       "\t<li>'a'</li>\n",
       "\t<li>1</li>\n",
       "\t<li>1+5i</li>\n",
       "</ol>\n"
      ],
      "text/latex": [
       "\\begin{enumerate}\n",
       "\\item \\begin{enumerate*}\n",
       "\\item 1\n",
       "\\item 2\n",
       "\\item 3\n",
       "\\end{enumerate*}\n",
       "\n",
       "\\item 'a'\n",
       "\\item 1\n",
       "\\item 1+5i\n",
       "\\end{enumerate}\n"
      ],
      "text/markdown": [
       "1. 1. 1\n",
       "2. 2\n",
       "3. 3\n",
       "\n",
       "\n",
       "\n",
       "2. 'a'\n",
       "3. 1\n",
       "4. 1+5i\n",
       "\n",
       "\n"
      ],
      "text/plain": [
       "[[1]]\n",
       "[1] 1 2 3\n",
       "\n",
       "[[2]]\n",
       "[1] \"a\"\n",
       "\n",
       "[[3]]\n",
       "[1] 1\n",
       "\n",
       "[[4]]\n",
       "[1] 1+5i\n"
      ]
     },
     "metadata": {},
     "output_type": "display_data"
    }
   ],
   "source": [
    "l <- list(c(1,2,3),'a', 1, 1+5i)\n",
    "\n",
    "l"
   ]
  },
  {
   "cell_type": "markdown",
   "metadata": {},
   "source": [
    "#### Data Frames\n",
    "\n",
    "Data  frames  are  like  lists  of  vectors  that  have  the  same  length.  They  are  used  to  store  data  in  a tabular form. You can create data frames using the following:"
   ]
  },
  {
   "cell_type": "code",
   "execution_count": 18,
   "metadata": {},
   "outputs": [
    {
     "data": {
      "text/html": [
       "<table>\n",
       "<caption>A data.frame: 2 x 3</caption>\n",
       "<thead>\n",
       "\t<tr><th scope=col>Name</th><th scope=col>Gender</th><th scope=col>Age</th></tr>\n",
       "\t<tr><th scope=col>&lt;fct&gt;</th><th scope=col>&lt;fct&gt;</th><th scope=col>&lt;dbl&gt;</th></tr>\n",
       "</thead>\n",
       "<tbody>\n",
       "\t<tr><td>James</td><td>M</td><td>20</td></tr>\n",
       "\t<tr><td>David</td><td>M</td><td>23</td></tr>\n",
       "</tbody>\n",
       "</table>\n"
      ],
      "text/latex": [
       "A data.frame: 2 x 3\n",
       "\\begin{tabular}{r|lll}\n",
       " Name & Gender & Age\\\\\n",
       " <fct> & <fct> & <dbl>\\\\\n",
       "\\hline\n",
       "\t James & M & 20\\\\\n",
       "\t David & M & 23\\\\\n",
       "\\end{tabular}\n"
      ],
      "text/markdown": [
       "\n",
       "A data.frame: 2 x 3\n",
       "\n",
       "| Name &lt;fct&gt; | Gender &lt;fct&gt; | Age &lt;dbl&gt; |\n",
       "|---|---|---|\n",
       "| James | M | 20 |\n",
       "| David | M | 23 |\n",
       "\n"
      ],
      "text/plain": [
       "  Name  Gender Age\n",
       "1 James M      20 \n",
       "2 David M      23 "
      ]
     },
     "metadata": {},
     "output_type": "display_data"
    }
   ],
   "source": [
    "data <- data.frame(\n",
    "    Name = c(\"James\", \"David\"),\n",
    "    Gender = c('M','M'),\n",
    "    Age = c(20, 23)\n",
    ")\n",
    "\n",
    "data"
   ]
  },
  {
   "cell_type": "markdown",
   "metadata": {},
   "source": [
    "If  you want to access a particular column of data of a data frame,  you use the name of the data frame followed by a $ and the name of the column. In the previous example, if we want to access the names, we can write the following, which will return a vector with the names written on it: "
   ]
  },
  {
   "cell_type": "code",
   "execution_count": 19,
   "metadata": {},
   "outputs": [
    {
     "data": {
      "text/html": [
       "<ol class=list-inline>\n",
       "\t<li>James</li>\n",
       "\t<li>David</li>\n",
       "</ol>\n",
       "\n",
       "<details>\n",
       "\t<summary style=display:list-item;cursor:pointer>\n",
       "\t\t<strong>Levels</strong>:\n",
       "\t</summary>\n",
       "\t<ol class=list-inline>\n",
       "\t\t<li>'David'</li>\n",
       "\t\t<li>'James'</li>\n",
       "\t</ol>\n",
       "</details>"
      ],
      "text/latex": [
       "\\begin{enumerate*}\n",
       "\\item James\n",
       "\\item David\n",
       "\\end{enumerate*}\n",
       "\n",
       "\\emph{Levels}: \\begin{enumerate*}\n",
       "\\item 'David'\n",
       "\\item 'James'\n",
       "\\end{enumerate*}\n"
      ],
      "text/markdown": [
       "1. James\n",
       "2. David\n",
       "\n",
       "\n",
       "\n",
       "**Levels**: 1. 'David'\n",
       "2. 'James'\n",
       "\n",
       "\n"
      ],
      "text/plain": [
       "[1] James David\n",
       "Levels: David James"
      ]
     },
     "metadata": {},
     "output_type": "display_data"
    }
   ],
   "source": [
    "data$Name"
   ]
  },
  {
   "cell_type": "markdown",
   "metadata": {},
   "source": [
    "If we want, on the other hand, access only a particular row, we can use the following, which will give the first row of the data frame:"
   ]
  },
  {
   "cell_type": "code",
   "execution_count": 20,
   "metadata": {},
   "outputs": [
    {
     "data": {
      "text/html": [
       "<table>\n",
       "<caption>A data.frame: 1 x 3</caption>\n",
       "<thead>\n",
       "\t<tr><th scope=col>Name</th><th scope=col>Gender</th><th scope=col>Age</th></tr>\n",
       "\t<tr><th scope=col>&lt;fct&gt;</th><th scope=col>&lt;fct&gt;</th><th scope=col>&lt;dbl&gt;</th></tr>\n",
       "</thead>\n",
       "<tbody>\n",
       "\t<tr><td>James</td><td>M</td><td>20</td></tr>\n",
       "</tbody>\n",
       "</table>\n"
      ],
      "text/latex": [
       "A data.frame: 1 x 3\n",
       "\\begin{tabular}{r|lll}\n",
       " Name & Gender & Age\\\\\n",
       " <fct> & <fct> & <dbl>\\\\\n",
       "\\hline\n",
       "\t James & M & 20\\\\\n",
       "\\end{tabular}\n"
      ],
      "text/markdown": [
       "\n",
       "A data.frame: 1 x 3\n",
       "\n",
       "| Name &lt;fct&gt; | Gender &lt;fct&gt; | Age &lt;dbl&gt; |\n",
       "|---|---|---|\n",
       "| James | M | 20 |\n",
       "\n"
      ],
      "text/plain": [
       "  Name  Gender Age\n",
       "1 James M      20 "
      ]
     },
     "metadata": {},
     "output_type": "display_data"
    }
   ],
   "source": [
    "data[1,]"
   ]
  },
  {
   "cell_type": "markdown",
   "metadata": {},
   "source": [
    "You can also import previously created data from other files, like CSV files, as we will see below."
   ]
  },
  {
   "cell_type": "markdown",
   "metadata": {},
   "source": [
    "## Working with CMS Open Data\n",
    "\n",
    "This example uses \"base R\" without installing or calling any additional packages.\n",
    "It serves a didactic role in explaining how R _can_ be used for playing with CMS data, introducing the reader to concepts of particle physics and demonstrates what steps are taken for performing a simple analysis.\n",
    "If, however, you are familiar with both R and particle physics and want to analyse these data using the `tidyverse` package, [skip right to the end](#Using-Tidyverse).\n",
    "\n",
    "---\n",
    "\n",
    "### Importing Data from CSV files\n",
    "\n",
    "You can import files in the CSV (comma-separated values) format to R, and analyse the data contained in them. In  this  tutorial we are going to use CMS Open Data as an example.\n",
    "\n",
    "The data files for this example can be found here: [http://opendata.cern.ch/record/545](http://opendata.cern.ch/record/545)\n",
    "\n",
    "To import the data files in R we use the following command:"
   ]
  },
  {
   "cell_type": "code",
   "execution_count": 21,
   "metadata": {},
   "outputs": [],
   "source": [
    "jpsi <- read.csv(\"http://opendata.cern.ch/record/545/files/Jpsimumu.csv\")"
   ]
  },
  {
   "cell_type": "markdown",
   "metadata": {},
   "source": [
    "Here we are saving the data contained in the `Jpsimumu.csv` file in a variable called `data`. The data files contain thousands of entries, so instead of showing the whole file,  we can take a peek using the following function, which will show the first 6 rows of the data frame:"
   ]
  },
  {
   "cell_type": "code",
   "execution_count": 22,
   "metadata": {},
   "outputs": [
    {
     "data": {
      "text/html": [
       "<table>\n",
       "<caption>A data.frame: 6 x 20</caption>\n",
       "<thead>\n",
       "\t<tr><th scope=col>Run</th><th scope=col>Event</th><th scope=col>type1</th><th scope=col>E1</th><th scope=col>px1</th><th scope=col>py1</th><th scope=col>pz1</th><th scope=col>pt1</th><th scope=col>eta1</th><th scope=col>phi1</th><th scope=col>Q1</th><th scope=col>type2</th><th scope=col>E2</th><th scope=col>px2</th><th scope=col>py2</th><th scope=col>pz2</th><th scope=col>pt2</th><th scope=col>eta2</th><th scope=col>phi2</th><th scope=col>Q2</th></tr>\n",
       "\t<tr><th scope=col>&lt;int&gt;</th><th scope=col>&lt;int&gt;</th><th scope=col>&lt;fct&gt;</th><th scope=col>&lt;dbl&gt;</th><th scope=col>&lt;dbl&gt;</th><th scope=col>&lt;dbl&gt;</th><th scope=col>&lt;dbl&gt;</th><th scope=col>&lt;dbl&gt;</th><th scope=col>&lt;dbl&gt;</th><th scope=col>&lt;dbl&gt;</th><th scope=col>&lt;int&gt;</th><th scope=col>&lt;fct&gt;</th><th scope=col>&lt;dbl&gt;</th><th scope=col>&lt;dbl&gt;</th><th scope=col>&lt;dbl&gt;</th><th scope=col>&lt;dbl&gt;</th><th scope=col>&lt;dbl&gt;</th><th scope=col>&lt;dbl&gt;</th><th scope=col>&lt;dbl&gt;</th><th scope=col>&lt;int&gt;</th></tr>\n",
       "</thead>\n",
       "<tbody>\n",
       "\t<tr><td>165617</td><td>75206813</td><td>G</td><td>10.1623</td><td> 0.4763</td><td>-8.5164</td><td>  5.5231</td><td> 8.5297</td><td> 0.6091</td><td>-1.5149</td><td>-1</td><td>G</td><td>19.7754</td><td>  2.7508</td><td>-13.9871</td><td> 13.7059</td><td>14.2550</td><td> 0.8539</td><td>-1.3766</td><td> 1</td></tr>\n",
       "\t<tr><td>165617</td><td>75678475</td><td>G</td><td>15.8799</td><td>15.0618</td><td>-1.6658</td><td> -4.7464</td><td>15.1536</td><td>-0.3083</td><td>-0.1102</td><td> 1</td><td>G</td><td>11.9338</td><td> 11.9084</td><td> -0.7670</td><td> -0.0851</td><td>11.9330</td><td>-0.0071</td><td>-0.0643</td><td>-1</td></tr>\n",
       "\t<tr><td>165617</td><td>74428554</td><td>G</td><td>21.8279</td><td>-6.2214</td><td>11.0845</td><td> 17.7447</td><td>12.7111</td><td> 1.1357</td><td> 2.0823</td><td>-1</td><td>G</td><td>36.6513</td><td>-10.6874</td><td> 15.0692</td><td> 31.6544</td><td>18.4743</td><td> 1.3076</td><td> 2.1877</td><td> 1</td></tr>\n",
       "\t<tr><td>165617</td><td>75193169</td><td>G</td><td>19.4923</td><td> 2.7612</td><td>-5.5769</td><td>-18.4719</td><td> 6.2230</td><td>-1.8084</td><td>-1.1111</td><td> 1</td><td>G</td><td>14.9334</td><td>  1.5525</td><td> -6.1254</td><td>-13.5302</td><td> 6.3190</td><td>-1.5050</td><td>-1.3226</td><td>-1</td></tr>\n",
       "\t<tr><td>165617</td><td>74832715</td><td>G</td><td> 8.0972</td><td> 4.6127</td><td>-1.8389</td><td>  6.3949</td><td> 4.9657</td><td> 1.0710</td><td>-0.3793</td><td>-1</td><td>T</td><td> 3.5131</td><td> -0.5305</td><td>  0.6880</td><td>  3.4024</td><td> 0.8688</td><td> 2.0742</td><td> 2.2276</td><td> 1</td></tr>\n",
       "\t<tr><td>165617</td><td>74981507</td><td>G</td><td>30.5862</td><td>15.5218</td><td> 5.1293</td><td>-25.8509</td><td>16.3474</td><td>-1.2391</td><td> 0.3192</td><td> 1</td><td>G</td><td>12.4868</td><td>  7.7640</td><td>  1.0425</td><td> -9.7233</td><td> 7.8337</td><td>-1.0421</td><td> 0.1335</td><td>-1</td></tr>\n",
       "</tbody>\n",
       "</table>\n"
      ],
      "text/latex": [
       "A data.frame: 6 x 20\n",
       "\\begin{tabular}{r|llllllllllllllllllll}\n",
       " Run & Event & type1 & E1 & px1 & py1 & pz1 & pt1 & eta1 & phi1 & Q1 & type2 & E2 & px2 & py2 & pz2 & pt2 & eta2 & phi2 & Q2\\\\\n",
       " <int> & <int> & <fct> & <dbl> & <dbl> & <dbl> & <dbl> & <dbl> & <dbl> & <dbl> & <int> & <fct> & <dbl> & <dbl> & <dbl> & <dbl> & <dbl> & <dbl> & <dbl> & <int>\\\\\n",
       "\\hline\n",
       "\t 165617 & 75206813 & G & 10.1623 &  0.4763 & -8.5164 &   5.5231 &  8.5297 &  0.6091 & -1.5149 & -1 & G & 19.7754 &   2.7508 & -13.9871 &  13.7059 & 14.2550 &  0.8539 & -1.3766 &  1\\\\\n",
       "\t 165617 & 75678475 & G & 15.8799 & 15.0618 & -1.6658 &  -4.7464 & 15.1536 & -0.3083 & -0.1102 &  1 & G & 11.9338 &  11.9084 &  -0.7670 &  -0.0851 & 11.9330 & -0.0071 & -0.0643 & -1\\\\\n",
       "\t 165617 & 74428554 & G & 21.8279 & -6.2214 & 11.0845 &  17.7447 & 12.7111 &  1.1357 &  2.0823 & -1 & G & 36.6513 & -10.6874 &  15.0692 &  31.6544 & 18.4743 &  1.3076 &  2.1877 &  1\\\\\n",
       "\t 165617 & 75193169 & G & 19.4923 &  2.7612 & -5.5769 & -18.4719 &  6.2230 & -1.8084 & -1.1111 &  1 & G & 14.9334 &   1.5525 &  -6.1254 & -13.5302 &  6.3190 & -1.5050 & -1.3226 & -1\\\\\n",
       "\t 165617 & 74832715 & G &  8.0972 &  4.6127 & -1.8389 &   6.3949 &  4.9657 &  1.0710 & -0.3793 & -1 & T &  3.5131 &  -0.5305 &   0.6880 &   3.4024 &  0.8688 &  2.0742 &  2.2276 &  1\\\\\n",
       "\t 165617 & 74981507 & G & 30.5862 & 15.5218 &  5.1293 & -25.8509 & 16.3474 & -1.2391 &  0.3192 &  1 & G & 12.4868 &   7.7640 &   1.0425 &  -9.7233 &  7.8337 & -1.0421 &  0.1335 & -1\\\\\n",
       "\\end{tabular}\n"
      ],
      "text/markdown": [
       "\n",
       "A data.frame: 6 x 20\n",
       "\n",
       "| Run &lt;int&gt; | Event &lt;int&gt; | type1 &lt;fct&gt; | E1 &lt;dbl&gt; | px1 &lt;dbl&gt; | py1 &lt;dbl&gt; | pz1 &lt;dbl&gt; | pt1 &lt;dbl&gt; | eta1 &lt;dbl&gt; | phi1 &lt;dbl&gt; | Q1 &lt;int&gt; | type2 &lt;fct&gt; | E2 &lt;dbl&gt; | px2 &lt;dbl&gt; | py2 &lt;dbl&gt; | pz2 &lt;dbl&gt; | pt2 &lt;dbl&gt; | eta2 &lt;dbl&gt; | phi2 &lt;dbl&gt; | Q2 &lt;int&gt; |\n",
       "|---|---|---|---|---|---|---|---|---|---|---|---|---|---|---|---|---|---|---|---|\n",
       "| 165617 | 75206813 | G | 10.1623 |  0.4763 | -8.5164 |   5.5231 |  8.5297 |  0.6091 | -1.5149 | -1 | G | 19.7754 |   2.7508 | -13.9871 |  13.7059 | 14.2550 |  0.8539 | -1.3766 |  1 |\n",
       "| 165617 | 75678475 | G | 15.8799 | 15.0618 | -1.6658 |  -4.7464 | 15.1536 | -0.3083 | -0.1102 |  1 | G | 11.9338 |  11.9084 |  -0.7670 |  -0.0851 | 11.9330 | -0.0071 | -0.0643 | -1 |\n",
       "| 165617 | 74428554 | G | 21.8279 | -6.2214 | 11.0845 |  17.7447 | 12.7111 |  1.1357 |  2.0823 | -1 | G | 36.6513 | -10.6874 |  15.0692 |  31.6544 | 18.4743 |  1.3076 |  2.1877 |  1 |\n",
       "| 165617 | 75193169 | G | 19.4923 |  2.7612 | -5.5769 | -18.4719 |  6.2230 | -1.8084 | -1.1111 |  1 | G | 14.9334 |   1.5525 |  -6.1254 | -13.5302 |  6.3190 | -1.5050 | -1.3226 | -1 |\n",
       "| 165617 | 74832715 | G |  8.0972 |  4.6127 | -1.8389 |   6.3949 |  4.9657 |  1.0710 | -0.3793 | -1 | T |  3.5131 |  -0.5305 |   0.6880 |   3.4024 |  0.8688 |  2.0742 |  2.2276 |  1 |\n",
       "| 165617 | 74981507 | G | 30.5862 | 15.5218 |  5.1293 | -25.8509 | 16.3474 | -1.2391 |  0.3192 |  1 | G | 12.4868 |   7.7640 |   1.0425 |  -9.7233 |  7.8337 | -1.0421 |  0.1335 | -1 |\n",
       "\n"
      ],
      "text/plain": [
       "  Run    Event    type1 E1      px1     py1     pz1      pt1     eta1   \n",
       "1 165617 75206813 G     10.1623  0.4763 -8.5164   5.5231  8.5297  0.6091\n",
       "2 165617 75678475 G     15.8799 15.0618 -1.6658  -4.7464 15.1536 -0.3083\n",
       "3 165617 74428554 G     21.8279 -6.2214 11.0845  17.7447 12.7111  1.1357\n",
       "4 165617 75193169 G     19.4923  2.7612 -5.5769 -18.4719  6.2230 -1.8084\n",
       "5 165617 74832715 G      8.0972  4.6127 -1.8389   6.3949  4.9657  1.0710\n",
       "6 165617 74981507 G     30.5862 15.5218  5.1293 -25.8509 16.3474 -1.2391\n",
       "  phi1    Q1 type2 E2      px2      py2      pz2      pt2     eta2    phi2   \n",
       "1 -1.5149 -1 G     19.7754   2.7508 -13.9871  13.7059 14.2550  0.8539 -1.3766\n",
       "2 -0.1102  1 G     11.9338  11.9084  -0.7670  -0.0851 11.9330 -0.0071 -0.0643\n",
       "3  2.0823 -1 G     36.6513 -10.6874  15.0692  31.6544 18.4743  1.3076  2.1877\n",
       "4 -1.1111  1 G     14.9334   1.5525  -6.1254 -13.5302  6.3190 -1.5050 -1.3226\n",
       "5 -0.3793 -1 T      3.5131  -0.5305   0.6880   3.4024  0.8688  2.0742  2.2276\n",
       "6  0.3192  1 G     12.4868   7.7640   1.0425  -9.7233  7.8337 -1.0421  0.1335\n",
       "  Q2\n",
       "1  1\n",
       "2 -1\n",
       "3  1\n",
       "4 -1\n",
       "5  1\n",
       "6 -1"
      ]
     },
     "metadata": {},
     "output_type": "display_data"
    }
   ],
   "source": [
    "head(jpsi)"
   ]
  },
  {
   "cell_type": "markdown",
   "metadata": {},
   "source": [
    "### Calculating the Invariant Mass\n",
    "\n",
    "We are going to use the data stored in `jpsi`, which came from `Jpsimumu.csv`. The CSV file contains events from the CMS detector where two muons were detected.\n",
    "\n",
    "You can see from `head(jpsi)` that there are values shown for the energy (E), the momentum (px, py, pz), the pseudo-rapidity (eta or η) and the angle (phi or φ). The value for the mass is not shown, but we can calculate it from the values of the energy and the momentum.\n",
    "\n",
    "The invariant mass can be calculated with the following equation:\n",
    "\n",
    "$M = \\sqrt{(\\sum{E})^2 - ||\\sum{p}||^2}$\n",
    "\n",
    "where $M$ is the invariant mass, $\\sum{E}$ is the total energy, and $\\sum{p}$ is the total momentum. To calculate the invariant mass in the code, we are going to use the values of px, py and pz and the values of the energy for the two particles. First, we are going to calculate the vector sum of the momentum of particles 1 and 2. To calculate the vector sum, we have to individually sum each component of the vectors:"
   ]
  },
  {
   "cell_type": "code",
   "execution_count": 23,
   "metadata": {},
   "outputs": [],
   "source": [
    "pxt <- jpsi$px1+jpsi$px2\n",
    "pyt <- jpsi$py1+jpsi$py2\n",
    "pzt <- jpsi$pz1+jpsi$pz2"
   ]
  },
  {
   "cell_type": "markdown",
   "metadata": {},
   "source": [
    "Then we calculate the magnitude of the vector, with the following:"
   ]
  },
  {
   "cell_type": "code",
   "execution_count": 24,
   "metadata": {},
   "outputs": [],
   "source": [
    "# Here we use the function sqrt() to obtain the square root of \n",
    "#the sum of all momentum components squared, and save it to the \n",
    "# variable ptotal\n",
    "\n",
    "ptotal <- sqrt(pxt^2+pyt^2+pzt^2)"
   ]
  },
  {
   "cell_type": "markdown",
   "metadata": {},
   "source": [
    "We can also define a function to do this calculation. You can define your own functions using the \n",
    "following syntax:\n",
    "\n",
    "```\n",
    "myfunctionname = function(arg1, arg2...)\n",
    "{\n",
    "statements\n",
    "return(a) \n",
    "}\n",
    "```\n",
    "\n",
    "To define a function to calculate the magnitude of a vector, we need to take three arguments and return one value. We can call this function `magnitude()` and define it like this:"
   ]
  },
  {
   "cell_type": "code",
   "execution_count": 25,
   "metadata": {},
   "outputs": [],
   "source": [
    "magnitude = function(x, y, z) {\n",
    "    m = sqrt(x^2 + y^2 + z^2)\n",
    "    return(m)\n",
    "}"
   ]
  },
  {
   "cell_type": "markdown",
   "metadata": {},
   "source": [
    "Now to do the calculation using the function we simply pass the arguments, which are the three components of the momentum in the different spatial directions:"
   ]
  },
  {
   "cell_type": "code",
   "execution_count": 26,
   "metadata": {},
   "outputs": [],
   "source": [
    "ptotal <- magnitude(pxt, pyt, pzt)"
   ]
  },
  {
   "cell_type": "markdown",
   "metadata": {},
   "source": [
    "We can also define a function to do the calculation of the invariant mass of a system consisting of \n",
    "two particles:"
   ]
  },
  {
   "cell_type": "code",
   "execution_count": 27,
   "metadata": {},
   "outputs": [],
   "source": [
    "invmass = function(px1, px2, py1, py2, pz1, pz2, E1, E2){\n",
    "    px = px1+px2\n",
    "    py = py1+py2\n",
    "    pz = pz1+pz2\n",
    "    E = E1+E2\n",
    "    ptotal = magnitude(px, py, pz)\n",
    "    mass = sqrt(E^2 - ptotal^2)\n",
    "    return(mass)\n",
    "}\n",
    "\n",
    "# Here we first indicate the name of the function and its arguments, \n",
    "# then we obtain the sum of p1 and p2 for each individual component, \n",
    "# and we do the sum of the energies, then we obtain the magnitude \n",
    "# of the total momentum and finally we calculate the invariant mass \n",
    "# using the previously stated equation. "
   ]
  },
  {
   "cell_type": "markdown",
   "metadata": {},
   "source": [
    "We can now calculate the invariant mass value using the function we have just defined and view the first values using `head()`:"
   ]
  },
  {
   "cell_type": "code",
   "execution_count": 28,
   "metadata": {},
   "outputs": [
    {
     "data": {
      "text/html": [
       "<ol class=list-inline>\n",
       "\t<li>3.11283691027971</li>\n",
       "\t<li>4.11683270974177</li>\n",
       "\t<li>3.10196884252564</li>\n",
       "\t<li>2.33293443971328</li>\n",
       "\t<li>4.56322815011479</li>\n",
       "\t<li>3.0724626083974</li>\n",
       "</ol>\n"
      ],
      "text/latex": [
       "\\begin{enumerate*}\n",
       "\\item 3.11283691027971\n",
       "\\item 4.11683270974177\n",
       "\\item 3.10196884252564\n",
       "\\item 2.33293443971328\n",
       "\\item 4.56322815011479\n",
       "\\item 3.0724626083974\n",
       "\\end{enumerate*}\n"
      ],
      "text/markdown": [
       "1. 3.11283691027971\n",
       "2. 4.11683270974177\n",
       "3. 3.10196884252564\n",
       "4. 2.33293443971328\n",
       "5. 4.56322815011479\n",
       "6. 3.0724626083974\n",
       "\n",
       "\n"
      ],
      "text/plain": [
       "[1] 3.112837 4.116833 3.101969 2.332934 4.563228 3.072463"
      ]
     },
     "metadata": {},
     "output_type": "display_data"
    }
   ],
   "source": [
    "jpsimass = invmass(jpsi$px1, jpsi$px2, jpsi$py1, jpsi$py2, \n",
    "                   jpsi$pz1, jpsi$pz2, jpsi$E1, jpsi$E2)\n",
    "\n",
    "head(jpsimass)"
   ]
  },
  {
   "cell_type": "markdown",
   "metadata": {},
   "source": [
    "### Plotting a Histogram\n",
    "\n",
    "Now that we have the values for the invariant mass, we can plot a histogram to see all the data. We can do this in R with the function hist( ):"
   ]
  },
  {
   "cell_type": "code",
   "execution_count": 44,
   "metadata": {},
   "outputs": [],
   "source": [
    "library(repr)\n",
    "options(repr.plot.width=6,repr.plot.height=4 )"
   ]
  },
  {
   "cell_type": "code",
   "execution_count": 45,
   "metadata": {},
   "outputs": [
    {
     "data": {
      "image/png": "[encoded data removed]",
      "text/plain": [
       "Plot with title “Histogram of jpsimass”"
      ]
     },
     "metadata": {},
     "output_type": "display_data"
    }
   ],
   "source": [
    "hist(jpsimass, breaks = 500)\n",
    "\n",
    "# Here, “breaks” indicates the numberof bins. You can experiment \n",
    "# changing this number to see how you can better visualise the data."
   ]
  },
  {
   "cell_type": "markdown",
   "metadata": {},
   "source": [
    "We  can change  the  colours  and  title  of  the  histogram  with  different  commands. Try the  following \n",
    "command:"
   ]
  },
  {
   "cell_type": "code",
   "execution_count": 46,
   "metadata": {},
   "outputs": [
    {
     "data": {
      "image/png": "[encoded data removed]",
      "text/plain": [
       "Plot with title “Invariant Mass Histogram”"
      ]
     },
     "metadata": {},
     "output_type": "display_data"
    }
   ],
   "source": [
    "hist(jpsimass, breaks = 500, xlab = \"Mass (GeV)\", lty=\"blank\", \n",
    "     col=rgb(0,0,1,1/4), main=\"Invariant Mass Histogram\")\n",
    "\n",
    "# Here ‘xlab’ is the title for the x axis, lty=\"blank\" indicates \n",
    "# that there’s no border for the bins in the histogram, ‘main’ is \n",
    "# the title for the histogram and ‘col’ indicates the colour (the \n",
    "# numbers are the values for the red, green, blue and alpha channels)."
   ]
  },
  {
   "cell_type": "markdown",
   "metadata": {},
   "source": [
    "Now in the histogram you can clearly see a very big peak around 3.1 GeV and a smaller peak around 3.7 GeV. These two peaks correspond to the mass of two particles that have di-muon decay (decay into a muon and an anti-muon). If we look in the [Particle Data Group database](http://pdg.lbl.gov/), we find that these two particles are mesons: the \n",
    "J/ψ(1S) meson and the ψ(2S) meson, respectively (although the name of the file -- `Jpsimumu.csv` -- should've given you a clue).\n",
    "\n",
    "You can explore the rest of the files and try to identify the particles that appear in each histogram. To identify the particles, you can take into account the mass and the decay mode and search in the Particle Data Group database."
   ]
  },
  {
   "cell_type": "markdown",
   "metadata": {},
   "source": [
    "## Using Tidyverse\n",
    "\n",
    "The above example of analysis of CMS Open Data uses the so-called \"base R\" software without calling any external packages.\n",
    "However, the [`tidyverse`](https://www.tidyverse.org/) package (which is really a collection of a family of related packages) greatly simplifies both the manipulation/analysis of data and its visualisation.\n",
    "It is fast becoming a standard in the world of data science, and there are good reasons to [teach tidyverse to beginners](http://varianceexplained.org/r/teach-tidyverse/) (see issue [\\#3](https://github.com/cms-opendata-education/cms-rmaterial-multiple-languages/issues/3)).\n",
    "\n",
    "So, we thought we could demonstrate the above analysis of CMS Open Data using the `tidyverse` package not only to show you how you can simplify and steamline your code but also to make your explorations with CMS Open Data using R a little more enjoyable.\n",
    "\n",
    "You can condense the whole process of importating the data, manipulating the variables in the dataset and visualising the contents in the form of a plot using a single, relatively small code chunk (see explanation below):"
   ]
  },
  {
   "cell_type": "code",
   "execution_count": 47,
   "metadata": {},
   "outputs": [
    {
     "data": {
      "image/png": "[encoded data removed]",
      "text/plain": [
       "plot without title"
      ]
     },
     "metadata": {},
     "output_type": "display_data"
    }
   ],
   "source": [
    "suppressMessages(require(tidyverse))\n",
    "\n",
    "read_csv(\"http://opendata.cern.ch/record/545/files/Jpsimumu.csv\", \n",
    "         col_types = cols()) %>% \n",
    "  mutate(ptotal = sqrt((px1+px2)^2 + (py1+py2)^2 + (pz1+pz2)^2), \n",
    "         E = E1+E2, \n",
    "         mass = sqrt(E^2 - ptotal^2)) %>% \n",
    "  ggplot(aes(mass)) + \n",
    "  geom_histogram(bins = 500, fill = \"blue\", alpha = 0.4) + \n",
    "  xlab(\"Mass (GeV)\") + \n",
    "  ylab(\"Frequency\") + \n",
    "  ggtitle(\"Invariant Mass Histogram\") + \n",
    "  theme_bw() + \n",
    "  theme(plot.title = element_text(hjust = 0.5))"
   ]
  },
  {
   "cell_type": "markdown",
   "metadata": {},
   "source": [
    "So what did we just do here?\n",
    "Let us take a look at the code line-by-line:\n",
    "\n",
    "The first line of the code chunk merely calls the `tidyverse` package, with the command `require(tidyverse)`.\n",
    "\n",
    "However, when a package is loaded, it usually announces this fact by listing some information, including potential conflicts with functions from base R or other packages.\n",
    "We can suppress these messages with `suppressMessages()`, without which you might see something like this:\n",
    "\n",
    "```R\n",
    "Loading required package: tidyverse\n",
    "── Attaching packages ─────────────────────────────────────── tidyverse 1.2.1 ──\n",
    "✔ ggplot2 2.2.1     ✔ purrr   0.2.4\n",
    "✔ tibble  1.3.4     ✔ dplyr   0.7.4\n",
    "✔ tidyr   0.7.2     ✔ stringr 1.2.0\n",
    "✔ readr   1.1.1     ✔ forcats 0.2.0\n",
    "── Conflicts ────────────────────────────────────────── tidyverse_conflicts() ──\n",
    "✖ dplyr::filter() masks stats::filter()\n",
    "✖ dplyr::lag()    masks stats::lag()\n",
    "```"
   ]
  },
  {
   "cell_type": "markdown",
   "metadata": {},
   "source": [
    "Now, the next part of the code can be treated as a single sentence: \"**Read** this file, THEN **mutate** its contents to create new variables including `mass`, THEN **plot** `mass` with some specified parameters.\"\n",
    "\n",
    "Essentially, these are the main functions you're using (along with the \"piping\" operator `%>%`):\n",
    "\n",
    "|Function 1|   |Function 2||Function 3|\n",
    "|:--|:--|:--|:--|:--|\n",
    "|**Read** this file|THEN|**mutate** its contents|THEN|**plot** it.|\n",
    "|`read_csv()`|`%>%`|`mutate()`|`%>%`|`ggplot()`|"
   ]
  },
  {
   "cell_type": "markdown",
   "metadata": {},
   "source": [
    "- `read_csv()` comes from the `readr` package, and takes two arguments here:\n",
    "    1. The CSV file that needs to be read, and\n",
    "    1. an optional argument for suppressing the column specification based on the headers in the CSV file.\n",
    "\n"
   ]
  },
  {
   "cell_type": "code",
   "execution_count": 32,
   "metadata": {},
   "outputs": [
    {
     "name": "stderr",
     "output_type": "stream",
     "text": [
      "Parsed with column specification:\n",
      "cols(\n",
      "  .default = col_double(),\n",
      "  type1 = \u001b[31mcol_character()\u001b[39m,\n",
      "  type2 = \u001b[31mcol_character()\u001b[39m\n",
      ")\n",
      "See spec(...) for full column specifications.\n"
     ]
    },
    {
     "data": {
      "text/html": [
       "<table>\n",
       "<caption>A spec_tbl_df: 20000 x 20</caption>\n",
       "<thead>\n",
       "\t<tr><th scope=col>Run</th><th scope=col>Event</th><th scope=col>type1</th><th scope=col>E1</th><th scope=col>px1</th><th scope=col>py1</th><th scope=col>pz1</th><th scope=col>pt1</th><th scope=col>eta1</th><th scope=col>phi1</th><th scope=col>Q1</th><th scope=col>type2</th><th scope=col>E2</th><th scope=col>px2</th><th scope=col>py2</th><th scope=col>pz2</th><th scope=col>pt2</th><th scope=col>eta2</th><th scope=col>phi2</th><th scope=col>Q2</th></tr>\n",
       "\t<tr><th scope=col>&lt;dbl&gt;</th><th scope=col>&lt;dbl&gt;</th><th scope=col>&lt;chr&gt;</th><th scope=col>&lt;dbl&gt;</th><th scope=col>&lt;dbl&gt;</th><th scope=col>&lt;dbl&gt;</th><th scope=col>&lt;dbl&gt;</th><th scope=col>&lt;dbl&gt;</th><th scope=col>&lt;dbl&gt;</th><th scope=col>&lt;dbl&gt;</th><th scope=col>&lt;dbl&gt;</th><th scope=col>&lt;chr&gt;</th><th scope=col>&lt;dbl&gt;</th><th scope=col>&lt;dbl&gt;</th><th scope=col>&lt;dbl&gt;</th><th scope=col>&lt;dbl&gt;</th><th scope=col>&lt;dbl&gt;</th><th scope=col>&lt;dbl&gt;</th><th scope=col>&lt;dbl&gt;</th><th scope=col>&lt;dbl&gt;</th></tr>\n",
       "</thead>\n",
       "<tbody>\n",
       "\t<tr><td>165617</td><td>75206813</td><td>G</td><td> 10.1623</td><td>  0.4763</td><td> -8.5164</td><td>   5.5231</td><td> 8.5297</td><td> 0.6091</td><td>-1.5149</td><td>-1</td><td>G</td><td>19.7754</td><td>  2.7508</td><td>-13.9871</td><td> 13.7059</td><td>14.2550</td><td> 0.8539</td><td>-1.3766</td><td> 1</td></tr>\n",
       "\t<tr><td>165617</td><td>75678475</td><td>G</td><td> 15.8799</td><td> 15.0618</td><td> -1.6658</td><td>  -4.7464</td><td>15.1536</td><td>-0.3083</td><td>-0.1102</td><td> 1</td><td>G</td><td>11.9338</td><td> 11.9084</td><td> -0.7670</td><td> -0.0851</td><td>11.9330</td><td>-0.0071</td><td>-0.0643</td><td>-1</td></tr>\n",
       "\t<tr><td>165617</td><td>74428554</td><td>G</td><td> 21.8279</td><td> -6.2214</td><td> 11.0845</td><td>  17.7447</td><td>12.7111</td><td> 1.1357</td><td> 2.0823</td><td>-1</td><td>G</td><td>36.6513</td><td>-10.6874</td><td> 15.0692</td><td> 31.6544</td><td>18.4743</td><td> 1.3076</td><td> 2.1877</td><td> 1</td></tr>\n",
       "\t<tr><td>165617</td><td>75193169</td><td>G</td><td> 19.4923</td><td>  2.7612</td><td> -5.5769</td><td> -18.4719</td><td> 6.2230</td><td>-1.8084</td><td>-1.1111</td><td> 1</td><td>G</td><td>14.9334</td><td>  1.5525</td><td> -6.1254</td><td>-13.5302</td><td> 6.3190</td><td>-1.5050</td><td>-1.3226</td><td>-1</td></tr>\n",
       "\t<tr><td>165617</td><td>74832715</td><td>G</td><td>  8.0972</td><td>  4.6127</td><td> -1.8389</td><td>   6.3949</td><td> 4.9657</td><td> 1.0710</td><td>-0.3793</td><td>-1</td><td>T</td><td> 3.5131</td><td> -0.5305</td><td>  0.6880</td><td>  3.4024</td><td> 0.8688</td><td> 2.0742</td><td> 2.2276</td><td> 1</td></tr>\n",
       "\t<tr><td>165617</td><td>74981507</td><td>G</td><td> 30.5862</td><td> 15.5218</td><td>  5.1293</td><td> -25.8509</td><td>16.3474</td><td>-1.2391</td><td> 0.3192</td><td> 1</td><td>G</td><td>12.4868</td><td>  7.7640</td><td>  1.0425</td><td> -9.7233</td><td> 7.8337</td><td>-1.0421</td><td> 0.1335</td><td>-1</td></tr>\n",
       "\t<tr><td>165617</td><td>75612982</td><td>G</td><td>  7.5544</td><td>  1.2913</td><td> -5.3588</td><td>  -5.1646</td><td> 5.5122</td><td>-0.8361</td><td>-1.3343</td><td>-1</td><td>T</td><td> 3.8416</td><td> -0.9896</td><td> -3.4548</td><td> -1.3534</td><td> 3.5938</td><td>-0.3682</td><td>-1.8498</td><td> 1</td></tr>\n",
       "\t<tr><td>165617</td><td>74760204</td><td>G</td><td> 24.6376</td><td>  9.9836</td><td> 19.1426</td><td> -11.8697</td><td>21.5896</td><td>-0.5253</td><td> 1.0901</td><td> 1</td><td>G</td><td>11.0213</td><td>  3.3785</td><td>  7.8272</td><td> -6.9841</td><td> 8.5252</td><td>-0.7476</td><td> 1.1633</td><td>-1</td></tr>\n",
       "\t<tr><td>165617</td><td>75017052</td><td>G</td><td> 22.5057</td><td>  5.6296</td><td> -9.9497</td><td>  19.3857</td><td>11.4319</td><td> 1.2987</td><td>-1.0559</td><td> 1</td><td>G</td><td>30.5709</td><td>  4.9468</td><td>-13.6360</td><td> 26.9102</td><td>14.5055</td><td> 1.3769</td><td>-1.2228</td><td>-1</td></tr>\n",
       "\t<tr><td>165617</td><td>75204668</td><td>G</td><td> 10.7051</td><td> -8.4664</td><td> -2.2374</td><td>  -6.1564</td><td> 8.7571</td><td>-0.6551</td><td>-2.8832</td><td> 1</td><td>G</td><td>55.1896</td><td>-45.0429</td><td>-16.6152</td><td>-27.2205</td><td>48.0096</td><td>-0.5403</td><td>-2.7882</td><td>-1</td></tr>\n",
       "\t<tr><td>165617</td><td>75682819</td><td>G</td><td> 22.6067</td><td>  5.0267</td><td> -0.3155</td><td>  22.0383</td><td> 5.0366</td><td> 2.1820</td><td>-0.0627</td><td> 1</td><td>G</td><td>17.8797</td><td>  2.7987</td><td>  2.0567</td><td> 17.5388</td><td> 3.4732</td><td> 2.3222</td><td> 0.6338</td><td>-1</td></tr>\n",
       "\t<tr><td>165617</td><td>75891163</td><td>G</td><td> 11.6778</td><td> 10.7636</td><td>  2.2556</td><td>  -3.9266</td><td>10.9974</td><td>-0.3499</td><td> 0.2066</td><td> 1</td><td>G</td><td>11.1458</td><td>  9.0065</td><td>  3.4698</td><td> -5.5732</td><td> 9.6517</td><td>-0.5494</td><td> 0.3677</td><td>-1</td></tr>\n",
       "\t<tr><td>165617</td><td>74949022</td><td>G</td><td> 22.4059</td><td>  1.3759</td><td>  7.2096</td><td> -21.1694</td><td> 7.3397</td><td>-1.7812</td><td> 1.3822</td><td>-1</td><td>T</td><td> 4.7813</td><td> -0.5663</td><td>  0.7255</td><td> -4.6907</td><td> 0.9204</td><td>-2.3312</td><td> 2.2335</td><td> 1</td></tr>\n",
       "\t<tr><td>165617</td><td>75818801</td><td>G</td><td> 25.2596</td><td> 23.5556</td><td>  3.1909</td><td>   8.5432</td><td>23.7708</td><td> 0.3521</td><td> 0.1346</td><td> 1</td><td>G</td><td>11.7166</td><td> 10.4432</td><td>  1.1288</td><td>  5.1896</td><td>10.5040</td><td> 0.4759</td><td> 0.1077</td><td>-1</td></tr>\n",
       "\t<tr><td>165617</td><td>74875638</td><td>G</td><td> 23.0765</td><td>  4.4733</td><td>  7.9045</td><td>  21.2138</td><td> 9.0825</td><td> 1.5844</td><td> 1.0558</td><td>-1</td><td>T</td><td>25.5421</td><td>  1.9891</td><td>  7.7265</td><td> 24.2637</td><td> 7.9785</td><td> 1.8314</td><td> 1.3188</td><td> 1</td></tr>\n",
       "\t<tr><td>165617</td><td>76187234</td><td>G</td><td>  9.7908</td><td> -1.6247</td><td>  2.0609</td><td>   9.4320</td><td> 2.6243</td><td> 1.9912</td><td> 2.2384</td><td> 1</td><td>G</td><td>11.7080</td><td>  1.3215</td><td>  1.7092</td><td> 11.5064</td><td> 2.1605</td><td> 2.3744</td><td> 0.9126</td><td>-1</td></tr>\n",
       "\t<tr><td>165617</td><td>76650121</td><td>G</td><td> 14.5875</td><td> -6.1673</td><td> 12.5515</td><td>  -4.1482</td><td>13.9849</td><td>-0.2924</td><td> 2.0275</td><td> 1</td><td>G</td><td>10.6562</td><td> -3.3095</td><td>  8.6271</td><td> -5.3071</td><td> 9.2401</td><td>-0.5467</td><td> 1.9371</td><td>-1</td></tr>\n",
       "\t<tr><td>165617</td><td>76624220</td><td>G</td><td>  8.8197</td><td> -0.0263</td><td>  2.5635</td><td>  -8.4383</td><td> 2.5636</td><td>-1.9068</td><td> 1.5810</td><td>-1</td><td>T</td><td> 7.4905</td><td> -1.2713</td><td> -0.6276</td><td> -7.3543</td><td> 1.4178</td><td>-2.3485</td><td>-2.6830</td><td> 1</td></tr>\n",
       "\t<tr><td>165617</td><td>76796604</td><td>G</td><td> 13.5186</td><td>  5.4299</td><td>  7.9615</td><td>  -9.4801</td><td> 9.6369</td><td>-0.8698</td><td> 0.9722</td><td> 1</td><td>G</td><td>12.9792</td><td>  7.0747</td><td>  5.3189</td><td> -9.4925</td><td> 8.8511</td><td>-0.9317</td><td> 0.6447</td><td>-1</td></tr>\n",
       "\t<tr><td>165617</td><td>76691627</td><td>G</td><td>  4.8860</td><td> -4.2066</td><td> -2.0383</td><td>   1.4184</td><td> 4.6744</td><td> 0.2990</td><td>-2.6904</td><td> 1</td><td>T</td><td> 5.2678</td><td> -2.2166</td><td> -2.7244</td><td>  3.9246</td><td> 3.5122</td><td> 0.9620</td><td>-2.2538</td><td>-1</td></tr>\n",
       "\t<tr><td>165617</td><td>77405245</td><td>G</td><td> 15.7236</td><td>  5.8886</td><td> -8.8699</td><td> -11.5702</td><td>10.6466</td><td>-0.9414</td><td>-0.9847</td><td>-1</td><td>T</td><td> 3.5067</td><td>  1.0852</td><td> -1.0631</td><td> -3.1588</td><td> 1.5191</td><td>-1.4786</td><td>-0.7751</td><td> 1</td></tr>\n",
       "\t<tr><td>165617</td><td>77028337</td><td>G</td><td> 18.8749</td><td>  4.7479</td><td> 18.2027</td><td>   1.5389</td><td>18.8118</td><td> 0.0817</td><td> 1.3156</td><td> 1</td><td>G</td><td> 9.7934</td><td>  0.4561</td><td>  9.6741</td><td>  1.4505</td><td> 9.6849</td><td> 0.1492</td><td> 1.5237</td><td>-1</td></tr>\n",
       "\t<tr><td>165617</td><td>77061433</td><td>G</td><td> 23.4741</td><td> 19.8385</td><td>-12.2262</td><td>  -2.8245</td><td>23.3033</td><td>-0.1209</td><td>-0.5523</td><td> 1</td><td>G</td><td>22.4032</td><td> 17.1602</td><td>-13.9707</td><td> -3.4987</td><td>22.1281</td><td>-0.1575</td><td>-0.6833</td><td>-1</td></tr>\n",
       "\t<tr><td>165617</td><td>77358505</td><td>G</td><td> 30.7500</td><td> -7.3635</td><td> 15.1631</td><td> -25.7179</td><td>16.8564</td><td>-1.2089</td><td> 2.0229</td><td> 1</td><td>G</td><td> 5.9023</td><td> -2.2575</td><td>  3.1225</td><td> -4.4699</td><td> 3.8531</td><td>-0.9902</td><td> 2.1968</td><td>-1</td></tr>\n",
       "\t<tr><td>165617</td><td>76149397</td><td>G</td><td> 20.7971</td><td>-14.4118</td><td>  0.1627</td><td> -14.9927</td><td>14.4127</td><td>-0.9095</td><td> 3.1303</td><td> 1</td><td>G</td><td>14.4089</td><td>-10.9596</td><td> -1.0203</td><td> -9.2979</td><td>11.0070</td><td>-0.7672</td><td>-3.0488</td><td>-1</td></tr>\n",
       "\t<tr><td>165617</td><td>76456028</td><td>G</td><td>  9.5444</td><td> -0.3567</td><td>  8.5992</td><td>   4.1245</td><td> 8.6066</td><td> 0.4625</td><td> 1.6123</td><td>-1</td><td>G</td><td> 8.5554</td><td>  1.1114</td><td>  8.2858</td><td>  1.8150</td><td> 8.3600</td><td> 0.2154</td><td> 1.4375</td><td> 1</td></tr>\n",
       "\t<tr><td>165617</td><td>77284054</td><td>G</td><td> 17.4321</td><td>  4.4650</td><td>  2.5288</td><td>  16.6594</td><td> 5.1314</td><td> 1.8937</td><td> 0.5153</td><td> 1</td><td>G</td><td> 7.2637</td><td>  3.4274</td><td>  2.0304</td><td>  6.0729</td><td> 3.9837</td><td> 1.2082</td><td> 0.5348</td><td>-1</td></tr>\n",
       "\t<tr><td>165617</td><td>77411254</td><td>G</td><td> 24.3180</td><td>-14.7649</td><td>-13.2682</td><td>  14.0465</td><td>19.8507</td><td> 0.6589</td><td>-2.4095</td><td> 1</td><td>G</td><td>11.9776</td><td> -5.6352</td><td> -7.8899</td><td>  7.0319</td><td> 9.6956</td><td> 0.6732</td><td>-2.1910</td><td>-1</td></tr>\n",
       "\t<tr><td>165617</td><td>76225718</td><td>G</td><td>136.6910</td><td> -8.0503</td><td> 29.9944</td><td>-133.1160</td><td>31.0560</td><td>-2.1619</td><td> 1.8330</td><td> 1</td><td>G</td><td>13.8132</td><td> -1.6454</td><td>  2.4869</td><td>-13.4870</td><td> 2.9819</td><td>-2.2143</td><td> 2.1553</td><td>-1</td></tr>\n",
       "\t<tr><td>165617</td><td>76954616</td><td>G</td><td> 14.5144</td><td> -4.9387</td><td> -3.0734</td><td> -13.2974</td><td> 5.8169</td><td>-1.5647</td><td>-2.5849</td><td>-1</td><td>T</td><td>32.6892</td><td>-10.3778</td><td>-11.0843</td><td>-28.9485</td><td>15.1842</td><td>-1.4010</td><td>-2.3233</td><td> 1</td></tr>\n",
       "\t<tr><td>...</td><td>...</td><td>...</td><td>...</td><td>...</td><td>...</td><td>...</td><td>...</td><td>...</td><td>...</td><td>...</td><td>...</td><td>...</td><td>...</td><td>...</td><td>...</td><td>...</td><td>...</td><td>...</td><td>...</td></tr>\n",
       "\t<tr><td>163796</td><td>149207305</td><td>G</td><td>15.5972</td><td> -7.8392</td><td>  2.8360</td><td> 13.1820</td><td> 8.3365</td><td> 1.2390</td><td> 2.7945</td><td>-1</td><td>G</td><td>12.2945</td><td> -8.0903</td><td>  3.2608</td><td>  8.6636</td><td> 8.7227</td><td> 0.8766</td><td> 2.7585</td><td> 1</td></tr>\n",
       "\t<tr><td>163796</td><td>149315049</td><td>G</td><td>16.8834</td><td> -8.5568</td><td> -1.3469</td><td> 14.4915</td><td> 8.6622</td><td> 1.2870</td><td>-2.9855</td><td>-1</td><td>G</td><td>21.2442</td><td>-12.6907</td><td> -4.0003</td><td> 16.5604</td><td>13.3063</td><td> 1.0442</td><td>-2.8362</td><td> 1</td></tr>\n",
       "\t<tr><td>163796</td><td>149355681</td><td>G</td><td>11.9093</td><td> -3.0186</td><td>  6.6834</td><td> -9.3830</td><td> 7.3335</td><td>-1.0659</td><td> 1.9950</td><td>-1</td><td>G</td><td>10.3783</td><td> -4.6308</td><td>  6.7759</td><td> -6.3514</td><td> 8.2071</td><td>-0.7122</td><td> 2.1703</td><td> 1</td></tr>\n",
       "\t<tr><td>163796</td><td>149481057</td><td>G</td><td>26.1230</td><td> -5.2789</td><td> -6.0937</td><td>-24.8476</td><td> 8.0622</td><td>-1.8441</td><td>-2.2847</td><td> 1</td><td>T</td><td> 5.3567</td><td> -2.1285</td><td>  0.0192</td><td> -4.9145</td><td> 2.1286</td><td>-1.5738</td><td> 3.1326</td><td>-1</td></tr>\n",
       "\t<tr><td>163796</td><td>127223731</td><td>G</td><td>10.1770</td><td> -9.4206</td><td> -1.4066</td><td>  3.5825</td><td> 9.5251</td><td> 0.3678</td><td>-2.9934</td><td>-1</td><td>G</td><td>11.1076</td><td> -9.7796</td><td>  0.6579</td><td>  5.2245</td><td> 9.8017</td><td> 0.5105</td><td> 3.0744</td><td> 1</td></tr>\n",
       "\t<tr><td>163796</td><td>127345177</td><td>G</td><td>17.0428</td><td> -0.0829</td><td>  9.6262</td><td> 14.0632</td><td> 9.6266</td><td> 1.1729</td><td> 1.5794</td><td>-1</td><td>G</td><td>14.3060</td><td> -2.0040</td><td>  8.3575</td><td> 11.4362</td><td> 8.5944</td><td> 1.0970</td><td> 1.8061</td><td> 1</td></tr>\n",
       "\t<tr><td>163796</td><td>127876076</td><td>G</td><td>12.9543</td><td> -0.8355</td><td>  6.5551</td><td>-11.1416</td><td> 6.6081</td><td>-1.2937</td><td> 1.6976</td><td> 1</td><td>G</td><td>11.8499</td><td> -1.8125</td><td>  7.5936</td><td> -8.9141</td><td> 7.8069</td><td>-0.9782</td><td> 1.8051</td><td>-1</td></tr>\n",
       "\t<tr><td>163796</td><td>127946460</td><td>G</td><td>35.2379</td><td>-16.6787</td><td> -8.8567</td><td> 29.7503</td><td>18.8843</td><td> 1.2359</td><td>-2.6534</td><td> 1</td><td>G</td><td> 9.9190</td><td> -5.6336</td><td> -1.2154</td><td>  8.0723</td><td> 5.7632</td><td> 1.1384</td><td>-2.9291</td><td>-1</td></tr>\n",
       "\t<tr><td>163796</td><td>127401310</td><td>G</td><td> 8.1951</td><td> -3.5956</td><td>  1.2288</td><td> -7.2602</td><td> 3.7998</td><td>-1.4030</td><td> 2.8123</td><td> 1</td><td>G</td><td>15.1498</td><td> -2.7628</td><td>  3.3242</td><td>-14.5197</td><td> 4.3224</td><td>-1.9263</td><td> 2.2642</td><td>-1</td></tr>\n",
       "\t<tr><td>163796</td><td>127486478</td><td>G</td><td>15.0133</td><td>  1.7625</td><td>  7.5468</td><td>-12.8580</td><td> 7.7499</td><td>-1.2799</td><td> 1.3414</td><td>-1</td><td>G</td><td>12.6251</td><td>  2.1125</td><td>  8.4802</td><td> -9.1107</td><td> 8.7394</td><td>-0.9111</td><td> 1.3267</td><td> 1</td></tr>\n",
       "\t<tr><td>163796</td><td>127637742</td><td>G</td><td> 8.7668</td><td> -7.0678</td><td>  4.7861</td><td>  1.9961</td><td> 8.5359</td><td> 0.2318</td><td> 2.5463</td><td>-1</td><td>G</td><td>12.2562</td><td>-10.1579</td><td>  4.1937</td><td>  5.4251</td><td>10.9896</td><td> 0.4755</td><td> 2.7501</td><td> 1</td></tr>\n",
       "\t<tr><td>163796</td><td>127683182</td><td>G</td><td>17.0841</td><td>  7.2057</td><td> -2.2961</td><td>-15.3187</td><td> 7.5626</td><td>-1.4550</td><td>-0.3085</td><td>-1</td><td>G</td><td>10.2011</td><td>  6.1504</td><td> -0.5348</td><td> -8.1202</td><td> 6.1736</td><td>-1.0877</td><td>-0.0867</td><td> 1</td></tr>\n",
       "\t<tr><td>163796</td><td>127813281</td><td>G</td><td>10.8238</td><td> -4.0188</td><td> -9.9947</td><td>  1.0478</td><td>10.7724</td><td> 0.0971</td><td>-1.9531</td><td> 1</td><td>G</td><td>12.1513</td><td> -2.8641</td><td>-11.1163</td><td>  3.9834</td><td>11.4794</td><td> 0.3404</td><td>-1.8230</td><td>-1</td></tr>\n",
       "\t<tr><td>163796</td><td>127422577</td><td>G</td><td> 6.7183</td><td> -0.9716</td><td>  1.6015</td><td> -6.4510</td><td> 1.8732</td><td>-1.9502</td><td> 2.1161</td><td>-1</td><td>G</td><td> 7.8192</td><td> -1.1947</td><td> -1.3330</td><td> -7.6108</td><td> 1.7900</td><td>-2.1540</td><td>-2.3015</td><td> 1</td></tr>\n",
       "\t<tr><td>163796</td><td>127786724</td><td>G</td><td>15.9709</td><td>  2.8540</td><td>  6.9966</td><td> 14.0699</td><td> 7.5563</td><td> 1.3802</td><td> 1.1835</td><td>-1</td><td>G</td><td>10.0264</td><td>  3.7430</td><td>  5.2704</td><td>  7.6636</td><td> 6.4643</td><td> 1.0067</td><td> 0.9533</td><td> 1</td></tr>\n",
       "\t<tr><td>163796</td><td>127188049</td><td>G</td><td> 8.0245</td><td> -0.5517</td><td>  7.9914</td><td>  0.4627</td><td> 8.0105</td><td> 0.0577</td><td> 1.6397</td><td> 1</td><td>G</td><td> 6.8765</td><td> -4.3954</td><td>  5.2793</td><td> -0.2899</td><td> 6.8695</td><td>-0.0422</td><td> 2.2651</td><td>-1</td></tr>\n",
       "\t<tr><td>163796</td><td>127495047</td><td>G</td><td>19.5909</td><td> -6.9154</td><td> -4.0572</td><td>-17.8749</td><td> 8.0177</td><td>-1.5418</td><td>-2.6110</td><td> 1</td><td>G</td><td>10.4380</td><td> -5.2933</td><td> -3.2193</td><td> -8.3998</td><td> 6.1954</td><td>-1.1120</td><td>-2.5952</td><td>-1</td></tr>\n",
       "\t<tr><td>163796</td><td>127754186</td><td>G</td><td> 6.8811</td><td> -4.0389</td><td>  5.4581</td><td> -1.1113</td><td> 6.7900</td><td>-0.1629</td><td> 2.2079</td><td>-1</td><td>G</td><td> 9.7440</td><td> -6.0734</td><td>  7.3182</td><td>  2.1193</td><td> 9.5101</td><td> 0.2210</td><td> 2.2635</td><td> 1</td></tr>\n",
       "\t<tr><td>163796</td><td>127959410</td><td>G</td><td>43.0596</td><td>-13.3964</td><td> 17.2464</td><td>-37.1108</td><td>21.8381</td><td>-1.3005</td><td> 2.2312</td><td> 1</td><td>G</td><td>21.5540</td><td> -5.4500</td><td>  7.8037</td><td>-19.3382</td><td> 9.5184</td><td>-1.4577</td><td> 2.1804</td><td>-1</td></tr>\n",
       "\t<tr><td>163796</td><td>127308149</td><td>G</td><td>13.0274</td><td> -5.8608</td><td> -4.1203</td><td>-10.8801</td><td> 7.1642</td><td>-1.2051</td><td>-2.5288</td><td>-1</td><td>G</td><td>23.7872</td><td>-13.4641</td><td> -4.5329</td><td>-19.0785</td><td>14.2066</td><td>-1.1044</td><td>-2.8168</td><td> 1</td></tr>\n",
       "\t<tr><td>163796</td><td>127362243</td><td>G</td><td>33.3041</td><td>  4.2829</td><td> -6.9550</td><td> 32.2868</td><td> 8.1680</td><td> 2.0832</td><td>-1.0188</td><td>-1</td><td>T</td><td> 8.5611</td><td>  2.0668</td><td> -0.5047</td><td>  8.2919</td><td> 2.1275</td><td> 2.0695</td><td>-0.2395</td><td> 1</td></tr>\n",
       "\t<tr><td>163796</td><td>127503307</td><td>G</td><td> 8.8526</td><td> -4.5409</td><td> -3.9311</td><td> -6.5027</td><td> 6.0061</td><td>-0.9386</td><td>-2.4280</td><td> 1</td><td>G</td><td> 5.4132</td><td> -0.6602</td><td> -3.5092</td><td> -4.0671</td><td> 3.5708</td><td>-0.9763</td><td>-1.7567</td><td>-1</td></tr>\n",
       "\t<tr><td>163796</td><td>127520099</td><td>G</td><td> 6.1346</td><td> -4.5181</td><td>  3.2249</td><td> -2.6094</td><td> 5.5509</td><td>-0.4543</td><td> 2.5217</td><td>-1</td><td>G</td><td> 4.1834</td><td> -4.1607</td><td> -0.1940</td><td>  0.3754</td><td> 4.1652</td><td> 0.0900</td><td>-3.0950</td><td> 1</td></tr>\n",
       "\t<tr><td>163796</td><td>127669111</td><td>G</td><td> 9.5289</td><td> -5.9913</td><td> -1.6727</td><td> -7.2177</td><td> 6.2204</td><td>-0.9903</td><td>-2.8693</td><td> 1</td><td>G</td><td> 5.5485</td><td> -4.1153</td><td> -2.6338</td><td> -2.6273</td><td> 4.8860</td><td>-0.5147</td><td>-2.5723</td><td>-1</td></tr>\n",
       "\t<tr><td>163796</td><td>127974378</td><td>G</td><td> 9.1003</td><td> -6.2812</td><td> -3.1040</td><td> -5.8066</td><td> 7.0062</td><td>-0.7550</td><td>-2.6826</td><td> 1</td><td>G</td><td>28.5352</td><td>-21.3514</td><td> -3.4322</td><td>-18.6168</td><td>21.6255</td><td>-0.7795</td><td>-2.9822</td><td>-1</td></tr>\n",
       "\t<tr><td>163796</td><td>127190648</td><td>G</td><td>20.3600</td><td>  9.1811</td><td>  7.6371</td><td>-16.4894</td><td>11.9423</td><td>-1.1267</td><td> 0.6939</td><td>-1</td><td>G</td><td> 8.1878</td><td>  4.2811</td><td>  4.4597</td><td> -5.3678</td><td> 6.1819</td><td>-0.7851</td><td> 0.8058</td><td> 1</td></tr>\n",
       "\t<tr><td>163796</td><td>127218144</td><td>G</td><td>11.4697</td><td> -1.6944</td><td>  6.4898</td><td> -9.3035</td><td> 6.7073</td><td>-1.1304</td><td> 1.8262</td><td>-1</td><td>G</td><td>12.0051</td><td> -2.2652</td><td>  9.0200</td><td> -7.5908</td><td> 9.3001</td><td>-0.7453</td><td> 1.8168</td><td> 1</td></tr>\n",
       "\t<tr><td>163796</td><td>127418342</td><td>G</td><td> 7.8173</td><td>  4.7081</td><td> -4.8603</td><td> -3.9128</td><td> 6.7668</td><td>-0.5501</td><td>-0.8013</td><td> 1</td><td>G</td><td>10.7875</td><td>  7.8230</td><td> -3.5396</td><td> -6.5291</td><td> 8.5865</td><td>-0.7014</td><td>-0.4249</td><td>-1</td></tr>\n",
       "\t<tr><td>163796</td><td>127439838</td><td>G</td><td>11.2399</td><td> -8.7510</td><td> -5.7406</td><td> -4.0975</td><td>10.4658</td><td>-0.3821</td><td>-2.5610</td><td> 1</td><td>G</td><td>17.7455</td><td>-12.2635</td><td>-11.9949</td><td> -4.5412</td><td>17.1543</td><td>-0.2617</td><td>-2.3673</td><td>-1</td></tr>\n",
       "\t<tr><td>163796</td><td>127493066</td><td>G</td><td>17.5006</td><td> -1.9977</td><td>-14.7369</td><td> -9.2246</td><td>14.8716</td><td>-0.5861</td><td>-1.7055</td><td> 1</td><td>G</td><td> 6.8044</td><td> -2.5769</td><td> -5.6052</td><td> -2.8688</td><td> 6.1691</td><td>-0.4497</td><td>-2.0017</td><td>-1</td></tr>\n",
       "</tbody>\n",
       "</table>\n"
      ],
      "text/latex": [
       "A spec_tbl_df: 20000 x 20\n",
       "\\begin{tabular}{r|llllllllllllllllllll}\n",
       " Run & Event & type1 & E1 & px1 & py1 & pz1 & pt1 & eta1 & phi1 & Q1 & type2 & E2 & px2 & py2 & pz2 & pt2 & eta2 & phi2 & Q2\\\\\n",
       " <dbl> & <dbl> & <chr> & <dbl> & <dbl> & <dbl> & <dbl> & <dbl> & <dbl> & <dbl> & <dbl> & <chr> & <dbl> & <dbl> & <dbl> & <dbl> & <dbl> & <dbl> & <dbl> & <dbl>\\\\\n",
       "\\hline\n",
       "\t 165617 & 75206813 & G &  10.1623 &   0.4763 &  -8.5164 &    5.5231 &  8.5297 &  0.6091 & -1.5149 & -1 & G & 19.7754 &   2.7508 & -13.9871 &  13.7059 & 14.2550 &  0.8539 & -1.3766 &  1\\\\\n",
       "\t 165617 & 75678475 & G &  15.8799 &  15.0618 &  -1.6658 &   -4.7464 & 15.1536 & -0.3083 & -0.1102 &  1 & G & 11.9338 &  11.9084 &  -0.7670 &  -0.0851 & 11.9330 & -0.0071 & -0.0643 & -1\\\\\n",
       "\t 165617 & 74428554 & G &  21.8279 &  -6.2214 &  11.0845 &   17.7447 & 12.7111 &  1.1357 &  2.0823 & -1 & G & 36.6513 & -10.6874 &  15.0692 &  31.6544 & 18.4743 &  1.3076 &  2.1877 &  1\\\\\n",
       "\t 165617 & 75193169 & G &  19.4923 &   2.7612 &  -5.5769 &  -18.4719 &  6.2230 & -1.8084 & -1.1111 &  1 & G & 14.9334 &   1.5525 &  -6.1254 & -13.5302 &  6.3190 & -1.5050 & -1.3226 & -1\\\\\n",
       "\t 165617 & 74832715 & G &   8.0972 &   4.6127 &  -1.8389 &    6.3949 &  4.9657 &  1.0710 & -0.3793 & -1 & T &  3.5131 &  -0.5305 &   0.6880 &   3.4024 &  0.8688 &  2.0742 &  2.2276 &  1\\\\\n",
       "\t 165617 & 74981507 & G &  30.5862 &  15.5218 &   5.1293 &  -25.8509 & 16.3474 & -1.2391 &  0.3192 &  1 & G & 12.4868 &   7.7640 &   1.0425 &  -9.7233 &  7.8337 & -1.0421 &  0.1335 & -1\\\\\n",
       "\t 165617 & 75612982 & G &   7.5544 &   1.2913 &  -5.3588 &   -5.1646 &  5.5122 & -0.8361 & -1.3343 & -1 & T &  3.8416 &  -0.9896 &  -3.4548 &  -1.3534 &  3.5938 & -0.3682 & -1.8498 &  1\\\\\n",
       "\t 165617 & 74760204 & G &  24.6376 &   9.9836 &  19.1426 &  -11.8697 & 21.5896 & -0.5253 &  1.0901 &  1 & G & 11.0213 &   3.3785 &   7.8272 &  -6.9841 &  8.5252 & -0.7476 &  1.1633 & -1\\\\\n",
       "\t 165617 & 75017052 & G &  22.5057 &   5.6296 &  -9.9497 &   19.3857 & 11.4319 &  1.2987 & -1.0559 &  1 & G & 30.5709 &   4.9468 & -13.6360 &  26.9102 & 14.5055 &  1.3769 & -1.2228 & -1\\\\\n",
       "\t 165617 & 75204668 & G &  10.7051 &  -8.4664 &  -2.2374 &   -6.1564 &  8.7571 & -0.6551 & -2.8832 &  1 & G & 55.1896 & -45.0429 & -16.6152 & -27.2205 & 48.0096 & -0.5403 & -2.7882 & -1\\\\\n",
       "\t 165617 & 75682819 & G &  22.6067 &   5.0267 &  -0.3155 &   22.0383 &  5.0366 &  2.1820 & -0.0627 &  1 & G & 17.8797 &   2.7987 &   2.0567 &  17.5388 &  3.4732 &  2.3222 &  0.6338 & -1\\\\\n",
       "\t 165617 & 75891163 & G &  11.6778 &  10.7636 &   2.2556 &   -3.9266 & 10.9974 & -0.3499 &  0.2066 &  1 & G & 11.1458 &   9.0065 &   3.4698 &  -5.5732 &  9.6517 & -0.5494 &  0.3677 & -1\\\\\n",
       "\t 165617 & 74949022 & G &  22.4059 &   1.3759 &   7.2096 &  -21.1694 &  7.3397 & -1.7812 &  1.3822 & -1 & T &  4.7813 &  -0.5663 &   0.7255 &  -4.6907 &  0.9204 & -2.3312 &  2.2335 &  1\\\\\n",
       "\t 165617 & 75818801 & G &  25.2596 &  23.5556 &   3.1909 &    8.5432 & 23.7708 &  0.3521 &  0.1346 &  1 & G & 11.7166 &  10.4432 &   1.1288 &   5.1896 & 10.5040 &  0.4759 &  0.1077 & -1\\\\\n",
       "\t 165617 & 74875638 & G &  23.0765 &   4.4733 &   7.9045 &   21.2138 &  9.0825 &  1.5844 &  1.0558 & -1 & T & 25.5421 &   1.9891 &   7.7265 &  24.2637 &  7.9785 &  1.8314 &  1.3188 &  1\\\\\n",
       "\t 165617 & 76187234 & G &   9.7908 &  -1.6247 &   2.0609 &    9.4320 &  2.6243 &  1.9912 &  2.2384 &  1 & G & 11.7080 &   1.3215 &   1.7092 &  11.5064 &  2.1605 &  2.3744 &  0.9126 & -1\\\\\n",
       "\t 165617 & 76650121 & G &  14.5875 &  -6.1673 &  12.5515 &   -4.1482 & 13.9849 & -0.2924 &  2.0275 &  1 & G & 10.6562 &  -3.3095 &   8.6271 &  -5.3071 &  9.2401 & -0.5467 &  1.9371 & -1\\\\\n",
       "\t 165617 & 76624220 & G &   8.8197 &  -0.0263 &   2.5635 &   -8.4383 &  2.5636 & -1.9068 &  1.5810 & -1 & T &  7.4905 &  -1.2713 &  -0.6276 &  -7.3543 &  1.4178 & -2.3485 & -2.6830 &  1\\\\\n",
       "\t 165617 & 76796604 & G &  13.5186 &   5.4299 &   7.9615 &   -9.4801 &  9.6369 & -0.8698 &  0.9722 &  1 & G & 12.9792 &   7.0747 &   5.3189 &  -9.4925 &  8.8511 & -0.9317 &  0.6447 & -1\\\\\n",
       "\t 165617 & 76691627 & G &   4.8860 &  -4.2066 &  -2.0383 &    1.4184 &  4.6744 &  0.2990 & -2.6904 &  1 & T &  5.2678 &  -2.2166 &  -2.7244 &   3.9246 &  3.5122 &  0.9620 & -2.2538 & -1\\\\\n",
       "\t 165617 & 77405245 & G &  15.7236 &   5.8886 &  -8.8699 &  -11.5702 & 10.6466 & -0.9414 & -0.9847 & -1 & T &  3.5067 &   1.0852 &  -1.0631 &  -3.1588 &  1.5191 & -1.4786 & -0.7751 &  1\\\\\n",
       "\t 165617 & 77028337 & G &  18.8749 &   4.7479 &  18.2027 &    1.5389 & 18.8118 &  0.0817 &  1.3156 &  1 & G &  9.7934 &   0.4561 &   9.6741 &   1.4505 &  9.6849 &  0.1492 &  1.5237 & -1\\\\\n",
       "\t 165617 & 77061433 & G &  23.4741 &  19.8385 & -12.2262 &   -2.8245 & 23.3033 & -0.1209 & -0.5523 &  1 & G & 22.4032 &  17.1602 & -13.9707 &  -3.4987 & 22.1281 & -0.1575 & -0.6833 & -1\\\\\n",
       "\t 165617 & 77358505 & G &  30.7500 &  -7.3635 &  15.1631 &  -25.7179 & 16.8564 & -1.2089 &  2.0229 &  1 & G &  5.9023 &  -2.2575 &   3.1225 &  -4.4699 &  3.8531 & -0.9902 &  2.1968 & -1\\\\\n",
       "\t 165617 & 76149397 & G &  20.7971 & -14.4118 &   0.1627 &  -14.9927 & 14.4127 & -0.9095 &  3.1303 &  1 & G & 14.4089 & -10.9596 &  -1.0203 &  -9.2979 & 11.0070 & -0.7672 & -3.0488 & -1\\\\\n",
       "\t 165617 & 76456028 & G &   9.5444 &  -0.3567 &   8.5992 &    4.1245 &  8.6066 &  0.4625 &  1.6123 & -1 & G &  8.5554 &   1.1114 &   8.2858 &   1.8150 &  8.3600 &  0.2154 &  1.4375 &  1\\\\\n",
       "\t 165617 & 77284054 & G &  17.4321 &   4.4650 &   2.5288 &   16.6594 &  5.1314 &  1.8937 &  0.5153 &  1 & G &  7.2637 &   3.4274 &   2.0304 &   6.0729 &  3.9837 &  1.2082 &  0.5348 & -1\\\\\n",
       "\t 165617 & 77411254 & G &  24.3180 & -14.7649 & -13.2682 &   14.0465 & 19.8507 &  0.6589 & -2.4095 &  1 & G & 11.9776 &  -5.6352 &  -7.8899 &   7.0319 &  9.6956 &  0.6732 & -2.1910 & -1\\\\\n",
       "\t 165617 & 76225718 & G & 136.6910 &  -8.0503 &  29.9944 & -133.1160 & 31.0560 & -2.1619 &  1.8330 &  1 & G & 13.8132 &  -1.6454 &   2.4869 & -13.4870 &  2.9819 & -2.2143 &  2.1553 & -1\\\\\n",
       "\t 165617 & 76954616 & G &  14.5144 &  -4.9387 &  -3.0734 &  -13.2974 &  5.8169 & -1.5647 & -2.5849 & -1 & T & 32.6892 & -10.3778 & -11.0843 & -28.9485 & 15.1842 & -1.4010 & -2.3233 &  1\\\\\n",
       "\t ... & ... & ... & ... & ... & ... & ... & ... & ... & ... & ... & ... & ... & ... & ... & ... & ... & ... & ... & ...\\\\\n",
       "\t 163796 & 149207305 & G & 15.5972 &  -7.8392 &   2.8360 &  13.1820 &  8.3365 &  1.2390 &  2.7945 & -1 & G & 12.2945 &  -8.0903 &   3.2608 &   8.6636 &  8.7227 &  0.8766 &  2.7585 &  1\\\\\n",
       "\t 163796 & 149315049 & G & 16.8834 &  -8.5568 &  -1.3469 &  14.4915 &  8.6622 &  1.2870 & -2.9855 & -1 & G & 21.2442 & -12.6907 &  -4.0003 &  16.5604 & 13.3063 &  1.0442 & -2.8362 &  1\\\\\n",
       "\t 163796 & 149355681 & G & 11.9093 &  -3.0186 &   6.6834 &  -9.3830 &  7.3335 & -1.0659 &  1.9950 & -1 & G & 10.3783 &  -4.6308 &   6.7759 &  -6.3514 &  8.2071 & -0.7122 &  2.1703 &  1\\\\\n",
       "\t 163796 & 149481057 & G & 26.1230 &  -5.2789 &  -6.0937 & -24.8476 &  8.0622 & -1.8441 & -2.2847 &  1 & T &  5.3567 &  -2.1285 &   0.0192 &  -4.9145 &  2.1286 & -1.5738 &  3.1326 & -1\\\\\n",
       "\t 163796 & 127223731 & G & 10.1770 &  -9.4206 &  -1.4066 &   3.5825 &  9.5251 &  0.3678 & -2.9934 & -1 & G & 11.1076 &  -9.7796 &   0.6579 &   5.2245 &  9.8017 &  0.5105 &  3.0744 &  1\\\\\n",
       "\t 163796 & 127345177 & G & 17.0428 &  -0.0829 &   9.6262 &  14.0632 &  9.6266 &  1.1729 &  1.5794 & -1 & G & 14.3060 &  -2.0040 &   8.3575 &  11.4362 &  8.5944 &  1.0970 &  1.8061 &  1\\\\\n",
       "\t 163796 & 127876076 & G & 12.9543 &  -0.8355 &   6.5551 & -11.1416 &  6.6081 & -1.2937 &  1.6976 &  1 & G & 11.8499 &  -1.8125 &   7.5936 &  -8.9141 &  7.8069 & -0.9782 &  1.8051 & -1\\\\\n",
       "\t 163796 & 127946460 & G & 35.2379 & -16.6787 &  -8.8567 &  29.7503 & 18.8843 &  1.2359 & -2.6534 &  1 & G &  9.9190 &  -5.6336 &  -1.2154 &   8.0723 &  5.7632 &  1.1384 & -2.9291 & -1\\\\\n",
       "\t 163796 & 127401310 & G &  8.1951 &  -3.5956 &   1.2288 &  -7.2602 &  3.7998 & -1.4030 &  2.8123 &  1 & G & 15.1498 &  -2.7628 &   3.3242 & -14.5197 &  4.3224 & -1.9263 &  2.2642 & -1\\\\\n",
       "\t 163796 & 127486478 & G & 15.0133 &   1.7625 &   7.5468 & -12.8580 &  7.7499 & -1.2799 &  1.3414 & -1 & G & 12.6251 &   2.1125 &   8.4802 &  -9.1107 &  8.7394 & -0.9111 &  1.3267 &  1\\\\\n",
       "\t 163796 & 127637742 & G &  8.7668 &  -7.0678 &   4.7861 &   1.9961 &  8.5359 &  0.2318 &  2.5463 & -1 & G & 12.2562 & -10.1579 &   4.1937 &   5.4251 & 10.9896 &  0.4755 &  2.7501 &  1\\\\\n",
       "\t 163796 & 127683182 & G & 17.0841 &   7.2057 &  -2.2961 & -15.3187 &  7.5626 & -1.4550 & -0.3085 & -1 & G & 10.2011 &   6.1504 &  -0.5348 &  -8.1202 &  6.1736 & -1.0877 & -0.0867 &  1\\\\\n",
       "\t 163796 & 127813281 & G & 10.8238 &  -4.0188 &  -9.9947 &   1.0478 & 10.7724 &  0.0971 & -1.9531 &  1 & G & 12.1513 &  -2.8641 & -11.1163 &   3.9834 & 11.4794 &  0.3404 & -1.8230 & -1\\\\\n",
       "\t 163796 & 127422577 & G &  6.7183 &  -0.9716 &   1.6015 &  -6.4510 &  1.8732 & -1.9502 &  2.1161 & -1 & G &  7.8192 &  -1.1947 &  -1.3330 &  -7.6108 &  1.7900 & -2.1540 & -2.3015 &  1\\\\\n",
       "\t 163796 & 127786724 & G & 15.9709 &   2.8540 &   6.9966 &  14.0699 &  7.5563 &  1.3802 &  1.1835 & -1 & G & 10.0264 &   3.7430 &   5.2704 &   7.6636 &  6.4643 &  1.0067 &  0.9533 &  1\\\\\n",
       "\t 163796 & 127188049 & G &  8.0245 &  -0.5517 &   7.9914 &   0.4627 &  8.0105 &  0.0577 &  1.6397 &  1 & G &  6.8765 &  -4.3954 &   5.2793 &  -0.2899 &  6.8695 & -0.0422 &  2.2651 & -1\\\\\n",
       "\t 163796 & 127495047 & G & 19.5909 &  -6.9154 &  -4.0572 & -17.8749 &  8.0177 & -1.5418 & -2.6110 &  1 & G & 10.4380 &  -5.2933 &  -3.2193 &  -8.3998 &  6.1954 & -1.1120 & -2.5952 & -1\\\\\n",
       "\t 163796 & 127754186 & G &  6.8811 &  -4.0389 &   5.4581 &  -1.1113 &  6.7900 & -0.1629 &  2.2079 & -1 & G &  9.7440 &  -6.0734 &   7.3182 &   2.1193 &  9.5101 &  0.2210 &  2.2635 &  1\\\\\n",
       "\t 163796 & 127959410 & G & 43.0596 & -13.3964 &  17.2464 & -37.1108 & 21.8381 & -1.3005 &  2.2312 &  1 & G & 21.5540 &  -5.4500 &   7.8037 & -19.3382 &  9.5184 & -1.4577 &  2.1804 & -1\\\\\n",
       "\t 163796 & 127308149 & G & 13.0274 &  -5.8608 &  -4.1203 & -10.8801 &  7.1642 & -1.2051 & -2.5288 & -1 & G & 23.7872 & -13.4641 &  -4.5329 & -19.0785 & 14.2066 & -1.1044 & -2.8168 &  1\\\\\n",
       "\t 163796 & 127362243 & G & 33.3041 &   4.2829 &  -6.9550 &  32.2868 &  8.1680 &  2.0832 & -1.0188 & -1 & T &  8.5611 &   2.0668 &  -0.5047 &   8.2919 &  2.1275 &  2.0695 & -0.2395 &  1\\\\\n",
       "\t 163796 & 127503307 & G &  8.8526 &  -4.5409 &  -3.9311 &  -6.5027 &  6.0061 & -0.9386 & -2.4280 &  1 & G &  5.4132 &  -0.6602 &  -3.5092 &  -4.0671 &  3.5708 & -0.9763 & -1.7567 & -1\\\\\n",
       "\t 163796 & 127520099 & G &  6.1346 &  -4.5181 &   3.2249 &  -2.6094 &  5.5509 & -0.4543 &  2.5217 & -1 & G &  4.1834 &  -4.1607 &  -0.1940 &   0.3754 &  4.1652 &  0.0900 & -3.0950 &  1\\\\\n",
       "\t 163796 & 127669111 & G &  9.5289 &  -5.9913 &  -1.6727 &  -7.2177 &  6.2204 & -0.9903 & -2.8693 &  1 & G &  5.5485 &  -4.1153 &  -2.6338 &  -2.6273 &  4.8860 & -0.5147 & -2.5723 & -1\\\\\n",
       "\t 163796 & 127974378 & G &  9.1003 &  -6.2812 &  -3.1040 &  -5.8066 &  7.0062 & -0.7550 & -2.6826 &  1 & G & 28.5352 & -21.3514 &  -3.4322 & -18.6168 & 21.6255 & -0.7795 & -2.9822 & -1\\\\\n",
       "\t 163796 & 127190648 & G & 20.3600 &   9.1811 &   7.6371 & -16.4894 & 11.9423 & -1.1267 &  0.6939 & -1 & G &  8.1878 &   4.2811 &   4.4597 &  -5.3678 &  6.1819 & -0.7851 &  0.8058 &  1\\\\\n",
       "\t 163796 & 127218144 & G & 11.4697 &  -1.6944 &   6.4898 &  -9.3035 &  6.7073 & -1.1304 &  1.8262 & -1 & G & 12.0051 &  -2.2652 &   9.0200 &  -7.5908 &  9.3001 & -0.7453 &  1.8168 &  1\\\\\n",
       "\t 163796 & 127418342 & G &  7.8173 &   4.7081 &  -4.8603 &  -3.9128 &  6.7668 & -0.5501 & -0.8013 &  1 & G & 10.7875 &   7.8230 &  -3.5396 &  -6.5291 &  8.5865 & -0.7014 & -0.4249 & -1\\\\\n",
       "\t 163796 & 127439838 & G & 11.2399 &  -8.7510 &  -5.7406 &  -4.0975 & 10.4658 & -0.3821 & -2.5610 &  1 & G & 17.7455 & -12.2635 & -11.9949 &  -4.5412 & 17.1543 & -0.2617 & -2.3673 & -1\\\\\n",
       "\t 163796 & 127493066 & G & 17.5006 &  -1.9977 & -14.7369 &  -9.2246 & 14.8716 & -0.5861 & -1.7055 &  1 & G &  6.8044 &  -2.5769 &  -5.6052 &  -2.8688 &  6.1691 & -0.4497 & -2.0017 & -1\\\\\n",
       "\\end{tabular}\n"
      ],
      "text/markdown": [
       "\n",
       "A spec_tbl_df: 20000 x 20\n",
       "\n",
       "| Run &lt;dbl&gt; | Event &lt;dbl&gt; | type1 &lt;chr&gt; | E1 &lt;dbl&gt; | px1 &lt;dbl&gt; | py1 &lt;dbl&gt; | pz1 &lt;dbl&gt; | pt1 &lt;dbl&gt; | eta1 &lt;dbl&gt; | phi1 &lt;dbl&gt; | Q1 &lt;dbl&gt; | type2 &lt;chr&gt; | E2 &lt;dbl&gt; | px2 &lt;dbl&gt; | py2 &lt;dbl&gt; | pz2 &lt;dbl&gt; | pt2 &lt;dbl&gt; | eta2 &lt;dbl&gt; | phi2 &lt;dbl&gt; | Q2 &lt;dbl&gt; |\n",
       "|---|---|---|---|---|---|---|---|---|---|---|---|---|---|---|---|---|---|---|---|\n",
       "| 165617 | 75206813 | G |  10.1623 |   0.4763 |  -8.5164 |    5.5231 |  8.5297 |  0.6091 | -1.5149 | -1 | G | 19.7754 |   2.7508 | -13.9871 |  13.7059 | 14.2550 |  0.8539 | -1.3766 |  1 |\n",
       "| 165617 | 75678475 | G |  15.8799 |  15.0618 |  -1.6658 |   -4.7464 | 15.1536 | -0.3083 | -0.1102 |  1 | G | 11.9338 |  11.9084 |  -0.7670 |  -0.0851 | 11.9330 | -0.0071 | -0.0643 | -1 |\n",
       "| 165617 | 74428554 | G |  21.8279 |  -6.2214 |  11.0845 |   17.7447 | 12.7111 |  1.1357 |  2.0823 | -1 | G | 36.6513 | -10.6874 |  15.0692 |  31.6544 | 18.4743 |  1.3076 |  2.1877 |  1 |\n",
       "| 165617 | 75193169 | G |  19.4923 |   2.7612 |  -5.5769 |  -18.4719 |  6.2230 | -1.8084 | -1.1111 |  1 | G | 14.9334 |   1.5525 |  -6.1254 | -13.5302 |  6.3190 | -1.5050 | -1.3226 | -1 |\n",
       "| 165617 | 74832715 | G |   8.0972 |   4.6127 |  -1.8389 |    6.3949 |  4.9657 |  1.0710 | -0.3793 | -1 | T |  3.5131 |  -0.5305 |   0.6880 |   3.4024 |  0.8688 |  2.0742 |  2.2276 |  1 |\n",
       "| 165617 | 74981507 | G |  30.5862 |  15.5218 |   5.1293 |  -25.8509 | 16.3474 | -1.2391 |  0.3192 |  1 | G | 12.4868 |   7.7640 |   1.0425 |  -9.7233 |  7.8337 | -1.0421 |  0.1335 | -1 |\n",
       "| 165617 | 75612982 | G |   7.5544 |   1.2913 |  -5.3588 |   -5.1646 |  5.5122 | -0.8361 | -1.3343 | -1 | T |  3.8416 |  -0.9896 |  -3.4548 |  -1.3534 |  3.5938 | -0.3682 | -1.8498 |  1 |\n",
       "| 165617 | 74760204 | G |  24.6376 |   9.9836 |  19.1426 |  -11.8697 | 21.5896 | -0.5253 |  1.0901 |  1 | G | 11.0213 |   3.3785 |   7.8272 |  -6.9841 |  8.5252 | -0.7476 |  1.1633 | -1 |\n",
       "| 165617 | 75017052 | G |  22.5057 |   5.6296 |  -9.9497 |   19.3857 | 11.4319 |  1.2987 | -1.0559 |  1 | G | 30.5709 |   4.9468 | -13.6360 |  26.9102 | 14.5055 |  1.3769 | -1.2228 | -1 |\n",
       "| 165617 | 75204668 | G |  10.7051 |  -8.4664 |  -2.2374 |   -6.1564 |  8.7571 | -0.6551 | -2.8832 |  1 | G | 55.1896 | -45.0429 | -16.6152 | -27.2205 | 48.0096 | -0.5403 | -2.7882 | -1 |\n",
       "| 165617 | 75682819 | G |  22.6067 |   5.0267 |  -0.3155 |   22.0383 |  5.0366 |  2.1820 | -0.0627 |  1 | G | 17.8797 |   2.7987 |   2.0567 |  17.5388 |  3.4732 |  2.3222 |  0.6338 | -1 |\n",
       "| 165617 | 75891163 | G |  11.6778 |  10.7636 |   2.2556 |   -3.9266 | 10.9974 | -0.3499 |  0.2066 |  1 | G | 11.1458 |   9.0065 |   3.4698 |  -5.5732 |  9.6517 | -0.5494 |  0.3677 | -1 |\n",
       "| 165617 | 74949022 | G |  22.4059 |   1.3759 |   7.2096 |  -21.1694 |  7.3397 | -1.7812 |  1.3822 | -1 | T |  4.7813 |  -0.5663 |   0.7255 |  -4.6907 |  0.9204 | -2.3312 |  2.2335 |  1 |\n",
       "| 165617 | 75818801 | G |  25.2596 |  23.5556 |   3.1909 |    8.5432 | 23.7708 |  0.3521 |  0.1346 |  1 | G | 11.7166 |  10.4432 |   1.1288 |   5.1896 | 10.5040 |  0.4759 |  0.1077 | -1 |\n",
       "| 165617 | 74875638 | G |  23.0765 |   4.4733 |   7.9045 |   21.2138 |  9.0825 |  1.5844 |  1.0558 | -1 | T | 25.5421 |   1.9891 |   7.7265 |  24.2637 |  7.9785 |  1.8314 |  1.3188 |  1 |\n",
       "| 165617 | 76187234 | G |   9.7908 |  -1.6247 |   2.0609 |    9.4320 |  2.6243 |  1.9912 |  2.2384 |  1 | G | 11.7080 |   1.3215 |   1.7092 |  11.5064 |  2.1605 |  2.3744 |  0.9126 | -1 |\n",
       "| 165617 | 76650121 | G |  14.5875 |  -6.1673 |  12.5515 |   -4.1482 | 13.9849 | -0.2924 |  2.0275 |  1 | G | 10.6562 |  -3.3095 |   8.6271 |  -5.3071 |  9.2401 | -0.5467 |  1.9371 | -1 |\n",
       "| 165617 | 76624220 | G |   8.8197 |  -0.0263 |   2.5635 |   -8.4383 |  2.5636 | -1.9068 |  1.5810 | -1 | T |  7.4905 |  -1.2713 |  -0.6276 |  -7.3543 |  1.4178 | -2.3485 | -2.6830 |  1 |\n",
       "| 165617 | 76796604 | G |  13.5186 |   5.4299 |   7.9615 |   -9.4801 |  9.6369 | -0.8698 |  0.9722 |  1 | G | 12.9792 |   7.0747 |   5.3189 |  -9.4925 |  8.8511 | -0.9317 |  0.6447 | -1 |\n",
       "| 165617 | 76691627 | G |   4.8860 |  -4.2066 |  -2.0383 |    1.4184 |  4.6744 |  0.2990 | -2.6904 |  1 | T |  5.2678 |  -2.2166 |  -2.7244 |   3.9246 |  3.5122 |  0.9620 | -2.2538 | -1 |\n",
       "| 165617 | 77405245 | G |  15.7236 |   5.8886 |  -8.8699 |  -11.5702 | 10.6466 | -0.9414 | -0.9847 | -1 | T |  3.5067 |   1.0852 |  -1.0631 |  -3.1588 |  1.5191 | -1.4786 | -0.7751 |  1 |\n",
       "| 165617 | 77028337 | G |  18.8749 |   4.7479 |  18.2027 |    1.5389 | 18.8118 |  0.0817 |  1.3156 |  1 | G |  9.7934 |   0.4561 |   9.6741 |   1.4505 |  9.6849 |  0.1492 |  1.5237 | -1 |\n",
       "| 165617 | 77061433 | G |  23.4741 |  19.8385 | -12.2262 |   -2.8245 | 23.3033 | -0.1209 | -0.5523 |  1 | G | 22.4032 |  17.1602 | -13.9707 |  -3.4987 | 22.1281 | -0.1575 | -0.6833 | -1 |\n",
       "| 165617 | 77358505 | G |  30.7500 |  -7.3635 |  15.1631 |  -25.7179 | 16.8564 | -1.2089 |  2.0229 |  1 | G |  5.9023 |  -2.2575 |   3.1225 |  -4.4699 |  3.8531 | -0.9902 |  2.1968 | -1 |\n",
       "| 165617 | 76149397 | G |  20.7971 | -14.4118 |   0.1627 |  -14.9927 | 14.4127 | -0.9095 |  3.1303 |  1 | G | 14.4089 | -10.9596 |  -1.0203 |  -9.2979 | 11.0070 | -0.7672 | -3.0488 | -1 |\n",
       "| 165617 | 76456028 | G |   9.5444 |  -0.3567 |   8.5992 |    4.1245 |  8.6066 |  0.4625 |  1.6123 | -1 | G |  8.5554 |   1.1114 |   8.2858 |   1.8150 |  8.3600 |  0.2154 |  1.4375 |  1 |\n",
       "| 165617 | 77284054 | G |  17.4321 |   4.4650 |   2.5288 |   16.6594 |  5.1314 |  1.8937 |  0.5153 |  1 | G |  7.2637 |   3.4274 |   2.0304 |   6.0729 |  3.9837 |  1.2082 |  0.5348 | -1 |\n",
       "| 165617 | 77411254 | G |  24.3180 | -14.7649 | -13.2682 |   14.0465 | 19.8507 |  0.6589 | -2.4095 |  1 | G | 11.9776 |  -5.6352 |  -7.8899 |   7.0319 |  9.6956 |  0.6732 | -2.1910 | -1 |\n",
       "| 165617 | 76225718 | G | 136.6910 |  -8.0503 |  29.9944 | -133.1160 | 31.0560 | -2.1619 |  1.8330 |  1 | G | 13.8132 |  -1.6454 |   2.4869 | -13.4870 |  2.9819 | -2.2143 |  2.1553 | -1 |\n",
       "| 165617 | 76954616 | G |  14.5144 |  -4.9387 |  -3.0734 |  -13.2974 |  5.8169 | -1.5647 | -2.5849 | -1 | T | 32.6892 | -10.3778 | -11.0843 | -28.9485 | 15.1842 | -1.4010 | -2.3233 |  1 |\n",
       "| ... | ... | ... | ... | ... | ... | ... | ... | ... | ... | ... | ... | ... | ... | ... | ... | ... | ... | ... | ... |\n",
       "| 163796 | 149207305 | G | 15.5972 |  -7.8392 |   2.8360 |  13.1820 |  8.3365 |  1.2390 |  2.7945 | -1 | G | 12.2945 |  -8.0903 |   3.2608 |   8.6636 |  8.7227 |  0.8766 |  2.7585 |  1 |\n",
       "| 163796 | 149315049 | G | 16.8834 |  -8.5568 |  -1.3469 |  14.4915 |  8.6622 |  1.2870 | -2.9855 | -1 | G | 21.2442 | -12.6907 |  -4.0003 |  16.5604 | 13.3063 |  1.0442 | -2.8362 |  1 |\n",
       "| 163796 | 149355681 | G | 11.9093 |  -3.0186 |   6.6834 |  -9.3830 |  7.3335 | -1.0659 |  1.9950 | -1 | G | 10.3783 |  -4.6308 |   6.7759 |  -6.3514 |  8.2071 | -0.7122 |  2.1703 |  1 |\n",
       "| 163796 | 149481057 | G | 26.1230 |  -5.2789 |  -6.0937 | -24.8476 |  8.0622 | -1.8441 | -2.2847 |  1 | T |  5.3567 |  -2.1285 |   0.0192 |  -4.9145 |  2.1286 | -1.5738 |  3.1326 | -1 |\n",
       "| 163796 | 127223731 | G | 10.1770 |  -9.4206 |  -1.4066 |   3.5825 |  9.5251 |  0.3678 | -2.9934 | -1 | G | 11.1076 |  -9.7796 |   0.6579 |   5.2245 |  9.8017 |  0.5105 |  3.0744 |  1 |\n",
       "| 163796 | 127345177 | G | 17.0428 |  -0.0829 |   9.6262 |  14.0632 |  9.6266 |  1.1729 |  1.5794 | -1 | G | 14.3060 |  -2.0040 |   8.3575 |  11.4362 |  8.5944 |  1.0970 |  1.8061 |  1 |\n",
       "| 163796 | 127876076 | G | 12.9543 |  -0.8355 |   6.5551 | -11.1416 |  6.6081 | -1.2937 |  1.6976 |  1 | G | 11.8499 |  -1.8125 |   7.5936 |  -8.9141 |  7.8069 | -0.9782 |  1.8051 | -1 |\n",
       "| 163796 | 127946460 | G | 35.2379 | -16.6787 |  -8.8567 |  29.7503 | 18.8843 |  1.2359 | -2.6534 |  1 | G |  9.9190 |  -5.6336 |  -1.2154 |   8.0723 |  5.7632 |  1.1384 | -2.9291 | -1 |\n",
       "| 163796 | 127401310 | G |  8.1951 |  -3.5956 |   1.2288 |  -7.2602 |  3.7998 | -1.4030 |  2.8123 |  1 | G | 15.1498 |  -2.7628 |   3.3242 | -14.5197 |  4.3224 | -1.9263 |  2.2642 | -1 |\n",
       "| 163796 | 127486478 | G | 15.0133 |   1.7625 |   7.5468 | -12.8580 |  7.7499 | -1.2799 |  1.3414 | -1 | G | 12.6251 |   2.1125 |   8.4802 |  -9.1107 |  8.7394 | -0.9111 |  1.3267 |  1 |\n",
       "| 163796 | 127637742 | G |  8.7668 |  -7.0678 |   4.7861 |   1.9961 |  8.5359 |  0.2318 |  2.5463 | -1 | G | 12.2562 | -10.1579 |   4.1937 |   5.4251 | 10.9896 |  0.4755 |  2.7501 |  1 |\n",
       "| 163796 | 127683182 | G | 17.0841 |   7.2057 |  -2.2961 | -15.3187 |  7.5626 | -1.4550 | -0.3085 | -1 | G | 10.2011 |   6.1504 |  -0.5348 |  -8.1202 |  6.1736 | -1.0877 | -0.0867 |  1 |\n",
       "| 163796 | 127813281 | G | 10.8238 |  -4.0188 |  -9.9947 |   1.0478 | 10.7724 |  0.0971 | -1.9531 |  1 | G | 12.1513 |  -2.8641 | -11.1163 |   3.9834 | 11.4794 |  0.3404 | -1.8230 | -1 |\n",
       "| 163796 | 127422577 | G |  6.7183 |  -0.9716 |   1.6015 |  -6.4510 |  1.8732 | -1.9502 |  2.1161 | -1 | G |  7.8192 |  -1.1947 |  -1.3330 |  -7.6108 |  1.7900 | -2.1540 | -2.3015 |  1 |\n",
       "| 163796 | 127786724 | G | 15.9709 |   2.8540 |   6.9966 |  14.0699 |  7.5563 |  1.3802 |  1.1835 | -1 | G | 10.0264 |   3.7430 |   5.2704 |   7.6636 |  6.4643 |  1.0067 |  0.9533 |  1 |\n",
       "| 163796 | 127188049 | G |  8.0245 |  -0.5517 |   7.9914 |   0.4627 |  8.0105 |  0.0577 |  1.6397 |  1 | G |  6.8765 |  -4.3954 |   5.2793 |  -0.2899 |  6.8695 | -0.0422 |  2.2651 | -1 |\n",
       "| 163796 | 127495047 | G | 19.5909 |  -6.9154 |  -4.0572 | -17.8749 |  8.0177 | -1.5418 | -2.6110 |  1 | G | 10.4380 |  -5.2933 |  -3.2193 |  -8.3998 |  6.1954 | -1.1120 | -2.5952 | -1 |\n",
       "| 163796 | 127754186 | G |  6.8811 |  -4.0389 |   5.4581 |  -1.1113 |  6.7900 | -0.1629 |  2.2079 | -1 | G |  9.7440 |  -6.0734 |   7.3182 |   2.1193 |  9.5101 |  0.2210 |  2.2635 |  1 |\n",
       "| 163796 | 127959410 | G | 43.0596 | -13.3964 |  17.2464 | -37.1108 | 21.8381 | -1.3005 |  2.2312 |  1 | G | 21.5540 |  -5.4500 |   7.8037 | -19.3382 |  9.5184 | -1.4577 |  2.1804 | -1 |\n",
       "| 163796 | 127308149 | G | 13.0274 |  -5.8608 |  -4.1203 | -10.8801 |  7.1642 | -1.2051 | -2.5288 | -1 | G | 23.7872 | -13.4641 |  -4.5329 | -19.0785 | 14.2066 | -1.1044 | -2.8168 |  1 |\n",
       "| 163796 | 127362243 | G | 33.3041 |   4.2829 |  -6.9550 |  32.2868 |  8.1680 |  2.0832 | -1.0188 | -1 | T |  8.5611 |   2.0668 |  -0.5047 |   8.2919 |  2.1275 |  2.0695 | -0.2395 |  1 |\n",
       "| 163796 | 127503307 | G |  8.8526 |  -4.5409 |  -3.9311 |  -6.5027 |  6.0061 | -0.9386 | -2.4280 |  1 | G |  5.4132 |  -0.6602 |  -3.5092 |  -4.0671 |  3.5708 | -0.9763 | -1.7567 | -1 |\n",
       "| 163796 | 127520099 | G |  6.1346 |  -4.5181 |   3.2249 |  -2.6094 |  5.5509 | -0.4543 |  2.5217 | -1 | G |  4.1834 |  -4.1607 |  -0.1940 |   0.3754 |  4.1652 |  0.0900 | -3.0950 |  1 |\n",
       "| 163796 | 127669111 | G |  9.5289 |  -5.9913 |  -1.6727 |  -7.2177 |  6.2204 | -0.9903 | -2.8693 |  1 | G |  5.5485 |  -4.1153 |  -2.6338 |  -2.6273 |  4.8860 | -0.5147 | -2.5723 | -1 |\n",
       "| 163796 | 127974378 | G |  9.1003 |  -6.2812 |  -3.1040 |  -5.8066 |  7.0062 | -0.7550 | -2.6826 |  1 | G | 28.5352 | -21.3514 |  -3.4322 | -18.6168 | 21.6255 | -0.7795 | -2.9822 | -1 |\n",
       "| 163796 | 127190648 | G | 20.3600 |   9.1811 |   7.6371 | -16.4894 | 11.9423 | -1.1267 |  0.6939 | -1 | G |  8.1878 |   4.2811 |   4.4597 |  -5.3678 |  6.1819 | -0.7851 |  0.8058 |  1 |\n",
       "| 163796 | 127218144 | G | 11.4697 |  -1.6944 |   6.4898 |  -9.3035 |  6.7073 | -1.1304 |  1.8262 | -1 | G | 12.0051 |  -2.2652 |   9.0200 |  -7.5908 |  9.3001 | -0.7453 |  1.8168 |  1 |\n",
       "| 163796 | 127418342 | G |  7.8173 |   4.7081 |  -4.8603 |  -3.9128 |  6.7668 | -0.5501 | -0.8013 |  1 | G | 10.7875 |   7.8230 |  -3.5396 |  -6.5291 |  8.5865 | -0.7014 | -0.4249 | -1 |\n",
       "| 163796 | 127439838 | G | 11.2399 |  -8.7510 |  -5.7406 |  -4.0975 | 10.4658 | -0.3821 | -2.5610 |  1 | G | 17.7455 | -12.2635 | -11.9949 |  -4.5412 | 17.1543 | -0.2617 | -2.3673 | -1 |\n",
       "| 163796 | 127493066 | G | 17.5006 |  -1.9977 | -14.7369 |  -9.2246 | 14.8716 | -0.5861 | -1.7055 |  1 | G |  6.8044 |  -2.5769 |  -5.6052 |  -2.8688 |  6.1691 | -0.4497 | -2.0017 | -1 |\n",
       "\n"
      ],
      "text/plain": [
       "      Run    Event     type1 E1       px1      py1      pz1       pt1    \n",
       "1     165617 75206813  G      10.1623   0.4763  -8.5164    5.5231  8.5297\n",
       "2     165617 75678475  G      15.8799  15.0618  -1.6658   -4.7464 15.1536\n",
       "3     165617 74428554  G      21.8279  -6.2214  11.0845   17.7447 12.7111\n",
       "4     165617 75193169  G      19.4923   2.7612  -5.5769  -18.4719  6.2230\n",
       "5     165617 74832715  G       8.0972   4.6127  -1.8389    6.3949  4.9657\n",
       "6     165617 74981507  G      30.5862  15.5218   5.1293  -25.8509 16.3474\n",
       "7     165617 75612982  G       7.5544   1.2913  -5.3588   -5.1646  5.5122\n",
       "8     165617 74760204  G      24.6376   9.9836  19.1426  -11.8697 21.5896\n",
       "9     165617 75017052  G      22.5057   5.6296  -9.9497   19.3857 11.4319\n",
       "10    165617 75204668  G      10.7051  -8.4664  -2.2374   -6.1564  8.7571\n",
       "11    165617 75682819  G      22.6067   5.0267  -0.3155   22.0383  5.0366\n",
       "12    165617 75891163  G      11.6778  10.7636   2.2556   -3.9266 10.9974\n",
       "13    165617 74949022  G      22.4059   1.3759   7.2096  -21.1694  7.3397\n",
       "14    165617 75818801  G      25.2596  23.5556   3.1909    8.5432 23.7708\n",
       "15    165617 74875638  G      23.0765   4.4733   7.9045   21.2138  9.0825\n",
       "16    165617 76187234  G       9.7908  -1.6247   2.0609    9.4320  2.6243\n",
       "17    165617 76650121  G      14.5875  -6.1673  12.5515   -4.1482 13.9849\n",
       "18    165617 76624220  G       8.8197  -0.0263   2.5635   -8.4383  2.5636\n",
       "19    165617 76796604  G      13.5186   5.4299   7.9615   -9.4801  9.6369\n",
       "20    165617 76691627  G       4.8860  -4.2066  -2.0383    1.4184  4.6744\n",
       "21    165617 77405245  G      15.7236   5.8886  -8.8699  -11.5702 10.6466\n",
       "22    165617 77028337  G      18.8749   4.7479  18.2027    1.5389 18.8118\n",
       "23    165617 77061433  G      23.4741  19.8385 -12.2262   -2.8245 23.3033\n",
       "24    165617 77358505  G      30.7500  -7.3635  15.1631  -25.7179 16.8564\n",
       "25    165617 76149397  G      20.7971 -14.4118   0.1627  -14.9927 14.4127\n",
       "26    165617 76456028  G       9.5444  -0.3567   8.5992    4.1245  8.6066\n",
       "27    165617 77284054  G      17.4321   4.4650   2.5288   16.6594  5.1314\n",
       "28    165617 77411254  G      24.3180 -14.7649 -13.2682   14.0465 19.8507\n",
       "29    165617 76225718  G     136.6910  -8.0503  29.9944 -133.1160 31.0560\n",
       "30    165617 76954616  G      14.5144  -4.9387  -3.0734  -13.2974  5.8169\n",
       "...   ...    ...       ...   ...      ...      ...      ...       ...    \n",
       "19971 163796 149207305 G     15.5972   -7.8392   2.8360  13.1820   8.3365\n",
       "19972 163796 149315049 G     16.8834   -8.5568  -1.3469  14.4915   8.6622\n",
       "19973 163796 149355681 G     11.9093   -3.0186   6.6834  -9.3830   7.3335\n",
       "19974 163796 149481057 G     26.1230   -5.2789  -6.0937 -24.8476   8.0622\n",
       "19975 163796 127223731 G     10.1770   -9.4206  -1.4066   3.5825   9.5251\n",
       "19976 163796 127345177 G     17.0428   -0.0829   9.6262  14.0632   9.6266\n",
       "19977 163796 127876076 G     12.9543   -0.8355   6.5551 -11.1416   6.6081\n",
       "19978 163796 127946460 G     35.2379  -16.6787  -8.8567  29.7503  18.8843\n",
       "19979 163796 127401310 G      8.1951   -3.5956   1.2288  -7.2602   3.7998\n",
       "19980 163796 127486478 G     15.0133    1.7625   7.5468 -12.8580   7.7499\n",
       "19981 163796 127637742 G      8.7668   -7.0678   4.7861   1.9961   8.5359\n",
       "19982 163796 127683182 G     17.0841    7.2057  -2.2961 -15.3187   7.5626\n",
       "19983 163796 127813281 G     10.8238   -4.0188  -9.9947   1.0478  10.7724\n",
       "19984 163796 127422577 G      6.7183   -0.9716   1.6015  -6.4510   1.8732\n",
       "19985 163796 127786724 G     15.9709    2.8540   6.9966  14.0699   7.5563\n",
       "19986 163796 127188049 G      8.0245   -0.5517   7.9914   0.4627   8.0105\n",
       "19987 163796 127495047 G     19.5909   -6.9154  -4.0572 -17.8749   8.0177\n",
       "19988 163796 127754186 G      6.8811   -4.0389   5.4581  -1.1113   6.7900\n",
       "19989 163796 127959410 G     43.0596  -13.3964  17.2464 -37.1108  21.8381\n",
       "19990 163796 127308149 G     13.0274   -5.8608  -4.1203 -10.8801   7.1642\n",
       "19991 163796 127362243 G     33.3041    4.2829  -6.9550  32.2868   8.1680\n",
       "19992 163796 127503307 G      8.8526   -4.5409  -3.9311  -6.5027   6.0061\n",
       "19993 163796 127520099 G      6.1346   -4.5181   3.2249  -2.6094   5.5509\n",
       "19994 163796 127669111 G      9.5289   -5.9913  -1.6727  -7.2177   6.2204\n",
       "19995 163796 127974378 G      9.1003   -6.2812  -3.1040  -5.8066   7.0062\n",
       "19996 163796 127190648 G     20.3600    9.1811   7.6371 -16.4894  11.9423\n",
       "19997 163796 127218144 G     11.4697   -1.6944   6.4898  -9.3035   6.7073\n",
       "19998 163796 127418342 G      7.8173    4.7081  -4.8603  -3.9128   6.7668\n",
       "19999 163796 127439838 G     11.2399   -8.7510  -5.7406  -4.0975  10.4658\n",
       "20000 163796 127493066 G     17.5006   -1.9977 -14.7369  -9.2246  14.8716\n",
       "      eta1    phi1    Q1  type2 E2      px2      py2      pz2      pt2    \n",
       "1      0.6091 -1.5149 -1  G     19.7754   2.7508 -13.9871  13.7059 14.2550\n",
       "2     -0.3083 -0.1102  1  G     11.9338  11.9084  -0.7670  -0.0851 11.9330\n",
       "3      1.1357  2.0823 -1  G     36.6513 -10.6874  15.0692  31.6544 18.4743\n",
       "4     -1.8084 -1.1111  1  G     14.9334   1.5525  -6.1254 -13.5302  6.3190\n",
       "5      1.0710 -0.3793 -1  T      3.5131  -0.5305   0.6880   3.4024  0.8688\n",
       "6     -1.2391  0.3192  1  G     12.4868   7.7640   1.0425  -9.7233  7.8337\n",
       "7     -0.8361 -1.3343 -1  T      3.8416  -0.9896  -3.4548  -1.3534  3.5938\n",
       "8     -0.5253  1.0901  1  G     11.0213   3.3785   7.8272  -6.9841  8.5252\n",
       "9      1.2987 -1.0559  1  G     30.5709   4.9468 -13.6360  26.9102 14.5055\n",
       "10    -0.6551 -2.8832  1  G     55.1896 -45.0429 -16.6152 -27.2205 48.0096\n",
       "11     2.1820 -0.0627  1  G     17.8797   2.7987   2.0567  17.5388  3.4732\n",
       "12    -0.3499  0.2066  1  G     11.1458   9.0065   3.4698  -5.5732  9.6517\n",
       "13    -1.7812  1.3822 -1  T      4.7813  -0.5663   0.7255  -4.6907  0.9204\n",
       "14     0.3521  0.1346  1  G     11.7166  10.4432   1.1288   5.1896 10.5040\n",
       "15     1.5844  1.0558 -1  T     25.5421   1.9891   7.7265  24.2637  7.9785\n",
       "16     1.9912  2.2384  1  G     11.7080   1.3215   1.7092  11.5064  2.1605\n",
       "17    -0.2924  2.0275  1  G     10.6562  -3.3095   8.6271  -5.3071  9.2401\n",
       "18    -1.9068  1.5810 -1  T      7.4905  -1.2713  -0.6276  -7.3543  1.4178\n",
       "19    -0.8698  0.9722  1  G     12.9792   7.0747   5.3189  -9.4925  8.8511\n",
       "20     0.2990 -2.6904  1  T      5.2678  -2.2166  -2.7244   3.9246  3.5122\n",
       "21    -0.9414 -0.9847 -1  T      3.5067   1.0852  -1.0631  -3.1588  1.5191\n",
       "22     0.0817  1.3156  1  G      9.7934   0.4561   9.6741   1.4505  9.6849\n",
       "23    -0.1209 -0.5523  1  G     22.4032  17.1602 -13.9707  -3.4987 22.1281\n",
       "24    -1.2089  2.0229  1  G      5.9023  -2.2575   3.1225  -4.4699  3.8531\n",
       "25    -0.9095  3.1303  1  G     14.4089 -10.9596  -1.0203  -9.2979 11.0070\n",
       "26     0.4625  1.6123 -1  G      8.5554   1.1114   8.2858   1.8150  8.3600\n",
       "27     1.8937  0.5153  1  G      7.2637   3.4274   2.0304   6.0729  3.9837\n",
       "28     0.6589 -2.4095  1  G     11.9776  -5.6352  -7.8899   7.0319  9.6956\n",
       "29    -2.1619  1.8330  1  G     13.8132  -1.6454   2.4869 -13.4870  2.9819\n",
       "30    -1.5647 -2.5849 -1  T     32.6892 -10.3778 -11.0843 -28.9485 15.1842\n",
       "...   ...     ...     ... ...   ...     ...      ...      ...      ...    \n",
       "19971  1.2390  2.7945 -1  G     12.2945  -8.0903   3.2608   8.6636  8.7227\n",
       "19972  1.2870 -2.9855 -1  G     21.2442 -12.6907  -4.0003  16.5604 13.3063\n",
       "19973 -1.0659  1.9950 -1  G     10.3783  -4.6308   6.7759  -6.3514  8.2071\n",
       "19974 -1.8441 -2.2847  1  T      5.3567  -2.1285   0.0192  -4.9145  2.1286\n",
       "19975  0.3678 -2.9934 -1  G     11.1076  -9.7796   0.6579   5.2245  9.8017\n",
       "19976  1.1729  1.5794 -1  G     14.3060  -2.0040   8.3575  11.4362  8.5944\n",
       "19977 -1.2937  1.6976  1  G     11.8499  -1.8125   7.5936  -8.9141  7.8069\n",
       "19978  1.2359 -2.6534  1  G      9.9190  -5.6336  -1.2154   8.0723  5.7632\n",
       "19979 -1.4030  2.8123  1  G     15.1498  -2.7628   3.3242 -14.5197  4.3224\n",
       "19980 -1.2799  1.3414 -1  G     12.6251   2.1125   8.4802  -9.1107  8.7394\n",
       "19981  0.2318  2.5463 -1  G     12.2562 -10.1579   4.1937   5.4251 10.9896\n",
       "19982 -1.4550 -0.3085 -1  G     10.2011   6.1504  -0.5348  -8.1202  6.1736\n",
       "19983  0.0971 -1.9531  1  G     12.1513  -2.8641 -11.1163   3.9834 11.4794\n",
       "19984 -1.9502  2.1161 -1  G      7.8192  -1.1947  -1.3330  -7.6108  1.7900\n",
       "19985  1.3802  1.1835 -1  G     10.0264   3.7430   5.2704   7.6636  6.4643\n",
       "19986  0.0577  1.6397  1  G      6.8765  -4.3954   5.2793  -0.2899  6.8695\n",
       "19987 -1.5418 -2.6110  1  G     10.4380  -5.2933  -3.2193  -8.3998  6.1954\n",
       "19988 -0.1629  2.2079 -1  G      9.7440  -6.0734   7.3182   2.1193  9.5101\n",
       "19989 -1.3005  2.2312  1  G     21.5540  -5.4500   7.8037 -19.3382  9.5184\n",
       "19990 -1.2051 -2.5288 -1  G     23.7872 -13.4641  -4.5329 -19.0785 14.2066\n",
       "19991  2.0832 -1.0188 -1  T      8.5611   2.0668  -0.5047   8.2919  2.1275\n",
       "19992 -0.9386 -2.4280  1  G      5.4132  -0.6602  -3.5092  -4.0671  3.5708\n",
       "19993 -0.4543  2.5217 -1  G      4.1834  -4.1607  -0.1940   0.3754  4.1652\n",
       "19994 -0.9903 -2.8693  1  G      5.5485  -4.1153  -2.6338  -2.6273  4.8860\n",
       "19995 -0.7550 -2.6826  1  G     28.5352 -21.3514  -3.4322 -18.6168 21.6255\n",
       "19996 -1.1267  0.6939 -1  G      8.1878   4.2811   4.4597  -5.3678  6.1819\n",
       "19997 -1.1304  1.8262 -1  G     12.0051  -2.2652   9.0200  -7.5908  9.3001\n",
       "19998 -0.5501 -0.8013  1  G     10.7875   7.8230  -3.5396  -6.5291  8.5865\n",
       "19999 -0.3821 -2.5610  1  G     17.7455 -12.2635 -11.9949  -4.5412 17.1543\n",
       "20000 -0.5861 -1.7055  1  G      6.8044  -2.5769  -5.6052  -2.8688  6.1691\n",
       "      eta2    phi2    Q2 \n",
       "1      0.8539 -1.3766  1 \n",
       "2     -0.0071 -0.0643 -1 \n",
       "3      1.3076  2.1877  1 \n",
       "4     -1.5050 -1.3226 -1 \n",
       "5      2.0742  2.2276  1 \n",
       "6     -1.0421  0.1335 -1 \n",
       "7     -0.3682 -1.8498  1 \n",
       "8     -0.7476  1.1633 -1 \n",
       "9      1.3769 -1.2228 -1 \n",
       "10    -0.5403 -2.7882 -1 \n",
       "11     2.3222  0.6338 -1 \n",
       "12    -0.5494  0.3677 -1 \n",
       "13    -2.3312  2.2335  1 \n",
       "14     0.4759  0.1077 -1 \n",
       "15     1.8314  1.3188  1 \n",
       "16     2.3744  0.9126 -1 \n",
       "17    -0.5467  1.9371 -1 \n",
       "18    -2.3485 -2.6830  1 \n",
       "19    -0.9317  0.6447 -1 \n",
       "20     0.9620 -2.2538 -1 \n",
       "21    -1.4786 -0.7751  1 \n",
       "22     0.1492  1.5237 -1 \n",
       "23    -0.1575 -0.6833 -1 \n",
       "24    -0.9902  2.1968 -1 \n",
       "25    -0.7672 -3.0488 -1 \n",
       "26     0.2154  1.4375  1 \n",
       "27     1.2082  0.5348 -1 \n",
       "28     0.6732 -2.1910 -1 \n",
       "29    -2.2143  2.1553 -1 \n",
       "30    -1.4010 -2.3233  1 \n",
       "...   ...     ...     ...\n",
       "19971  0.8766  2.7585  1 \n",
       "19972  1.0442 -2.8362  1 \n",
       "19973 -0.7122  2.1703  1 \n",
       "19974 -1.5738  3.1326 -1 \n",
       "19975  0.5105  3.0744  1 \n",
       "19976  1.0970  1.8061  1 \n",
       "19977 -0.9782  1.8051 -1 \n",
       "19978  1.1384 -2.9291 -1 \n",
       "19979 -1.9263  2.2642 -1 \n",
       "19980 -0.9111  1.3267  1 \n",
       "19981  0.4755  2.7501  1 \n",
       "19982 -1.0877 -0.0867  1 \n",
       "19983  0.3404 -1.8230 -1 \n",
       "19984 -2.1540 -2.3015  1 \n",
       "19985  1.0067  0.9533  1 \n",
       "19986 -0.0422  2.2651 -1 \n",
       "19987 -1.1120 -2.5952 -1 \n",
       "19988  0.2210  2.2635  1 \n",
       "19989 -1.4577  2.1804 -1 \n",
       "19990 -1.1044 -2.8168  1 \n",
       "19991  2.0695 -0.2395  1 \n",
       "19992 -0.9763 -1.7567 -1 \n",
       "19993  0.0900 -3.0950  1 \n",
       "19994 -0.5147 -2.5723 -1 \n",
       "19995 -0.7795 -2.9822 -1 \n",
       "19996 -0.7851  0.8058  1 \n",
       "19997 -0.7453  1.8168  1 \n",
       "19998 -0.7014 -0.4249 -1 \n",
       "19999 -0.2617 -2.3673 -1 \n",
       "20000 -0.4497 -2.0017 -1 "
      ]
     },
     "metadata": {},
     "output_type": "display_data"
    }
   ],
   "source": [
    "# Read the CSV file and assign its contents to a data frame `jpsi`:\n",
    "jpsi <- read_csv(\"http://opendata.cern.ch/record/545/files/Jpsimumu.csv\")\n",
    "\n",
    "# Now display the contents of this data frame:\n",
    "jpsi"
   ]
  },
  {
   "cell_type": "markdown",
   "metadata": {},
   "source": [
    "If you \"pipe\" the output of this command using the `%>%` operator from the `magrittr` package, you can perform some action on the contents of the data frame, such as \"mutating\" it to create new variables:\n",
    "\n",
    "- `mutate()` comes from the `dplyr` package, and creates three new variables here:\n",
    "    1. `ptotal` is the total momentum for each &mu;&mu; candidate,\n",
    "    1. `E` is the total energy for each candidate, and\n",
    "    1. `mass` is the invariant mass of each candidate, calculated from `ptotal` and `E`.\n",
    "\n"
   ]
  },
  {
   "cell_type": "code",
   "execution_count": 33,
   "metadata": {},
   "outputs": [
    {
     "data": {
      "text/html": [
       "<table>\n",
       "<caption>A spec_tbl_df: 20000 x 23</caption>\n",
       "<thead>\n",
       "\t<tr><th scope=col>Run</th><th scope=col>Event</th><th scope=col>type1</th><th scope=col>E1</th><th scope=col>px1</th><th scope=col>py1</th><th scope=col>pz1</th><th scope=col>pt1</th><th scope=col>eta1</th><th scope=col>phi1</th><th scope=col>...</th><th scope=col>px2</th><th scope=col>py2</th><th scope=col>pz2</th><th scope=col>pt2</th><th scope=col>eta2</th><th scope=col>phi2</th><th scope=col>Q2</th><th scope=col>ptotal</th><th scope=col>E</th><th scope=col>mass</th></tr>\n",
       "\t<tr><th scope=col>&lt;dbl&gt;</th><th scope=col>&lt;dbl&gt;</th><th scope=col>&lt;chr&gt;</th><th scope=col>&lt;dbl&gt;</th><th scope=col>&lt;dbl&gt;</th><th scope=col>&lt;dbl&gt;</th><th scope=col>&lt;dbl&gt;</th><th scope=col>&lt;dbl&gt;</th><th scope=col>&lt;dbl&gt;</th><th scope=col>&lt;dbl&gt;</th><th scope=col>...</th><th scope=col>&lt;dbl&gt;</th><th scope=col>&lt;dbl&gt;</th><th scope=col>&lt;dbl&gt;</th><th scope=col>&lt;dbl&gt;</th><th scope=col>&lt;dbl&gt;</th><th scope=col>&lt;dbl&gt;</th><th scope=col>&lt;dbl&gt;</th><th scope=col>&lt;dbl&gt;</th><th scope=col>&lt;dbl&gt;</th><th scope=col>&lt;dbl&gt;</th></tr>\n",
       "</thead>\n",
       "<tbody>\n",
       "\t<tr><td>165617</td><td>75206813</td><td>G</td><td> 10.1623</td><td>  0.4763</td><td> -8.5164</td><td>   5.5231</td><td> 8.5297</td><td> 0.6091</td><td>-1.5149</td><td>...</td><td>  2.7508</td><td>-13.9871</td><td> 13.7059</td><td>14.2550</td><td> 0.8539</td><td>-1.3766</td><td> 1</td><td> 29.775428</td><td> 29.9377</td><td>3.112837</td></tr>\n",
       "\t<tr><td>165617</td><td>75678475</td><td>G</td><td> 15.8799</td><td> 15.0618</td><td> -1.6658</td><td>  -4.7464</td><td>15.1536</td><td>-0.3083</td><td>-0.1102</td><td>...</td><td> 11.9084</td><td> -0.7670</td><td> -0.0851</td><td>11.9330</td><td>-0.0071</td><td>-0.0643</td><td>-1</td><td> 27.507337</td><td> 27.8137</td><td>4.116833</td></tr>\n",
       "\t<tr><td>165617</td><td>74428554</td><td>G</td><td> 21.8279</td><td> -6.2214</td><td> 11.0845</td><td>  17.7447</td><td>12.7111</td><td> 1.1357</td><td> 2.0823</td><td>...</td><td>-10.6874</td><td> 15.0692</td><td> 31.6544</td><td>18.4743</td><td> 1.3076</td><td> 2.1877</td><td> 1</td><td> 58.396872</td><td> 58.4792</td><td>3.101969</td></tr>\n",
       "\t<tr><td>165617</td><td>75193169</td><td>G</td><td> 19.4923</td><td>  2.7612</td><td> -5.5769</td><td> -18.4719</td><td> 6.2230</td><td>-1.8084</td><td>-1.1111</td><td>...</td><td>  1.5525</td><td> -6.1254</td><td>-13.5302</td><td> 6.3190</td><td>-1.5050</td><td>-1.3226</td><td>-1</td><td> 34.346561</td><td> 34.4257</td><td>2.332934</td></tr>\n",
       "\t<tr><td>165617</td><td>74832715</td><td>G</td><td>  8.0972</td><td>  4.6127</td><td> -1.8389</td><td>   6.3949</td><td> 4.9657</td><td> 1.0710</td><td>-0.3793</td><td>...</td><td> -0.5305</td><td>  0.6880</td><td>  3.4024</td><td> 0.8688</td><td> 2.0742</td><td> 2.2276</td><td> 1</td><td> 10.675955</td><td> 11.6103</td><td>4.563228</td></tr>\n",
       "\t<tr><td>165617</td><td>74981507</td><td>G</td><td> 30.5862</td><td> 15.5218</td><td>  5.1293</td><td> -25.8509</td><td>16.3474</td><td>-1.2391</td><td> 0.3192</td><td>...</td><td>  7.7640</td><td>  1.0425</td><td> -9.7233</td><td> 7.8337</td><td>-1.0421</td><td> 0.1335</td><td>-1</td><td> 42.963279</td><td> 43.0730</td><td>3.072463</td></tr>\n",
       "\t<tr><td>165617</td><td>75612982</td><td>G</td><td>  7.5544</td><td>  1.2913</td><td> -5.3588</td><td>  -5.1646</td><td> 5.5122</td><td>-0.8361</td><td>-1.3343</td><td>...</td><td> -0.9896</td><td> -3.4548</td><td> -1.3534</td><td> 3.5938</td><td>-0.3682</td><td>-1.8498</td><td> 1</td><td> 10.966079</td><td> 11.3960</td><td>3.100633</td></tr>\n",
       "\t<tr><td>165617</td><td>74760204</td><td>G</td><td> 24.6376</td><td>  9.9836</td><td> 19.1426</td><td> -11.8697</td><td>21.5896</td><td>-0.5253</td><td> 1.0901</td><td>...</td><td>  3.3785</td><td>  7.8272</td><td> -6.9841</td><td> 8.5252</td><td>-0.7476</td><td> 1.1633</td><td>-1</td><td> 35.515934</td><td> 35.6589</td><td>3.189913</td></tr>\n",
       "\t<tr><td>165617</td><td>75017052</td><td>G</td><td> 22.5057</td><td>  5.6296</td><td> -9.9497</td><td>  19.3857</td><td>11.4319</td><td> 1.2987</td><td>-1.0559</td><td>...</td><td>  4.9468</td><td>-13.6360</td><td> 26.9102</td><td>14.5055</td><td> 1.3769</td><td>-1.2228</td><td>-1</td><td> 53.023163</td><td> 53.0766</td><td>2.381098</td></tr>\n",
       "\t<tr><td>165617</td><td>75204668</td><td>G</td><td> 10.7051</td><td> -8.4664</td><td> -2.2374</td><td>  -6.1564</td><td> 8.7571</td><td>-0.6551</td><td>-2.8832</td><td>...</td><td>-45.0429</td><td>-16.6152</td><td>-27.2205</td><td>48.0096</td><td>-0.5403</td><td>-2.7882</td><td>-1</td><td> 65.823120</td><td> 65.8947</td><td>3.070557</td></tr>\n",
       "\t<tr><td>165617</td><td>75682819</td><td>G</td><td> 22.6067</td><td>  5.0267</td><td> -0.3155</td><td>  22.0383</td><td> 5.0366</td><td> 2.1820</td><td>-0.0627</td><td>...</td><td>  2.7987</td><td>  2.0567</td><td> 17.5388</td><td> 3.4732</td><td> 2.3222</td><td> 0.6338</td><td>-1</td><td> 40.380880</td><td> 40.4864</td><td>2.921143</td></tr>\n",
       "\t<tr><td>165617</td><td>75891163</td><td>G</td><td> 11.6778</td><td> 10.7636</td><td>  2.2556</td><td>  -3.9266</td><td>10.9974</td><td>-0.3499</td><td> 0.2066</td><td>...</td><td>  9.0065</td><td>  3.4698</td><td> -5.5732</td><td> 9.6517</td><td>-0.5494</td><td> 0.3677</td><td>-1</td><td> 22.668993</td><td> 22.8236</td><td>2.652067</td></tr>\n",
       "\t<tr><td>165617</td><td>74949022</td><td>G</td><td> 22.4059</td><td>  1.3759</td><td>  7.2096</td><td> -21.1694</td><td> 7.3397</td><td>-1.7812</td><td> 1.3822</td><td>...</td><td> -0.5663</td><td>  0.7255</td><td> -4.6907</td><td> 0.9204</td><td>-2.3312</td><td> 2.2335</td><td> 1</td><td> 27.062262</td><td> 27.1872</td><td>2.603422</td></tr>\n",
       "\t<tr><td>165617</td><td>75818801</td><td>G</td><td> 25.2596</td><td> 23.5556</td><td>  3.1909</td><td>   8.5432</td><td>23.7708</td><td> 0.3521</td><td> 0.1346</td><td>...</td><td> 10.4432</td><td>  1.1288</td><td>  5.1896</td><td>10.5040</td><td> 0.4759</td><td> 0.1077</td><td>-1</td><td> 36.921105</td><td> 36.9762</td><td>2.017761</td></tr>\n",
       "\t<tr><td>165617</td><td>74875638</td><td>G</td><td> 23.0765</td><td>  4.4733</td><td>  7.9045</td><td>  21.2138</td><td> 9.0825</td><td> 1.5844</td><td> 1.0558</td><td>...</td><td>  1.9891</td><td>  7.7265</td><td> 24.2637</td><td> 7.9785</td><td> 1.8314</td><td> 1.3188</td><td> 1</td><td> 48.521065</td><td> 48.6186</td><td>3.078065</td></tr>\n",
       "\t<tr><td>165617</td><td>76187234</td><td>G</td><td>  9.7908</td><td> -1.6247</td><td>  2.0609</td><td>   9.4320</td><td> 2.6243</td><td> 1.9912</td><td> 2.2384</td><td>...</td><td>  1.3215</td><td>  1.7092</td><td> 11.5064</td><td> 2.1605</td><td> 2.3744</td><td> 0.9126</td><td>-1</td><td> 21.277269</td><td> 21.4988</td><td>3.078347</td></tr>\n",
       "\t<tr><td>165617</td><td>76650121</td><td>G</td><td> 14.5875</td><td> -6.1673</td><td> 12.5515</td><td>  -4.1482</td><td>13.9849</td><td>-0.2924</td><td> 2.0275</td><td>...</td><td> -3.3095</td><td>  8.6271</td><td> -5.3071</td><td> 9.2401</td><td>-0.5467</td><td> 1.9371</td><td>-1</td><td> 25.054851</td><td> 25.2437</td><td>3.082021</td></tr>\n",
       "\t<tr><td>165617</td><td>76624220</td><td>G</td><td>  8.8197</td><td> -0.0263</td><td>  2.5635</td><td>  -8.4383</td><td> 2.5636</td><td>-1.9068</td><td> 1.5810</td><td>...</td><td> -1.2713</td><td> -0.6276</td><td> -7.3543</td><td> 1.4178</td><td>-2.3485</td><td>-2.6830</td><td> 1</td><td> 15.963636</td><td> 16.3102</td><td>3.344389</td></tr>\n",
       "\t<tr><td>165617</td><td>76796604</td><td>G</td><td> 13.5186</td><td>  5.4299</td><td>  7.9615</td><td>  -9.4801</td><td> 9.6369</td><td>-0.8698</td><td> 0.9722</td><td>...</td><td>  7.0747</td><td>  5.3189</td><td> -9.4925</td><td> 8.8511</td><td>-0.9317</td><td> 0.6447</td><td>-1</td><td> 26.319073</td><td> 26.4978</td><td>3.072427</td></tr>\n",
       "\t<tr><td>165617</td><td>76691627</td><td>G</td><td>  4.8860</td><td> -4.2066</td><td> -2.0383</td><td>   1.4184</td><td> 4.6744</td><td> 0.2990</td><td>-2.6904</td><td>...</td><td> -2.2166</td><td> -2.7244</td><td>  3.9246</td><td> 3.5122</td><td> 0.9620</td><td>-2.2538</td><td>-1</td><td>  9.617092</td><td> 10.1538</td><td>3.257483</td></tr>\n",
       "\t<tr><td>165617</td><td>77405245</td><td>G</td><td> 15.7236</td><td>  5.8886</td><td> -8.8699</td><td> -11.5702</td><td>10.6466</td><td>-0.9414</td><td>-0.9847</td><td>...</td><td>  1.0852</td><td> -1.0631</td><td> -3.1588</td><td> 1.5191</td><td>-1.4786</td><td>-0.7751</td><td> 1</td><td> 19.085120</td><td> 19.2303</td><td>2.358521</td></tr>\n",
       "\t<tr><td>165617</td><td>77028337</td><td>G</td><td> 18.8749</td><td>  4.7479</td><td> 18.2027</td><td>   1.5389</td><td>18.8118</td><td> 0.0817</td><td> 1.3156</td><td>...</td><td>  0.4561</td><td>  9.6741</td><td>  1.4505</td><td> 9.6849</td><td> 0.1492</td><td> 1.5237</td><td>-1</td><td> 28.515506</td><td> 28.6683</td><td>2.955896</td></tr>\n",
       "\t<tr><td>165617</td><td>77061433</td><td>G</td><td> 23.4741</td><td> 19.8385</td><td>-12.2262</td><td>  -2.8245</td><td>23.3033</td><td>-0.1209</td><td>-0.5523</td><td>...</td><td> 17.1602</td><td>-13.9707</td><td> -3.4987</td><td>22.1281</td><td>-0.1575</td><td>-0.6833</td><td>-1</td><td> 45.772964</td><td> 45.8773</td><td>3.092317</td></tr>\n",
       "\t<tr><td>165617</td><td>77358505</td><td>G</td><td> 30.7500</td><td> -7.3635</td><td> 15.1631</td><td> -25.7179</td><td>16.8564</td><td>-1.2089</td><td> 2.0229</td><td>...</td><td> -2.2575</td><td>  3.1225</td><td> -4.4699</td><td> 3.8531</td><td>-0.9902</td><td> 2.1968</td><td>-1</td><td> 36.581827</td><td> 36.6523</td><td>2.271787</td></tr>\n",
       "\t<tr><td>165617</td><td>76149397</td><td>G</td><td> 20.7971</td><td>-14.4118</td><td>  0.1627</td><td> -14.9927</td><td>14.4127</td><td>-0.9095</td><td> 3.1303</td><td>...</td><td>-10.9596</td><td> -1.0203</td><td> -9.2979</td><td>11.0070</td><td>-0.7672</td><td>-3.0488</td><td>-1</td><td> 35.135120</td><td> 35.2060</td><td>2.232884</td></tr>\n",
       "\t<tr><td>165617</td><td>76456028</td><td>G</td><td>  9.5444</td><td> -0.3567</td><td>  8.5992</td><td>   4.1245</td><td> 8.6066</td><td> 0.4625</td><td> 1.6123</td><td>...</td><td>  1.1114</td><td>  8.2858</td><td>  1.8150</td><td> 8.3600</td><td> 0.2154</td><td> 1.4375</td><td> 1</td><td> 17.915090</td><td> 18.0998</td><td>2.579206</td></tr>\n",
       "\t<tr><td>165617</td><td>77284054</td><td>G</td><td> 17.4321</td><td>  4.4650</td><td>  2.5288</td><td>  16.6594</td><td> 5.1314</td><td> 1.8937</td><td> 0.5153</td><td>...</td><td>  3.4274</td><td>  2.0304</td><td>  6.0729</td><td> 3.9837</td><td> 1.2082</td><td> 0.5348</td><td>-1</td><td> 24.491504</td><td> 24.6958</td><td>3.169983</td></tr>\n",
       "\t<tr><td>165617</td><td>77411254</td><td>G</td><td> 24.3180</td><td>-14.7649</td><td>-13.2682</td><td>  14.0465</td><td>19.8507</td><td> 0.6589</td><td>-2.4095</td><td>...</td><td> -5.6352</td><td> -7.8899</td><td>  7.0319</td><td> 9.6956</td><td> 0.6732</td><td>-2.1910</td><td>-1</td><td> 36.168055</td><td> 36.2956</td><td>3.040125</td></tr>\n",
       "\t<tr><td>165617</td><td>76225718</td><td>G</td><td>136.6910</td><td> -8.0503</td><td> 29.9944</td><td>-133.1160</td><td>31.0560</td><td>-2.1619</td><td> 1.8330</td><td>...</td><td> -1.6454</td><td>  2.4869</td><td>-13.4870</td><td> 2.9819</td><td>-2.2143</td><td> 2.1553</td><td>-1</td><td>150.470864</td><td>150.5042</td><td>3.167516</td></tr>\n",
       "\t<tr><td>165617</td><td>76954616</td><td>G</td><td> 14.5144</td><td> -4.9387</td><td> -3.0734</td><td> -13.2974</td><td> 5.8169</td><td>-1.5647</td><td>-2.5849</td><td>...</td><td>-10.3778</td><td>-11.0843</td><td>-28.9485</td><td>15.1842</td><td>-1.4010</td><td>-2.3233</td><td> 1</td><td> 47.114241</td><td> 47.2036</td><td>2.903127</td></tr>\n",
       "\t<tr><td>...</td><td>...</td><td>...</td><td>...</td><td>...</td><td>...</td><td>...</td><td>...</td><td>...</td><td>...</td><td></td><td>...</td><td>...</td><td>...</td><td>...</td><td>...</td><td>...</td><td>...</td><td>...</td><td>...</td><td>...</td></tr>\n",
       "\t<tr><td>163796</td><td>149207305</td><td>G</td><td>15.5972</td><td> -7.8392</td><td>  2.8360</td><td> 13.1820</td><td> 8.3365</td><td> 1.2390</td><td> 2.7945</td><td>...</td><td> -8.0903</td><td>  3.2608</td><td>  8.6636</td><td> 8.7227</td><td> 0.8766</td><td> 2.7585</td><td> 1</td><td>27.715522</td><td>27.8917</td><td>3.129976</td></tr>\n",
       "\t<tr><td>163796</td><td>149315049</td><td>G</td><td>16.8834</td><td> -8.5568</td><td> -1.3469</td><td> 14.4915</td><td> 8.6622</td><td> 1.2870</td><td>-2.9855</td><td>...</td><td>-12.6907</td><td> -4.0003</td><td> 16.5604</td><td>13.3063</td><td> 1.0442</td><td>-2.8362</td><td> 1</td><td>38.003543</td><td>38.1276</td><td>3.073204</td></tr>\n",
       "\t<tr><td>163796</td><td>149355681</td><td>G</td><td>11.9093</td><td> -3.0186</td><td>  6.6834</td><td> -9.3830</td><td> 7.3335</td><td>-1.0659</td><td> 1.9950</td><td>...</td><td> -4.6308</td><td>  6.7759</td><td> -6.3514</td><td> 8.2071</td><td>-0.7122</td><td> 2.1703</td><td> 1</td><td>22.073455</td><td>22.2876</td><td>3.082157</td></tr>\n",
       "\t<tr><td>163796</td><td>149481057</td><td>G</td><td>26.1230</td><td> -5.2789</td><td> -6.0937</td><td>-24.8476</td><td> 8.0622</td><td>-1.8441</td><td>-2.2847</td><td>...</td><td> -2.1285</td><td>  0.0192</td><td> -4.9145</td><td> 2.1286</td><td>-1.5738</td><td> 3.1326</td><td>-1</td><td>31.265824</td><td>31.4797</td><td>3.663303</td></tr>\n",
       "\t<tr><td>163796</td><td>127223731</td><td>G</td><td>10.1770</td><td> -9.4206</td><td> -1.4066</td><td>  3.5825</td><td> 9.5251</td><td> 0.3678</td><td>-2.9934</td><td>...</td><td> -9.7796</td><td>  0.6579</td><td>  5.2245</td><td> 9.8017</td><td> 0.5105</td><td> 3.0744</td><td> 1</td><td>21.136970</td><td>21.2846</td><td>2.502542</td></tr>\n",
       "\t<tr><td>163796</td><td>127345177</td><td>G</td><td>17.0428</td><td> -0.0829</td><td>  9.6262</td><td> 14.0632</td><td> 9.6266</td><td> 1.1729</td><td> 1.5794</td><td>...</td><td> -2.0040</td><td>  8.3575</td><td> 11.4362</td><td> 8.5944</td><td> 1.0970</td><td> 1.8061</td><td> 1</td><td>31.272800</td><td>31.3488</td><td>2.181569</td></tr>\n",
       "\t<tr><td>163796</td><td>127876076</td><td>G</td><td>12.9543</td><td> -0.8355</td><td>  6.5551</td><td>-11.1416</td><td> 6.6081</td><td>-1.2937</td><td> 1.6976</td><td>...</td><td> -1.8125</td><td>  7.5936</td><td> -8.9141</td><td> 7.8069</td><td>-0.9782</td><td> 1.8051</td><td>-1</td><td>24.686610</td><td>24.8042</td><td>2.412389</td></tr>\n",
       "\t<tr><td>163796</td><td>127946460</td><td>G</td><td>35.2379</td><td>-16.6787</td><td> -8.8567</td><td> 29.7503</td><td>18.8843</td><td> 1.2359</td><td>-2.6534</td><td>...</td><td> -5.6336</td><td> -1.2154</td><td>  8.0723</td><td> 5.7632</td><td> 1.1384</td><td>-2.9291</td><td>-1</td><td>45.053690</td><td>45.1569</td><td>3.051330</td></tr>\n",
       "\t<tr><td>163796</td><td>127401310</td><td>G</td><td> 8.1951</td><td> -3.5956</td><td>  1.2288</td><td> -7.2602</td><td> 3.7998</td><td>-1.4030</td><td> 2.8123</td><td>...</td><td> -2.7628</td><td>  3.3242</td><td>-14.5197</td><td> 4.3224</td><td>-1.9263</td><td> 2.2642</td><td>-1</td><td>23.141372</td><td>23.3449</td><td>3.075915</td></tr>\n",
       "\t<tr><td>163796</td><td>127486478</td><td>G</td><td>15.0133</td><td>  1.7625</td><td>  7.5468</td><td>-12.8580</td><td> 7.7499</td><td>-1.2799</td><td> 1.3414</td><td>...</td><td>  2.1125</td><td>  8.4802</td><td> -9.1107</td><td> 8.7394</td><td>-0.9111</td><td> 1.3267</td><td> 1</td><td>27.468239</td><td>27.6384</td><td>3.062192</td></tr>\n",
       "\t<tr><td>163796</td><td>127637742</td><td>G</td><td> 8.7668</td><td> -7.0678</td><td>  4.7861</td><td>  1.9961</td><td> 8.5359</td><td> 0.2318</td><td> 2.5463</td><td>...</td><td>-10.1579</td><td>  4.1937</td><td>  5.4251</td><td>10.9896</td><td> 0.4755</td><td> 2.7501</td><td> 1</td><td>20.795090</td><td>21.0230</td><td>3.087195</td></tr>\n",
       "\t<tr><td>163796</td><td>127683182</td><td>G</td><td>17.0841</td><td>  7.2057</td><td> -2.2961</td><td>-15.3187</td><td> 7.5626</td><td>-1.4550</td><td>-0.3085</td><td>...</td><td>  6.1504</td><td> -0.5348</td><td> -8.1202</td><td> 6.1736</td><td>-1.0877</td><td>-0.0867</td><td> 1</td><td>27.125291</td><td>27.2852</td><td>2.949696</td></tr>\n",
       "\t<tr><td>163796</td><td>127813281</td><td>G</td><td>10.8238</td><td> -4.0188</td><td> -9.9947</td><td>  1.0478</td><td>10.7724</td><td> 0.0971</td><td>-1.9531</td><td>...</td><td> -2.8641</td><td>-11.1163</td><td>  3.9834</td><td>11.4794</td><td> 0.3404</td><td>-1.8230</td><td>-1</td><td>22.767556</td><td>22.9751</td><td>3.081171</td></tr>\n",
       "\t<tr><td>163796</td><td>127422577</td><td>G</td><td> 6.7183</td><td> -0.9716</td><td>  1.6015</td><td> -6.4510</td><td> 1.8732</td><td>-1.9502</td><td> 2.1161</td><td>...</td><td> -1.1947</td><td> -1.3330</td><td> -7.6108</td><td> 1.7900</td><td>-2.1540</td><td>-2.3015</td><td> 1</td><td>14.230220</td><td>14.5375</td><td>2.973170</td></tr>\n",
       "\t<tr><td>163796</td><td>127786724</td><td>G</td><td>15.9709</td><td>  2.8540</td><td>  6.9966</td><td> 14.0699</td><td> 7.5563</td><td> 1.3802</td><td> 1.1835</td><td>...</td><td>  3.7430</td><td>  5.2704</td><td>  7.6636</td><td> 6.4643</td><td> 1.0067</td><td> 0.9533</td><td> 1</td><td>25.813654</td><td>25.9973</td><td>3.084621</td></tr>\n",
       "\t<tr><td>163796</td><td>127188049</td><td>G</td><td> 8.0245</td><td> -0.5517</td><td>  7.9914</td><td>  0.4627</td><td> 8.0105</td><td> 0.0577</td><td> 1.6397</td><td>...</td><td> -4.3954</td><td>  5.2793</td><td> -0.2899</td><td> 6.8695</td><td>-0.0422</td><td> 2.2651</td><td>-1</td><td>14.163867</td><td>14.9010</td><td>4.628678</td></tr>\n",
       "\t<tr><td>163796</td><td>127495047</td><td>G</td><td>19.5909</td><td> -6.9154</td><td> -4.0572</td><td>-17.8749</td><td> 8.0177</td><td>-1.5418</td><td>-2.6110</td><td>...</td><td> -5.2933</td><td> -3.2193</td><td> -8.3998</td><td> 6.1954</td><td>-1.1120</td><td>-2.5952</td><td>-1</td><td>29.872390</td><td>30.0289</td><td>3.061889</td></tr>\n",
       "\t<tr><td>163796</td><td>127754186</td><td>G</td><td> 6.8811</td><td> -4.0389</td><td>  5.4581</td><td> -1.1113</td><td> 6.7900</td><td>-0.1629</td><td> 2.2079</td><td>...</td><td> -6.0734</td><td>  7.3182</td><td>  2.1193</td><td> 9.5101</td><td> 0.2210</td><td> 2.2635</td><td> 1</td><td>16.325089</td><td>16.6251</td><td>3.144111</td></tr>\n",
       "\t<tr><td>163796</td><td>127959410</td><td>G</td><td>43.0596</td><td>-13.3964</td><td> 17.2464</td><td>-37.1108</td><td>21.8381</td><td>-1.3005</td><td> 2.2312</td><td>...</td><td> -5.4500</td><td>  7.8037</td><td>-19.3382</td><td> 9.5184</td><td>-1.4577</td><td> 2.1804</td><td>-1</td><td>64.569218</td><td>64.6136</td><td>2.394452</td></tr>\n",
       "\t<tr><td>163796</td><td>127308149</td><td>G</td><td>13.0274</td><td> -5.8608</td><td> -4.1203</td><td>-10.8801</td><td> 7.1642</td><td>-1.2051</td><td>-2.5288</td><td>...</td><td>-13.4641</td><td> -4.5329</td><td>-19.0785</td><td>14.2066</td><td>-1.1044</td><td>-2.8168</td><td> 1</td><td>36.685792</td><td>36.8146</td><td>3.076919</td></tr>\n",
       "\t<tr><td>163796</td><td>127362243</td><td>G</td><td>33.3041</td><td>  4.2829</td><td> -6.9550</td><td> 32.2868</td><td> 8.1680</td><td> 2.0832</td><td>-1.0188</td><td>...</td><td>  2.0668</td><td> -0.5047</td><td>  8.2919</td><td> 2.1275</td><td> 2.0695</td><td>-0.2395</td><td> 1</td><td>41.744421</td><td>41.8652</td><td>3.177776</td></tr>\n",
       "\t<tr><td>163796</td><td>127503307</td><td>G</td><td> 8.8526</td><td> -4.5409</td><td> -3.9311</td><td> -6.5027</td><td> 6.0061</td><td>-0.9386</td><td>-2.4280</td><td>...</td><td> -0.6602</td><td> -3.5092</td><td> -4.0671</td><td> 3.5708</td><td>-0.9763</td><td>-1.7567</td><td>-1</td><td>13.933061</td><td>14.2658</td><td>3.063147</td></tr>\n",
       "\t<tr><td>163796</td><td>127520099</td><td>G</td><td> 6.1346</td><td> -4.5181</td><td>  3.2249</td><td> -2.6094</td><td> 5.5509</td><td>-0.4543</td><td> 2.5217</td><td>...</td><td> -4.1607</td><td> -0.1940</td><td>  0.3754</td><td> 4.1652</td><td> 0.0900</td><td>-3.0950</td><td> 1</td><td> 9.460374</td><td>10.3180</td><td>4.118549</td></tr>\n",
       "\t<tr><td>163796</td><td>127669111</td><td>G</td><td> 9.5289</td><td> -5.9913</td><td> -1.6727</td><td> -7.2177</td><td> 6.2204</td><td>-0.9903</td><td>-2.8693</td><td>...</td><td> -4.1153</td><td> -2.6338</td><td> -2.6273</td><td> 4.8860</td><td>-0.5147</td><td>-2.5723</td><td>-1</td><td>14.751723</td><td>15.0774</td><td>3.116835</td></tr>\n",
       "\t<tr><td>163796</td><td>127974378</td><td>G</td><td> 9.1003</td><td> -6.2812</td><td> -3.1040</td><td> -5.8066</td><td> 7.0062</td><td>-0.7550</td><td>-2.6826</td><td>...</td><td>-21.3514</td><td> -3.4322</td><td>-18.6168</td><td>21.6255</td><td>-0.7795</td><td>-2.9822</td><td>-1</td><td>37.453771</td><td>37.6355</td><td>3.694036</td></tr>\n",
       "\t<tr><td>163796</td><td>127190648</td><td>G</td><td>20.3600</td><td>  9.1811</td><td>  7.6371</td><td>-16.4894</td><td>11.9423</td><td>-1.1267</td><td> 0.6939</td><td>...</td><td>  4.2811</td><td>  4.4597</td><td> -5.3678</td><td> 6.1819</td><td>-0.7851</td><td> 0.8058</td><td> 1</td><td>28.377819</td><td>28.5478</td><td>3.110674</td></tr>\n",
       "\t<tr><td>163796</td><td>127218144</td><td>G</td><td>11.4697</td><td> -1.6944</td><td>  6.4898</td><td> -9.3035</td><td> 6.7073</td><td>-1.1304</td><td> 1.8262</td><td>...</td><td> -2.2652</td><td>  9.0200</td><td> -7.5908</td><td> 9.3001</td><td>-0.7453</td><td> 1.8168</td><td> 1</td><td>23.273369</td><td>23.4748</td><td>3.068637</td></tr>\n",
       "\t<tr><td>163796</td><td>127418342</td><td>G</td><td> 7.8173</td><td>  4.7081</td><td> -4.8603</td><td> -3.9128</td><td> 6.7668</td><td>-0.5501</td><td>-0.8013</td><td>...</td><td>  7.8230</td><td> -3.5396</td><td> -6.5291</td><td> 8.5865</td><td>-0.7014</td><td>-0.4249</td><td>-1</td><td>18.347209</td><td>18.6048</td><td>3.085210</td></tr>\n",
       "\t<tr><td>163796</td><td>127439838</td><td>G</td><td>11.2399</td><td> -8.7510</td><td> -5.7406</td><td> -4.0975</td><td>10.4658</td><td>-0.3821</td><td>-2.5610</td><td>...</td><td>-12.2635</td><td>-11.9949</td><td> -4.5412</td><td>17.1543</td><td>-0.2617</td><td>-2.3673</td><td>-1</td><td>28.823329</td><td>28.9854</td><td>3.060899</td></tr>\n",
       "\t<tr><td>163796</td><td>127493066</td><td>G</td><td>17.5006</td><td> -1.9977</td><td>-14.7369</td><td> -9.2246</td><td>14.8716</td><td>-0.5861</td><td>-1.7055</td><td>...</td><td> -2.5769</td><td> -5.6052</td><td> -2.8688</td><td> 6.1691</td><td>-0.4497</td><td>-2.0017</td><td>-1</td><td>24.103492</td><td>24.3050</td><td>3.123252</td></tr>\n",
       "</tbody>\n",
       "</table>\n"
      ],
      "text/latex": [
       "A spec_tbl_df: 20000 x 23\n",
       "\\begin{tabular}{r|lllllllllllllllllllllll}\n",
       " Run & Event & type1 & E1 & px1 & py1 & pz1 & pt1 & eta1 & phi1 & Q1 & type2 & E2 & px2 & py2 & pz2 & pt2 & eta2 & phi2 & Q2 & ptotal & E & mass\\\\\n",
       " <dbl> & <dbl> & <chr> & <dbl> & <dbl> & <dbl> & <dbl> & <dbl> & <dbl> & <dbl> & <dbl> & <chr> & <dbl> & <dbl> & <dbl> & <dbl> & <dbl> & <dbl> & <dbl> & <dbl> & <dbl> & <dbl> & <dbl>\\\\\n",
       "\\hline\n",
       "\t 165617 & 75206813 & G &  10.1623 &   0.4763 &  -8.5164 &    5.5231 &  8.5297 &  0.6091 & -1.5149 & -1 & G & 19.7754 &   2.7508 & -13.9871 &  13.7059 & 14.2550 &  0.8539 & -1.3766 &  1 &  29.775428 &  29.9377 & 3.112837\\\\\n",
       "\t 165617 & 75678475 & G &  15.8799 &  15.0618 &  -1.6658 &   -4.7464 & 15.1536 & -0.3083 & -0.1102 &  1 & G & 11.9338 &  11.9084 &  -0.7670 &  -0.0851 & 11.9330 & -0.0071 & -0.0643 & -1 &  27.507337 &  27.8137 & 4.116833\\\\\n",
       "\t 165617 & 74428554 & G &  21.8279 &  -6.2214 &  11.0845 &   17.7447 & 12.7111 &  1.1357 &  2.0823 & -1 & G & 36.6513 & -10.6874 &  15.0692 &  31.6544 & 18.4743 &  1.3076 &  2.1877 &  1 &  58.396872 &  58.4792 & 3.101969\\\\\n",
       "\t 165617 & 75193169 & G &  19.4923 &   2.7612 &  -5.5769 &  -18.4719 &  6.2230 & -1.8084 & -1.1111 &  1 & G & 14.9334 &   1.5525 &  -6.1254 & -13.5302 &  6.3190 & -1.5050 & -1.3226 & -1 &  34.346561 &  34.4257 & 2.332934\\\\\n",
       "\t 165617 & 74832715 & G &   8.0972 &   4.6127 &  -1.8389 &    6.3949 &  4.9657 &  1.0710 & -0.3793 & -1 & T &  3.5131 &  -0.5305 &   0.6880 &   3.4024 &  0.8688 &  2.0742 &  2.2276 &  1 &  10.675955 &  11.6103 & 4.563228\\\\\n",
       "\t 165617 & 74981507 & G &  30.5862 &  15.5218 &   5.1293 &  -25.8509 & 16.3474 & -1.2391 &  0.3192 &  1 & G & 12.4868 &   7.7640 &   1.0425 &  -9.7233 &  7.8337 & -1.0421 &  0.1335 & -1 &  42.963279 &  43.0730 & 3.072463\\\\\n",
       "\t 165617 & 75612982 & G &   7.5544 &   1.2913 &  -5.3588 &   -5.1646 &  5.5122 & -0.8361 & -1.3343 & -1 & T &  3.8416 &  -0.9896 &  -3.4548 &  -1.3534 &  3.5938 & -0.3682 & -1.8498 &  1 &  10.966079 &  11.3960 & 3.100633\\\\\n",
       "\t 165617 & 74760204 & G &  24.6376 &   9.9836 &  19.1426 &  -11.8697 & 21.5896 & -0.5253 &  1.0901 &  1 & G & 11.0213 &   3.3785 &   7.8272 &  -6.9841 &  8.5252 & -0.7476 &  1.1633 & -1 &  35.515934 &  35.6589 & 3.189913\\\\\n",
       "\t 165617 & 75017052 & G &  22.5057 &   5.6296 &  -9.9497 &   19.3857 & 11.4319 &  1.2987 & -1.0559 &  1 & G & 30.5709 &   4.9468 & -13.6360 &  26.9102 & 14.5055 &  1.3769 & -1.2228 & -1 &  53.023163 &  53.0766 & 2.381098\\\\\n",
       "\t 165617 & 75204668 & G &  10.7051 &  -8.4664 &  -2.2374 &   -6.1564 &  8.7571 & -0.6551 & -2.8832 &  1 & G & 55.1896 & -45.0429 & -16.6152 & -27.2205 & 48.0096 & -0.5403 & -2.7882 & -1 &  65.823120 &  65.8947 & 3.070557\\\\\n",
       "\t 165617 & 75682819 & G &  22.6067 &   5.0267 &  -0.3155 &   22.0383 &  5.0366 &  2.1820 & -0.0627 &  1 & G & 17.8797 &   2.7987 &   2.0567 &  17.5388 &  3.4732 &  2.3222 &  0.6338 & -1 &  40.380880 &  40.4864 & 2.921143\\\\\n",
       "\t 165617 & 75891163 & G &  11.6778 &  10.7636 &   2.2556 &   -3.9266 & 10.9974 & -0.3499 &  0.2066 &  1 & G & 11.1458 &   9.0065 &   3.4698 &  -5.5732 &  9.6517 & -0.5494 &  0.3677 & -1 &  22.668993 &  22.8236 & 2.652067\\\\\n",
       "\t 165617 & 74949022 & G &  22.4059 &   1.3759 &   7.2096 &  -21.1694 &  7.3397 & -1.7812 &  1.3822 & -1 & T &  4.7813 &  -0.5663 &   0.7255 &  -4.6907 &  0.9204 & -2.3312 &  2.2335 &  1 &  27.062262 &  27.1872 & 2.603422\\\\\n",
       "\t 165617 & 75818801 & G &  25.2596 &  23.5556 &   3.1909 &    8.5432 & 23.7708 &  0.3521 &  0.1346 &  1 & G & 11.7166 &  10.4432 &   1.1288 &   5.1896 & 10.5040 &  0.4759 &  0.1077 & -1 &  36.921105 &  36.9762 & 2.017761\\\\\n",
       "\t 165617 & 74875638 & G &  23.0765 &   4.4733 &   7.9045 &   21.2138 &  9.0825 &  1.5844 &  1.0558 & -1 & T & 25.5421 &   1.9891 &   7.7265 &  24.2637 &  7.9785 &  1.8314 &  1.3188 &  1 &  48.521065 &  48.6186 & 3.078065\\\\\n",
       "\t 165617 & 76187234 & G &   9.7908 &  -1.6247 &   2.0609 &    9.4320 &  2.6243 &  1.9912 &  2.2384 &  1 & G & 11.7080 &   1.3215 &   1.7092 &  11.5064 &  2.1605 &  2.3744 &  0.9126 & -1 &  21.277269 &  21.4988 & 3.078347\\\\\n",
       "\t 165617 & 76650121 & G &  14.5875 &  -6.1673 &  12.5515 &   -4.1482 & 13.9849 & -0.2924 &  2.0275 &  1 & G & 10.6562 &  -3.3095 &   8.6271 &  -5.3071 &  9.2401 & -0.5467 &  1.9371 & -1 &  25.054851 &  25.2437 & 3.082021\\\\\n",
       "\t 165617 & 76624220 & G &   8.8197 &  -0.0263 &   2.5635 &   -8.4383 &  2.5636 & -1.9068 &  1.5810 & -1 & T &  7.4905 &  -1.2713 &  -0.6276 &  -7.3543 &  1.4178 & -2.3485 & -2.6830 &  1 &  15.963636 &  16.3102 & 3.344389\\\\\n",
       "\t 165617 & 76796604 & G &  13.5186 &   5.4299 &   7.9615 &   -9.4801 &  9.6369 & -0.8698 &  0.9722 &  1 & G & 12.9792 &   7.0747 &   5.3189 &  -9.4925 &  8.8511 & -0.9317 &  0.6447 & -1 &  26.319073 &  26.4978 & 3.072427\\\\\n",
       "\t 165617 & 76691627 & G &   4.8860 &  -4.2066 &  -2.0383 &    1.4184 &  4.6744 &  0.2990 & -2.6904 &  1 & T &  5.2678 &  -2.2166 &  -2.7244 &   3.9246 &  3.5122 &  0.9620 & -2.2538 & -1 &   9.617092 &  10.1538 & 3.257483\\\\\n",
       "\t 165617 & 77405245 & G &  15.7236 &   5.8886 &  -8.8699 &  -11.5702 & 10.6466 & -0.9414 & -0.9847 & -1 & T &  3.5067 &   1.0852 &  -1.0631 &  -3.1588 &  1.5191 & -1.4786 & -0.7751 &  1 &  19.085120 &  19.2303 & 2.358521\\\\\n",
       "\t 165617 & 77028337 & G &  18.8749 &   4.7479 &  18.2027 &    1.5389 & 18.8118 &  0.0817 &  1.3156 &  1 & G &  9.7934 &   0.4561 &   9.6741 &   1.4505 &  9.6849 &  0.1492 &  1.5237 & -1 &  28.515506 &  28.6683 & 2.955896\\\\\n",
       "\t 165617 & 77061433 & G &  23.4741 &  19.8385 & -12.2262 &   -2.8245 & 23.3033 & -0.1209 & -0.5523 &  1 & G & 22.4032 &  17.1602 & -13.9707 &  -3.4987 & 22.1281 & -0.1575 & -0.6833 & -1 &  45.772964 &  45.8773 & 3.092317\\\\\n",
       "\t 165617 & 77358505 & G &  30.7500 &  -7.3635 &  15.1631 &  -25.7179 & 16.8564 & -1.2089 &  2.0229 &  1 & G &  5.9023 &  -2.2575 &   3.1225 &  -4.4699 &  3.8531 & -0.9902 &  2.1968 & -1 &  36.581827 &  36.6523 & 2.271787\\\\\n",
       "\t 165617 & 76149397 & G &  20.7971 & -14.4118 &   0.1627 &  -14.9927 & 14.4127 & -0.9095 &  3.1303 &  1 & G & 14.4089 & -10.9596 &  -1.0203 &  -9.2979 & 11.0070 & -0.7672 & -3.0488 & -1 &  35.135120 &  35.2060 & 2.232884\\\\\n",
       "\t 165617 & 76456028 & G &   9.5444 &  -0.3567 &   8.5992 &    4.1245 &  8.6066 &  0.4625 &  1.6123 & -1 & G &  8.5554 &   1.1114 &   8.2858 &   1.8150 &  8.3600 &  0.2154 &  1.4375 &  1 &  17.915090 &  18.0998 & 2.579206\\\\\n",
       "\t 165617 & 77284054 & G &  17.4321 &   4.4650 &   2.5288 &   16.6594 &  5.1314 &  1.8937 &  0.5153 &  1 & G &  7.2637 &   3.4274 &   2.0304 &   6.0729 &  3.9837 &  1.2082 &  0.5348 & -1 &  24.491504 &  24.6958 & 3.169983\\\\\n",
       "\t 165617 & 77411254 & G &  24.3180 & -14.7649 & -13.2682 &   14.0465 & 19.8507 &  0.6589 & -2.4095 &  1 & G & 11.9776 &  -5.6352 &  -7.8899 &   7.0319 &  9.6956 &  0.6732 & -2.1910 & -1 &  36.168055 &  36.2956 & 3.040125\\\\\n",
       "\t 165617 & 76225718 & G & 136.6910 &  -8.0503 &  29.9944 & -133.1160 & 31.0560 & -2.1619 &  1.8330 &  1 & G & 13.8132 &  -1.6454 &   2.4869 & -13.4870 &  2.9819 & -2.2143 &  2.1553 & -1 & 150.470864 & 150.5042 & 3.167516\\\\\n",
       "\t 165617 & 76954616 & G &  14.5144 &  -4.9387 &  -3.0734 &  -13.2974 &  5.8169 & -1.5647 & -2.5849 & -1 & T & 32.6892 & -10.3778 & -11.0843 & -28.9485 & 15.1842 & -1.4010 & -2.3233 &  1 &  47.114241 &  47.2036 & 2.903127\\\\\n",
       "\t ... & ... & ... & ... & ... & ... & ... & ... & ... & ... & ... & ... & ... & ... & ... & ... & ... & ... & ... & ... & ... & ... & ...\\\\\n",
       "\t 163796 & 149207305 & G & 15.5972 &  -7.8392 &   2.8360 &  13.1820 &  8.3365 &  1.2390 &  2.7945 & -1 & G & 12.2945 &  -8.0903 &   3.2608 &   8.6636 &  8.7227 &  0.8766 &  2.7585 &  1 & 27.715522 & 27.8917 & 3.129976\\\\\n",
       "\t 163796 & 149315049 & G & 16.8834 &  -8.5568 &  -1.3469 &  14.4915 &  8.6622 &  1.2870 & -2.9855 & -1 & G & 21.2442 & -12.6907 &  -4.0003 &  16.5604 & 13.3063 &  1.0442 & -2.8362 &  1 & 38.003543 & 38.1276 & 3.073204\\\\\n",
       "\t 163796 & 149355681 & G & 11.9093 &  -3.0186 &   6.6834 &  -9.3830 &  7.3335 & -1.0659 &  1.9950 & -1 & G & 10.3783 &  -4.6308 &   6.7759 &  -6.3514 &  8.2071 & -0.7122 &  2.1703 &  1 & 22.073455 & 22.2876 & 3.082157\\\\\n",
       "\t 163796 & 149481057 & G & 26.1230 &  -5.2789 &  -6.0937 & -24.8476 &  8.0622 & -1.8441 & -2.2847 &  1 & T &  5.3567 &  -2.1285 &   0.0192 &  -4.9145 &  2.1286 & -1.5738 &  3.1326 & -1 & 31.265824 & 31.4797 & 3.663303\\\\\n",
       "\t 163796 & 127223731 & G & 10.1770 &  -9.4206 &  -1.4066 &   3.5825 &  9.5251 &  0.3678 & -2.9934 & -1 & G & 11.1076 &  -9.7796 &   0.6579 &   5.2245 &  9.8017 &  0.5105 &  3.0744 &  1 & 21.136970 & 21.2846 & 2.502542\\\\\n",
       "\t 163796 & 127345177 & G & 17.0428 &  -0.0829 &   9.6262 &  14.0632 &  9.6266 &  1.1729 &  1.5794 & -1 & G & 14.3060 &  -2.0040 &   8.3575 &  11.4362 &  8.5944 &  1.0970 &  1.8061 &  1 & 31.272800 & 31.3488 & 2.181569\\\\\n",
       "\t 163796 & 127876076 & G & 12.9543 &  -0.8355 &   6.5551 & -11.1416 &  6.6081 & -1.2937 &  1.6976 &  1 & G & 11.8499 &  -1.8125 &   7.5936 &  -8.9141 &  7.8069 & -0.9782 &  1.8051 & -1 & 24.686610 & 24.8042 & 2.412389\\\\\n",
       "\t 163796 & 127946460 & G & 35.2379 & -16.6787 &  -8.8567 &  29.7503 & 18.8843 &  1.2359 & -2.6534 &  1 & G &  9.9190 &  -5.6336 &  -1.2154 &   8.0723 &  5.7632 &  1.1384 & -2.9291 & -1 & 45.053690 & 45.1569 & 3.051330\\\\\n",
       "\t 163796 & 127401310 & G &  8.1951 &  -3.5956 &   1.2288 &  -7.2602 &  3.7998 & -1.4030 &  2.8123 &  1 & G & 15.1498 &  -2.7628 &   3.3242 & -14.5197 &  4.3224 & -1.9263 &  2.2642 & -1 & 23.141372 & 23.3449 & 3.075915\\\\\n",
       "\t 163796 & 127486478 & G & 15.0133 &   1.7625 &   7.5468 & -12.8580 &  7.7499 & -1.2799 &  1.3414 & -1 & G & 12.6251 &   2.1125 &   8.4802 &  -9.1107 &  8.7394 & -0.9111 &  1.3267 &  1 & 27.468239 & 27.6384 & 3.062192\\\\\n",
       "\t 163796 & 127637742 & G &  8.7668 &  -7.0678 &   4.7861 &   1.9961 &  8.5359 &  0.2318 &  2.5463 & -1 & G & 12.2562 & -10.1579 &   4.1937 &   5.4251 & 10.9896 &  0.4755 &  2.7501 &  1 & 20.795090 & 21.0230 & 3.087195\\\\\n",
       "\t 163796 & 127683182 & G & 17.0841 &   7.2057 &  -2.2961 & -15.3187 &  7.5626 & -1.4550 & -0.3085 & -1 & G & 10.2011 &   6.1504 &  -0.5348 &  -8.1202 &  6.1736 & -1.0877 & -0.0867 &  1 & 27.125291 & 27.2852 & 2.949696\\\\\n",
       "\t 163796 & 127813281 & G & 10.8238 &  -4.0188 &  -9.9947 &   1.0478 & 10.7724 &  0.0971 & -1.9531 &  1 & G & 12.1513 &  -2.8641 & -11.1163 &   3.9834 & 11.4794 &  0.3404 & -1.8230 & -1 & 22.767556 & 22.9751 & 3.081171\\\\\n",
       "\t 163796 & 127422577 & G &  6.7183 &  -0.9716 &   1.6015 &  -6.4510 &  1.8732 & -1.9502 &  2.1161 & -1 & G &  7.8192 &  -1.1947 &  -1.3330 &  -7.6108 &  1.7900 & -2.1540 & -2.3015 &  1 & 14.230220 & 14.5375 & 2.973170\\\\\n",
       "\t 163796 & 127786724 & G & 15.9709 &   2.8540 &   6.9966 &  14.0699 &  7.5563 &  1.3802 &  1.1835 & -1 & G & 10.0264 &   3.7430 &   5.2704 &   7.6636 &  6.4643 &  1.0067 &  0.9533 &  1 & 25.813654 & 25.9973 & 3.084621\\\\\n",
       "\t 163796 & 127188049 & G &  8.0245 &  -0.5517 &   7.9914 &   0.4627 &  8.0105 &  0.0577 &  1.6397 &  1 & G &  6.8765 &  -4.3954 &   5.2793 &  -0.2899 &  6.8695 & -0.0422 &  2.2651 & -1 & 14.163867 & 14.9010 & 4.628678\\\\\n",
       "\t 163796 & 127495047 & G & 19.5909 &  -6.9154 &  -4.0572 & -17.8749 &  8.0177 & -1.5418 & -2.6110 &  1 & G & 10.4380 &  -5.2933 &  -3.2193 &  -8.3998 &  6.1954 & -1.1120 & -2.5952 & -1 & 29.872390 & 30.0289 & 3.061889\\\\\n",
       "\t 163796 & 127754186 & G &  6.8811 &  -4.0389 &   5.4581 &  -1.1113 &  6.7900 & -0.1629 &  2.2079 & -1 & G &  9.7440 &  -6.0734 &   7.3182 &   2.1193 &  9.5101 &  0.2210 &  2.2635 &  1 & 16.325089 & 16.6251 & 3.144111\\\\\n",
       "\t 163796 & 127959410 & G & 43.0596 & -13.3964 &  17.2464 & -37.1108 & 21.8381 & -1.3005 &  2.2312 &  1 & G & 21.5540 &  -5.4500 &   7.8037 & -19.3382 &  9.5184 & -1.4577 &  2.1804 & -1 & 64.569218 & 64.6136 & 2.394452\\\\\n",
       "\t 163796 & 127308149 & G & 13.0274 &  -5.8608 &  -4.1203 & -10.8801 &  7.1642 & -1.2051 & -2.5288 & -1 & G & 23.7872 & -13.4641 &  -4.5329 & -19.0785 & 14.2066 & -1.1044 & -2.8168 &  1 & 36.685792 & 36.8146 & 3.076919\\\\\n",
       "\t 163796 & 127362243 & G & 33.3041 &   4.2829 &  -6.9550 &  32.2868 &  8.1680 &  2.0832 & -1.0188 & -1 & T &  8.5611 &   2.0668 &  -0.5047 &   8.2919 &  2.1275 &  2.0695 & -0.2395 &  1 & 41.744421 & 41.8652 & 3.177776\\\\\n",
       "\t 163796 & 127503307 & G &  8.8526 &  -4.5409 &  -3.9311 &  -6.5027 &  6.0061 & -0.9386 & -2.4280 &  1 & G &  5.4132 &  -0.6602 &  -3.5092 &  -4.0671 &  3.5708 & -0.9763 & -1.7567 & -1 & 13.933061 & 14.2658 & 3.063147\\\\\n",
       "\t 163796 & 127520099 & G &  6.1346 &  -4.5181 &   3.2249 &  -2.6094 &  5.5509 & -0.4543 &  2.5217 & -1 & G &  4.1834 &  -4.1607 &  -0.1940 &   0.3754 &  4.1652 &  0.0900 & -3.0950 &  1 &  9.460374 & 10.3180 & 4.118549\\\\\n",
       "\t 163796 & 127669111 & G &  9.5289 &  -5.9913 &  -1.6727 &  -7.2177 &  6.2204 & -0.9903 & -2.8693 &  1 & G &  5.5485 &  -4.1153 &  -2.6338 &  -2.6273 &  4.8860 & -0.5147 & -2.5723 & -1 & 14.751723 & 15.0774 & 3.116835\\\\\n",
       "\t 163796 & 127974378 & G &  9.1003 &  -6.2812 &  -3.1040 &  -5.8066 &  7.0062 & -0.7550 & -2.6826 &  1 & G & 28.5352 & -21.3514 &  -3.4322 & -18.6168 & 21.6255 & -0.7795 & -2.9822 & -1 & 37.453771 & 37.6355 & 3.694036\\\\\n",
       "\t 163796 & 127190648 & G & 20.3600 &   9.1811 &   7.6371 & -16.4894 & 11.9423 & -1.1267 &  0.6939 & -1 & G &  8.1878 &   4.2811 &   4.4597 &  -5.3678 &  6.1819 & -0.7851 &  0.8058 &  1 & 28.377819 & 28.5478 & 3.110674\\\\\n",
       "\t 163796 & 127218144 & G & 11.4697 &  -1.6944 &   6.4898 &  -9.3035 &  6.7073 & -1.1304 &  1.8262 & -1 & G & 12.0051 &  -2.2652 &   9.0200 &  -7.5908 &  9.3001 & -0.7453 &  1.8168 &  1 & 23.273369 & 23.4748 & 3.068637\\\\\n",
       "\t 163796 & 127418342 & G &  7.8173 &   4.7081 &  -4.8603 &  -3.9128 &  6.7668 & -0.5501 & -0.8013 &  1 & G & 10.7875 &   7.8230 &  -3.5396 &  -6.5291 &  8.5865 & -0.7014 & -0.4249 & -1 & 18.347209 & 18.6048 & 3.085210\\\\\n",
       "\t 163796 & 127439838 & G & 11.2399 &  -8.7510 &  -5.7406 &  -4.0975 & 10.4658 & -0.3821 & -2.5610 &  1 & G & 17.7455 & -12.2635 & -11.9949 &  -4.5412 & 17.1543 & -0.2617 & -2.3673 & -1 & 28.823329 & 28.9854 & 3.060899\\\\\n",
       "\t 163796 & 127493066 & G & 17.5006 &  -1.9977 & -14.7369 &  -9.2246 & 14.8716 & -0.5861 & -1.7055 &  1 & G &  6.8044 &  -2.5769 &  -5.6052 &  -2.8688 &  6.1691 & -0.4497 & -2.0017 & -1 & 24.103492 & 24.3050 & 3.123252\\\\\n",
       "\\end{tabular}\n"
      ],
      "text/markdown": [
       "\n",
       "A spec_tbl_df: 20000 x 23\n",
       "\n",
       "| Run &lt;dbl&gt; | Event &lt;dbl&gt; | type1 &lt;chr&gt; | E1 &lt;dbl&gt; | px1 &lt;dbl&gt; | py1 &lt;dbl&gt; | pz1 &lt;dbl&gt; | pt1 &lt;dbl&gt; | eta1 &lt;dbl&gt; | phi1 &lt;dbl&gt; | ... ... | px2 &lt;dbl&gt; | py2 &lt;dbl&gt; | pz2 &lt;dbl&gt; | pt2 &lt;dbl&gt; | eta2 &lt;dbl&gt; | phi2 &lt;dbl&gt; | Q2 &lt;dbl&gt; | ptotal &lt;dbl&gt; | E &lt;dbl&gt; | mass &lt;dbl&gt; |\n",
       "|---|---|---|---|---|---|---|---|---|---|---|---|---|---|---|---|---|---|---|---|---|\n",
       "| 165617 | 75206813 | G |  10.1623 |   0.4763 |  -8.5164 |    5.5231 |  8.5297 |  0.6091 | -1.5149 | ... |   2.7508 | -13.9871 |  13.7059 | 14.2550 |  0.8539 | -1.3766 |  1 |  29.775428 |  29.9377 | 3.112837 |\n",
       "| 165617 | 75678475 | G |  15.8799 |  15.0618 |  -1.6658 |   -4.7464 | 15.1536 | -0.3083 | -0.1102 | ... |  11.9084 |  -0.7670 |  -0.0851 | 11.9330 | -0.0071 | -0.0643 | -1 |  27.507337 |  27.8137 | 4.116833 |\n",
       "| 165617 | 74428554 | G |  21.8279 |  -6.2214 |  11.0845 |   17.7447 | 12.7111 |  1.1357 |  2.0823 | ... | -10.6874 |  15.0692 |  31.6544 | 18.4743 |  1.3076 |  2.1877 |  1 |  58.396872 |  58.4792 | 3.101969 |\n",
       "| 165617 | 75193169 | G |  19.4923 |   2.7612 |  -5.5769 |  -18.4719 |  6.2230 | -1.8084 | -1.1111 | ... |   1.5525 |  -6.1254 | -13.5302 |  6.3190 | -1.5050 | -1.3226 | -1 |  34.346561 |  34.4257 | 2.332934 |\n",
       "| 165617 | 74832715 | G |   8.0972 |   4.6127 |  -1.8389 |    6.3949 |  4.9657 |  1.0710 | -0.3793 | ... |  -0.5305 |   0.6880 |   3.4024 |  0.8688 |  2.0742 |  2.2276 |  1 |  10.675955 |  11.6103 | 4.563228 |\n",
       "| 165617 | 74981507 | G |  30.5862 |  15.5218 |   5.1293 |  -25.8509 | 16.3474 | -1.2391 |  0.3192 | ... |   7.7640 |   1.0425 |  -9.7233 |  7.8337 | -1.0421 |  0.1335 | -1 |  42.963279 |  43.0730 | 3.072463 |\n",
       "| 165617 | 75612982 | G |   7.5544 |   1.2913 |  -5.3588 |   -5.1646 |  5.5122 | -0.8361 | -1.3343 | ... |  -0.9896 |  -3.4548 |  -1.3534 |  3.5938 | -0.3682 | -1.8498 |  1 |  10.966079 |  11.3960 | 3.100633 |\n",
       "| 165617 | 74760204 | G |  24.6376 |   9.9836 |  19.1426 |  -11.8697 | 21.5896 | -0.5253 |  1.0901 | ... |   3.3785 |   7.8272 |  -6.9841 |  8.5252 | -0.7476 |  1.1633 | -1 |  35.515934 |  35.6589 | 3.189913 |\n",
       "| 165617 | 75017052 | G |  22.5057 |   5.6296 |  -9.9497 |   19.3857 | 11.4319 |  1.2987 | -1.0559 | ... |   4.9468 | -13.6360 |  26.9102 | 14.5055 |  1.3769 | -1.2228 | -1 |  53.023163 |  53.0766 | 2.381098 |\n",
       "| 165617 | 75204668 | G |  10.7051 |  -8.4664 |  -2.2374 |   -6.1564 |  8.7571 | -0.6551 | -2.8832 | ... | -45.0429 | -16.6152 | -27.2205 | 48.0096 | -0.5403 | -2.7882 | -1 |  65.823120 |  65.8947 | 3.070557 |\n",
       "| 165617 | 75682819 | G |  22.6067 |   5.0267 |  -0.3155 |   22.0383 |  5.0366 |  2.1820 | -0.0627 | ... |   2.7987 |   2.0567 |  17.5388 |  3.4732 |  2.3222 |  0.6338 | -1 |  40.380880 |  40.4864 | 2.921143 |\n",
       "| 165617 | 75891163 | G |  11.6778 |  10.7636 |   2.2556 |   -3.9266 | 10.9974 | -0.3499 |  0.2066 | ... |   9.0065 |   3.4698 |  -5.5732 |  9.6517 | -0.5494 |  0.3677 | -1 |  22.668993 |  22.8236 | 2.652067 |\n",
       "| 165617 | 74949022 | G |  22.4059 |   1.3759 |   7.2096 |  -21.1694 |  7.3397 | -1.7812 |  1.3822 | ... |  -0.5663 |   0.7255 |  -4.6907 |  0.9204 | -2.3312 |  2.2335 |  1 |  27.062262 |  27.1872 | 2.603422 |\n",
       "| 165617 | 75818801 | G |  25.2596 |  23.5556 |   3.1909 |    8.5432 | 23.7708 |  0.3521 |  0.1346 | ... |  10.4432 |   1.1288 |   5.1896 | 10.5040 |  0.4759 |  0.1077 | -1 |  36.921105 |  36.9762 | 2.017761 |\n",
       "| 165617 | 74875638 | G |  23.0765 |   4.4733 |   7.9045 |   21.2138 |  9.0825 |  1.5844 |  1.0558 | ... |   1.9891 |   7.7265 |  24.2637 |  7.9785 |  1.8314 |  1.3188 |  1 |  48.521065 |  48.6186 | 3.078065 |\n",
       "| 165617 | 76187234 | G |   9.7908 |  -1.6247 |   2.0609 |    9.4320 |  2.6243 |  1.9912 |  2.2384 | ... |   1.3215 |   1.7092 |  11.5064 |  2.1605 |  2.3744 |  0.9126 | -1 |  21.277269 |  21.4988 | 3.078347 |\n",
       "| 165617 | 76650121 | G |  14.5875 |  -6.1673 |  12.5515 |   -4.1482 | 13.9849 | -0.2924 |  2.0275 | ... |  -3.3095 |   8.6271 |  -5.3071 |  9.2401 | -0.5467 |  1.9371 | -1 |  25.054851 |  25.2437 | 3.082021 |\n",
       "| 165617 | 76624220 | G |   8.8197 |  -0.0263 |   2.5635 |   -8.4383 |  2.5636 | -1.9068 |  1.5810 | ... |  -1.2713 |  -0.6276 |  -7.3543 |  1.4178 | -2.3485 | -2.6830 |  1 |  15.963636 |  16.3102 | 3.344389 |\n",
       "| 165617 | 76796604 | G |  13.5186 |   5.4299 |   7.9615 |   -9.4801 |  9.6369 | -0.8698 |  0.9722 | ... |   7.0747 |   5.3189 |  -9.4925 |  8.8511 | -0.9317 |  0.6447 | -1 |  26.319073 |  26.4978 | 3.072427 |\n",
       "| 165617 | 76691627 | G |   4.8860 |  -4.2066 |  -2.0383 |    1.4184 |  4.6744 |  0.2990 | -2.6904 | ... |  -2.2166 |  -2.7244 |   3.9246 |  3.5122 |  0.9620 | -2.2538 | -1 |   9.617092 |  10.1538 | 3.257483 |\n",
       "| 165617 | 77405245 | G |  15.7236 |   5.8886 |  -8.8699 |  -11.5702 | 10.6466 | -0.9414 | -0.9847 | ... |   1.0852 |  -1.0631 |  -3.1588 |  1.5191 | -1.4786 | -0.7751 |  1 |  19.085120 |  19.2303 | 2.358521 |\n",
       "| 165617 | 77028337 | G |  18.8749 |   4.7479 |  18.2027 |    1.5389 | 18.8118 |  0.0817 |  1.3156 | ... |   0.4561 |   9.6741 |   1.4505 |  9.6849 |  0.1492 |  1.5237 | -1 |  28.515506 |  28.6683 | 2.955896 |\n",
       "| 165617 | 77061433 | G |  23.4741 |  19.8385 | -12.2262 |   -2.8245 | 23.3033 | -0.1209 | -0.5523 | ... |  17.1602 | -13.9707 |  -3.4987 | 22.1281 | -0.1575 | -0.6833 | -1 |  45.772964 |  45.8773 | 3.092317 |\n",
       "| 165617 | 77358505 | G |  30.7500 |  -7.3635 |  15.1631 |  -25.7179 | 16.8564 | -1.2089 |  2.0229 | ... |  -2.2575 |   3.1225 |  -4.4699 |  3.8531 | -0.9902 |  2.1968 | -1 |  36.581827 |  36.6523 | 2.271787 |\n",
       "| 165617 | 76149397 | G |  20.7971 | -14.4118 |   0.1627 |  -14.9927 | 14.4127 | -0.9095 |  3.1303 | ... | -10.9596 |  -1.0203 |  -9.2979 | 11.0070 | -0.7672 | -3.0488 | -1 |  35.135120 |  35.2060 | 2.232884 |\n",
       "| 165617 | 76456028 | G |   9.5444 |  -0.3567 |   8.5992 |    4.1245 |  8.6066 |  0.4625 |  1.6123 | ... |   1.1114 |   8.2858 |   1.8150 |  8.3600 |  0.2154 |  1.4375 |  1 |  17.915090 |  18.0998 | 2.579206 |\n",
       "| 165617 | 77284054 | G |  17.4321 |   4.4650 |   2.5288 |   16.6594 |  5.1314 |  1.8937 |  0.5153 | ... |   3.4274 |   2.0304 |   6.0729 |  3.9837 |  1.2082 |  0.5348 | -1 |  24.491504 |  24.6958 | 3.169983 |\n",
       "| 165617 | 77411254 | G |  24.3180 | -14.7649 | -13.2682 |   14.0465 | 19.8507 |  0.6589 | -2.4095 | ... |  -5.6352 |  -7.8899 |   7.0319 |  9.6956 |  0.6732 | -2.1910 | -1 |  36.168055 |  36.2956 | 3.040125 |\n",
       "| 165617 | 76225718 | G | 136.6910 |  -8.0503 |  29.9944 | -133.1160 | 31.0560 | -2.1619 |  1.8330 | ... |  -1.6454 |   2.4869 | -13.4870 |  2.9819 | -2.2143 |  2.1553 | -1 | 150.470864 | 150.5042 | 3.167516 |\n",
       "| 165617 | 76954616 | G |  14.5144 |  -4.9387 |  -3.0734 |  -13.2974 |  5.8169 | -1.5647 | -2.5849 | ... | -10.3778 | -11.0843 | -28.9485 | 15.1842 | -1.4010 | -2.3233 |  1 |  47.114241 |  47.2036 | 2.903127 |\n",
       "| ... | ... | ... | ... | ... | ... | ... | ... | ... | ... | <!----> | ... | ... | ... | ... | ... | ... | ... | ... | ... | ... |\n",
       "| 163796 | 149207305 | G | 15.5972 |  -7.8392 |   2.8360 |  13.1820 |  8.3365 |  1.2390 |  2.7945 | ... |  -8.0903 |   3.2608 |   8.6636 |  8.7227 |  0.8766 |  2.7585 |  1 | 27.715522 | 27.8917 | 3.129976 |\n",
       "| 163796 | 149315049 | G | 16.8834 |  -8.5568 |  -1.3469 |  14.4915 |  8.6622 |  1.2870 | -2.9855 | ... | -12.6907 |  -4.0003 |  16.5604 | 13.3063 |  1.0442 | -2.8362 |  1 | 38.003543 | 38.1276 | 3.073204 |\n",
       "| 163796 | 149355681 | G | 11.9093 |  -3.0186 |   6.6834 |  -9.3830 |  7.3335 | -1.0659 |  1.9950 | ... |  -4.6308 |   6.7759 |  -6.3514 |  8.2071 | -0.7122 |  2.1703 |  1 | 22.073455 | 22.2876 | 3.082157 |\n",
       "| 163796 | 149481057 | G | 26.1230 |  -5.2789 |  -6.0937 | -24.8476 |  8.0622 | -1.8441 | -2.2847 | ... |  -2.1285 |   0.0192 |  -4.9145 |  2.1286 | -1.5738 |  3.1326 | -1 | 31.265824 | 31.4797 | 3.663303 |\n",
       "| 163796 | 127223731 | G | 10.1770 |  -9.4206 |  -1.4066 |   3.5825 |  9.5251 |  0.3678 | -2.9934 | ... |  -9.7796 |   0.6579 |   5.2245 |  9.8017 |  0.5105 |  3.0744 |  1 | 21.136970 | 21.2846 | 2.502542 |\n",
       "| 163796 | 127345177 | G | 17.0428 |  -0.0829 |   9.6262 |  14.0632 |  9.6266 |  1.1729 |  1.5794 | ... |  -2.0040 |   8.3575 |  11.4362 |  8.5944 |  1.0970 |  1.8061 |  1 | 31.272800 | 31.3488 | 2.181569 |\n",
       "| 163796 | 127876076 | G | 12.9543 |  -0.8355 |   6.5551 | -11.1416 |  6.6081 | -1.2937 |  1.6976 | ... |  -1.8125 |   7.5936 |  -8.9141 |  7.8069 | -0.9782 |  1.8051 | -1 | 24.686610 | 24.8042 | 2.412389 |\n",
       "| 163796 | 127946460 | G | 35.2379 | -16.6787 |  -8.8567 |  29.7503 | 18.8843 |  1.2359 | -2.6534 | ... |  -5.6336 |  -1.2154 |   8.0723 |  5.7632 |  1.1384 | -2.9291 | -1 | 45.053690 | 45.1569 | 3.051330 |\n",
       "| 163796 | 127401310 | G |  8.1951 |  -3.5956 |   1.2288 |  -7.2602 |  3.7998 | -1.4030 |  2.8123 | ... |  -2.7628 |   3.3242 | -14.5197 |  4.3224 | -1.9263 |  2.2642 | -1 | 23.141372 | 23.3449 | 3.075915 |\n",
       "| 163796 | 127486478 | G | 15.0133 |   1.7625 |   7.5468 | -12.8580 |  7.7499 | -1.2799 |  1.3414 | ... |   2.1125 |   8.4802 |  -9.1107 |  8.7394 | -0.9111 |  1.3267 |  1 | 27.468239 | 27.6384 | 3.062192 |\n",
       "| 163796 | 127637742 | G |  8.7668 |  -7.0678 |   4.7861 |   1.9961 |  8.5359 |  0.2318 |  2.5463 | ... | -10.1579 |   4.1937 |   5.4251 | 10.9896 |  0.4755 |  2.7501 |  1 | 20.795090 | 21.0230 | 3.087195 |\n",
       "| 163796 | 127683182 | G | 17.0841 |   7.2057 |  -2.2961 | -15.3187 |  7.5626 | -1.4550 | -0.3085 | ... |   6.1504 |  -0.5348 |  -8.1202 |  6.1736 | -1.0877 | -0.0867 |  1 | 27.125291 | 27.2852 | 2.949696 |\n",
       "| 163796 | 127813281 | G | 10.8238 |  -4.0188 |  -9.9947 |   1.0478 | 10.7724 |  0.0971 | -1.9531 | ... |  -2.8641 | -11.1163 |   3.9834 | 11.4794 |  0.3404 | -1.8230 | -1 | 22.767556 | 22.9751 | 3.081171 |\n",
       "| 163796 | 127422577 | G |  6.7183 |  -0.9716 |   1.6015 |  -6.4510 |  1.8732 | -1.9502 |  2.1161 | ... |  -1.1947 |  -1.3330 |  -7.6108 |  1.7900 | -2.1540 | -2.3015 |  1 | 14.230220 | 14.5375 | 2.973170 |\n",
       "| 163796 | 127786724 | G | 15.9709 |   2.8540 |   6.9966 |  14.0699 |  7.5563 |  1.3802 |  1.1835 | ... |   3.7430 |   5.2704 |   7.6636 |  6.4643 |  1.0067 |  0.9533 |  1 | 25.813654 | 25.9973 | 3.084621 |\n",
       "| 163796 | 127188049 | G |  8.0245 |  -0.5517 |   7.9914 |   0.4627 |  8.0105 |  0.0577 |  1.6397 | ... |  -4.3954 |   5.2793 |  -0.2899 |  6.8695 | -0.0422 |  2.2651 | -1 | 14.163867 | 14.9010 | 4.628678 |\n",
       "| 163796 | 127495047 | G | 19.5909 |  -6.9154 |  -4.0572 | -17.8749 |  8.0177 | -1.5418 | -2.6110 | ... |  -5.2933 |  -3.2193 |  -8.3998 |  6.1954 | -1.1120 | -2.5952 | -1 | 29.872390 | 30.0289 | 3.061889 |\n",
       "| 163796 | 127754186 | G |  6.8811 |  -4.0389 |   5.4581 |  -1.1113 |  6.7900 | -0.1629 |  2.2079 | ... |  -6.0734 |   7.3182 |   2.1193 |  9.5101 |  0.2210 |  2.2635 |  1 | 16.325089 | 16.6251 | 3.144111 |\n",
       "| 163796 | 127959410 | G | 43.0596 | -13.3964 |  17.2464 | -37.1108 | 21.8381 | -1.3005 |  2.2312 | ... |  -5.4500 |   7.8037 | -19.3382 |  9.5184 | -1.4577 |  2.1804 | -1 | 64.569218 | 64.6136 | 2.394452 |\n",
       "| 163796 | 127308149 | G | 13.0274 |  -5.8608 |  -4.1203 | -10.8801 |  7.1642 | -1.2051 | -2.5288 | ... | -13.4641 |  -4.5329 | -19.0785 | 14.2066 | -1.1044 | -2.8168 |  1 | 36.685792 | 36.8146 | 3.076919 |\n",
       "| 163796 | 127362243 | G | 33.3041 |   4.2829 |  -6.9550 |  32.2868 |  8.1680 |  2.0832 | -1.0188 | ... |   2.0668 |  -0.5047 |   8.2919 |  2.1275 |  2.0695 | -0.2395 |  1 | 41.744421 | 41.8652 | 3.177776 |\n",
       "| 163796 | 127503307 | G |  8.8526 |  -4.5409 |  -3.9311 |  -6.5027 |  6.0061 | -0.9386 | -2.4280 | ... |  -0.6602 |  -3.5092 |  -4.0671 |  3.5708 | -0.9763 | -1.7567 | -1 | 13.933061 | 14.2658 | 3.063147 |\n",
       "| 163796 | 127520099 | G |  6.1346 |  -4.5181 |   3.2249 |  -2.6094 |  5.5509 | -0.4543 |  2.5217 | ... |  -4.1607 |  -0.1940 |   0.3754 |  4.1652 |  0.0900 | -3.0950 |  1 |  9.460374 | 10.3180 | 4.118549 |\n",
       "| 163796 | 127669111 | G |  9.5289 |  -5.9913 |  -1.6727 |  -7.2177 |  6.2204 | -0.9903 | -2.8693 | ... |  -4.1153 |  -2.6338 |  -2.6273 |  4.8860 | -0.5147 | -2.5723 | -1 | 14.751723 | 15.0774 | 3.116835 |\n",
       "| 163796 | 127974378 | G |  9.1003 |  -6.2812 |  -3.1040 |  -5.8066 |  7.0062 | -0.7550 | -2.6826 | ... | -21.3514 |  -3.4322 | -18.6168 | 21.6255 | -0.7795 | -2.9822 | -1 | 37.453771 | 37.6355 | 3.694036 |\n",
       "| 163796 | 127190648 | G | 20.3600 |   9.1811 |   7.6371 | -16.4894 | 11.9423 | -1.1267 |  0.6939 | ... |   4.2811 |   4.4597 |  -5.3678 |  6.1819 | -0.7851 |  0.8058 |  1 | 28.377819 | 28.5478 | 3.110674 |\n",
       "| 163796 | 127218144 | G | 11.4697 |  -1.6944 |   6.4898 |  -9.3035 |  6.7073 | -1.1304 |  1.8262 | ... |  -2.2652 |   9.0200 |  -7.5908 |  9.3001 | -0.7453 |  1.8168 |  1 | 23.273369 | 23.4748 | 3.068637 |\n",
       "| 163796 | 127418342 | G |  7.8173 |   4.7081 |  -4.8603 |  -3.9128 |  6.7668 | -0.5501 | -0.8013 | ... |   7.8230 |  -3.5396 |  -6.5291 |  8.5865 | -0.7014 | -0.4249 | -1 | 18.347209 | 18.6048 | 3.085210 |\n",
       "| 163796 | 127439838 | G | 11.2399 |  -8.7510 |  -5.7406 |  -4.0975 | 10.4658 | -0.3821 | -2.5610 | ... | -12.2635 | -11.9949 |  -4.5412 | 17.1543 | -0.2617 | -2.3673 | -1 | 28.823329 | 28.9854 | 3.060899 |\n",
       "| 163796 | 127493066 | G | 17.5006 |  -1.9977 | -14.7369 |  -9.2246 | 14.8716 | -0.5861 | -1.7055 | ... |  -2.5769 |  -5.6052 |  -2.8688 |  6.1691 | -0.4497 | -2.0017 | -1 | 24.103492 | 24.3050 | 3.123252 |\n",
       "\n"
      ],
      "text/plain": [
       "      Run    Event     type1 E1       px1      py1      pz1       pt1    \n",
       "1     165617 75206813  G      10.1623   0.4763  -8.5164    5.5231  8.5297\n",
       "2     165617 75678475  G      15.8799  15.0618  -1.6658   -4.7464 15.1536\n",
       "3     165617 74428554  G      21.8279  -6.2214  11.0845   17.7447 12.7111\n",
       "4     165617 75193169  G      19.4923   2.7612  -5.5769  -18.4719  6.2230\n",
       "5     165617 74832715  G       8.0972   4.6127  -1.8389    6.3949  4.9657\n",
       "6     165617 74981507  G      30.5862  15.5218   5.1293  -25.8509 16.3474\n",
       "7     165617 75612982  G       7.5544   1.2913  -5.3588   -5.1646  5.5122\n",
       "8     165617 74760204  G      24.6376   9.9836  19.1426  -11.8697 21.5896\n",
       "9     165617 75017052  G      22.5057   5.6296  -9.9497   19.3857 11.4319\n",
       "10    165617 75204668  G      10.7051  -8.4664  -2.2374   -6.1564  8.7571\n",
       "11    165617 75682819  G      22.6067   5.0267  -0.3155   22.0383  5.0366\n",
       "12    165617 75891163  G      11.6778  10.7636   2.2556   -3.9266 10.9974\n",
       "13    165617 74949022  G      22.4059   1.3759   7.2096  -21.1694  7.3397\n",
       "14    165617 75818801  G      25.2596  23.5556   3.1909    8.5432 23.7708\n",
       "15    165617 74875638  G      23.0765   4.4733   7.9045   21.2138  9.0825\n",
       "16    165617 76187234  G       9.7908  -1.6247   2.0609    9.4320  2.6243\n",
       "17    165617 76650121  G      14.5875  -6.1673  12.5515   -4.1482 13.9849\n",
       "18    165617 76624220  G       8.8197  -0.0263   2.5635   -8.4383  2.5636\n",
       "19    165617 76796604  G      13.5186   5.4299   7.9615   -9.4801  9.6369\n",
       "20    165617 76691627  G       4.8860  -4.2066  -2.0383    1.4184  4.6744\n",
       "21    165617 77405245  G      15.7236   5.8886  -8.8699  -11.5702 10.6466\n",
       "22    165617 77028337  G      18.8749   4.7479  18.2027    1.5389 18.8118\n",
       "23    165617 77061433  G      23.4741  19.8385 -12.2262   -2.8245 23.3033\n",
       "24    165617 77358505  G      30.7500  -7.3635  15.1631  -25.7179 16.8564\n",
       "25    165617 76149397  G      20.7971 -14.4118   0.1627  -14.9927 14.4127\n",
       "26    165617 76456028  G       9.5444  -0.3567   8.5992    4.1245  8.6066\n",
       "27    165617 77284054  G      17.4321   4.4650   2.5288   16.6594  5.1314\n",
       "28    165617 77411254  G      24.3180 -14.7649 -13.2682   14.0465 19.8507\n",
       "29    165617 76225718  G     136.6910  -8.0503  29.9944 -133.1160 31.0560\n",
       "30    165617 76954616  G      14.5144  -4.9387  -3.0734  -13.2974  5.8169\n",
       "...   ...    ...       ...   ...      ...      ...      ...       ...    \n",
       "19971 163796 149207305 G     15.5972   -7.8392   2.8360  13.1820   8.3365\n",
       "19972 163796 149315049 G     16.8834   -8.5568  -1.3469  14.4915   8.6622\n",
       "19973 163796 149355681 G     11.9093   -3.0186   6.6834  -9.3830   7.3335\n",
       "19974 163796 149481057 G     26.1230   -5.2789  -6.0937 -24.8476   8.0622\n",
       "19975 163796 127223731 G     10.1770   -9.4206  -1.4066   3.5825   9.5251\n",
       "19976 163796 127345177 G     17.0428   -0.0829   9.6262  14.0632   9.6266\n",
       "19977 163796 127876076 G     12.9543   -0.8355   6.5551 -11.1416   6.6081\n",
       "19978 163796 127946460 G     35.2379  -16.6787  -8.8567  29.7503  18.8843\n",
       "19979 163796 127401310 G      8.1951   -3.5956   1.2288  -7.2602   3.7998\n",
       "19980 163796 127486478 G     15.0133    1.7625   7.5468 -12.8580   7.7499\n",
       "19981 163796 127637742 G      8.7668   -7.0678   4.7861   1.9961   8.5359\n",
       "19982 163796 127683182 G     17.0841    7.2057  -2.2961 -15.3187   7.5626\n",
       "19983 163796 127813281 G     10.8238   -4.0188  -9.9947   1.0478  10.7724\n",
       "19984 163796 127422577 G      6.7183   -0.9716   1.6015  -6.4510   1.8732\n",
       "19985 163796 127786724 G     15.9709    2.8540   6.9966  14.0699   7.5563\n",
       "19986 163796 127188049 G      8.0245   -0.5517   7.9914   0.4627   8.0105\n",
       "19987 163796 127495047 G     19.5909   -6.9154  -4.0572 -17.8749   8.0177\n",
       "19988 163796 127754186 G      6.8811   -4.0389   5.4581  -1.1113   6.7900\n",
       "19989 163796 127959410 G     43.0596  -13.3964  17.2464 -37.1108  21.8381\n",
       "19990 163796 127308149 G     13.0274   -5.8608  -4.1203 -10.8801   7.1642\n",
       "19991 163796 127362243 G     33.3041    4.2829  -6.9550  32.2868   8.1680\n",
       "19992 163796 127503307 G      8.8526   -4.5409  -3.9311  -6.5027   6.0061\n",
       "19993 163796 127520099 G      6.1346   -4.5181   3.2249  -2.6094   5.5509\n",
       "19994 163796 127669111 G      9.5289   -5.9913  -1.6727  -7.2177   6.2204\n",
       "19995 163796 127974378 G      9.1003   -6.2812  -3.1040  -5.8066   7.0062\n",
       "19996 163796 127190648 G     20.3600    9.1811   7.6371 -16.4894  11.9423\n",
       "19997 163796 127218144 G     11.4697   -1.6944   6.4898  -9.3035   6.7073\n",
       "19998 163796 127418342 G      7.8173    4.7081  -4.8603  -3.9128   6.7668\n",
       "19999 163796 127439838 G     11.2399   -8.7510  -5.7406  -4.0975  10.4658\n",
       "20000 163796 127493066 G     17.5006   -1.9977 -14.7369  -9.2246  14.8716\n",
       "      eta1    phi1    ... px2      py2      pz2      pt2     eta2    phi2   \n",
       "1      0.6091 -1.5149 ...   2.7508 -13.9871  13.7059 14.2550  0.8539 -1.3766\n",
       "2     -0.3083 -0.1102 ...  11.9084  -0.7670  -0.0851 11.9330 -0.0071 -0.0643\n",
       "3      1.1357  2.0823 ... -10.6874  15.0692  31.6544 18.4743  1.3076  2.1877\n",
       "4     -1.8084 -1.1111 ...   1.5525  -6.1254 -13.5302  6.3190 -1.5050 -1.3226\n",
       "5      1.0710 -0.3793 ...  -0.5305   0.6880   3.4024  0.8688  2.0742  2.2276\n",
       "6     -1.2391  0.3192 ...   7.7640   1.0425  -9.7233  7.8337 -1.0421  0.1335\n",
       "7     -0.8361 -1.3343 ...  -0.9896  -3.4548  -1.3534  3.5938 -0.3682 -1.8498\n",
       "8     -0.5253  1.0901 ...   3.3785   7.8272  -6.9841  8.5252 -0.7476  1.1633\n",
       "9      1.2987 -1.0559 ...   4.9468 -13.6360  26.9102 14.5055  1.3769 -1.2228\n",
       "10    -0.6551 -2.8832 ... -45.0429 -16.6152 -27.2205 48.0096 -0.5403 -2.7882\n",
       "11     2.1820 -0.0627 ...   2.7987   2.0567  17.5388  3.4732  2.3222  0.6338\n",
       "12    -0.3499  0.2066 ...   9.0065   3.4698  -5.5732  9.6517 -0.5494  0.3677\n",
       "13    -1.7812  1.3822 ...  -0.5663   0.7255  -4.6907  0.9204 -2.3312  2.2335\n",
       "14     0.3521  0.1346 ...  10.4432   1.1288   5.1896 10.5040  0.4759  0.1077\n",
       "15     1.5844  1.0558 ...   1.9891   7.7265  24.2637  7.9785  1.8314  1.3188\n",
       "16     1.9912  2.2384 ...   1.3215   1.7092  11.5064  2.1605  2.3744  0.9126\n",
       "17    -0.2924  2.0275 ...  -3.3095   8.6271  -5.3071  9.2401 -0.5467  1.9371\n",
       "18    -1.9068  1.5810 ...  -1.2713  -0.6276  -7.3543  1.4178 -2.3485 -2.6830\n",
       "19    -0.8698  0.9722 ...   7.0747   5.3189  -9.4925  8.8511 -0.9317  0.6447\n",
       "20     0.2990 -2.6904 ...  -2.2166  -2.7244   3.9246  3.5122  0.9620 -2.2538\n",
       "21    -0.9414 -0.9847 ...   1.0852  -1.0631  -3.1588  1.5191 -1.4786 -0.7751\n",
       "22     0.0817  1.3156 ...   0.4561   9.6741   1.4505  9.6849  0.1492  1.5237\n",
       "23    -0.1209 -0.5523 ...  17.1602 -13.9707  -3.4987 22.1281 -0.1575 -0.6833\n",
       "24    -1.2089  2.0229 ...  -2.2575   3.1225  -4.4699  3.8531 -0.9902  2.1968\n",
       "25    -0.9095  3.1303 ... -10.9596  -1.0203  -9.2979 11.0070 -0.7672 -3.0488\n",
       "26     0.4625  1.6123 ...   1.1114   8.2858   1.8150  8.3600  0.2154  1.4375\n",
       "27     1.8937  0.5153 ...   3.4274   2.0304   6.0729  3.9837  1.2082  0.5348\n",
       "28     0.6589 -2.4095 ...  -5.6352  -7.8899   7.0319  9.6956  0.6732 -2.1910\n",
       "29    -2.1619  1.8330 ...  -1.6454   2.4869 -13.4870  2.9819 -2.2143  2.1553\n",
       "30    -1.5647 -2.5849 ... -10.3778 -11.0843 -28.9485 15.1842 -1.4010 -2.3233\n",
       "...   ...     ...         ...      ...      ...      ...     ...     ...    \n",
       "19971  1.2390  2.7945 ...  -8.0903   3.2608   8.6636  8.7227  0.8766  2.7585\n",
       "19972  1.2870 -2.9855 ... -12.6907  -4.0003  16.5604 13.3063  1.0442 -2.8362\n",
       "19973 -1.0659  1.9950 ...  -4.6308   6.7759  -6.3514  8.2071 -0.7122  2.1703\n",
       "19974 -1.8441 -2.2847 ...  -2.1285   0.0192  -4.9145  2.1286 -1.5738  3.1326\n",
       "19975  0.3678 -2.9934 ...  -9.7796   0.6579   5.2245  9.8017  0.5105  3.0744\n",
       "19976  1.1729  1.5794 ...  -2.0040   8.3575  11.4362  8.5944  1.0970  1.8061\n",
       "19977 -1.2937  1.6976 ...  -1.8125   7.5936  -8.9141  7.8069 -0.9782  1.8051\n",
       "19978  1.2359 -2.6534 ...  -5.6336  -1.2154   8.0723  5.7632  1.1384 -2.9291\n",
       "19979 -1.4030  2.8123 ...  -2.7628   3.3242 -14.5197  4.3224 -1.9263  2.2642\n",
       "19980 -1.2799  1.3414 ...   2.1125   8.4802  -9.1107  8.7394 -0.9111  1.3267\n",
       "19981  0.2318  2.5463 ... -10.1579   4.1937   5.4251 10.9896  0.4755  2.7501\n",
       "19982 -1.4550 -0.3085 ...   6.1504  -0.5348  -8.1202  6.1736 -1.0877 -0.0867\n",
       "19983  0.0971 -1.9531 ...  -2.8641 -11.1163   3.9834 11.4794  0.3404 -1.8230\n",
       "19984 -1.9502  2.1161 ...  -1.1947  -1.3330  -7.6108  1.7900 -2.1540 -2.3015\n",
       "19985  1.3802  1.1835 ...   3.7430   5.2704   7.6636  6.4643  1.0067  0.9533\n",
       "19986  0.0577  1.6397 ...  -4.3954   5.2793  -0.2899  6.8695 -0.0422  2.2651\n",
       "19987 -1.5418 -2.6110 ...  -5.2933  -3.2193  -8.3998  6.1954 -1.1120 -2.5952\n",
       "19988 -0.1629  2.2079 ...  -6.0734   7.3182   2.1193  9.5101  0.2210  2.2635\n",
       "19989 -1.3005  2.2312 ...  -5.4500   7.8037 -19.3382  9.5184 -1.4577  2.1804\n",
       "19990 -1.2051 -2.5288 ... -13.4641  -4.5329 -19.0785 14.2066 -1.1044 -2.8168\n",
       "19991  2.0832 -1.0188 ...   2.0668  -0.5047   8.2919  2.1275  2.0695 -0.2395\n",
       "19992 -0.9386 -2.4280 ...  -0.6602  -3.5092  -4.0671  3.5708 -0.9763 -1.7567\n",
       "19993 -0.4543  2.5217 ...  -4.1607  -0.1940   0.3754  4.1652  0.0900 -3.0950\n",
       "19994 -0.9903 -2.8693 ...  -4.1153  -2.6338  -2.6273  4.8860 -0.5147 -2.5723\n",
       "19995 -0.7550 -2.6826 ... -21.3514  -3.4322 -18.6168 21.6255 -0.7795 -2.9822\n",
       "19996 -1.1267  0.6939 ...   4.2811   4.4597  -5.3678  6.1819 -0.7851  0.8058\n",
       "19997 -1.1304  1.8262 ...  -2.2652   9.0200  -7.5908  9.3001 -0.7453  1.8168\n",
       "19998 -0.5501 -0.8013 ...   7.8230  -3.5396  -6.5291  8.5865 -0.7014 -0.4249\n",
       "19999 -0.3821 -2.5610 ... -12.2635 -11.9949  -4.5412 17.1543 -0.2617 -2.3673\n",
       "20000 -0.5861 -1.7055 ...  -2.5769  -5.6052  -2.8688  6.1691 -0.4497 -2.0017\n",
       "      Q2  ptotal     E        mass    \n",
       "1      1   29.775428  29.9377 3.112837\n",
       "2     -1   27.507337  27.8137 4.116833\n",
       "3      1   58.396872  58.4792 3.101969\n",
       "4     -1   34.346561  34.4257 2.332934\n",
       "5      1   10.675955  11.6103 4.563228\n",
       "6     -1   42.963279  43.0730 3.072463\n",
       "7      1   10.966079  11.3960 3.100633\n",
       "8     -1   35.515934  35.6589 3.189913\n",
       "9     -1   53.023163  53.0766 2.381098\n",
       "10    -1   65.823120  65.8947 3.070557\n",
       "11    -1   40.380880  40.4864 2.921143\n",
       "12    -1   22.668993  22.8236 2.652067\n",
       "13     1   27.062262  27.1872 2.603422\n",
       "14    -1   36.921105  36.9762 2.017761\n",
       "15     1   48.521065  48.6186 3.078065\n",
       "16    -1   21.277269  21.4988 3.078347\n",
       "17    -1   25.054851  25.2437 3.082021\n",
       "18     1   15.963636  16.3102 3.344389\n",
       "19    -1   26.319073  26.4978 3.072427\n",
       "20    -1    9.617092  10.1538 3.257483\n",
       "21     1   19.085120  19.2303 2.358521\n",
       "22    -1   28.515506  28.6683 2.955896\n",
       "23    -1   45.772964  45.8773 3.092317\n",
       "24    -1   36.581827  36.6523 2.271787\n",
       "25    -1   35.135120  35.2060 2.232884\n",
       "26     1   17.915090  18.0998 2.579206\n",
       "27    -1   24.491504  24.6958 3.169983\n",
       "28    -1   36.168055  36.2956 3.040125\n",
       "29    -1  150.470864 150.5042 3.167516\n",
       "30     1   47.114241  47.2036 2.903127\n",
       "...   ... ...        ...      ...     \n",
       "19971  1  27.715522  27.8917  3.129976\n",
       "19972  1  38.003543  38.1276  3.073204\n",
       "19973  1  22.073455  22.2876  3.082157\n",
       "19974 -1  31.265824  31.4797  3.663303\n",
       "19975  1  21.136970  21.2846  2.502542\n",
       "19976  1  31.272800  31.3488  2.181569\n",
       "19977 -1  24.686610  24.8042  2.412389\n",
       "19978 -1  45.053690  45.1569  3.051330\n",
       "19979 -1  23.141372  23.3449  3.075915\n",
       "19980  1  27.468239  27.6384  3.062192\n",
       "19981  1  20.795090  21.0230  3.087195\n",
       "19982  1  27.125291  27.2852  2.949696\n",
       "19983 -1  22.767556  22.9751  3.081171\n",
       "19984  1  14.230220  14.5375  2.973170\n",
       "19985  1  25.813654  25.9973  3.084621\n",
       "19986 -1  14.163867  14.9010  4.628678\n",
       "19987 -1  29.872390  30.0289  3.061889\n",
       "19988  1  16.325089  16.6251  3.144111\n",
       "19989 -1  64.569218  64.6136  2.394452\n",
       "19990  1  36.685792  36.8146  3.076919\n",
       "19991  1  41.744421  41.8652  3.177776\n",
       "19992 -1  13.933061  14.2658  3.063147\n",
       "19993  1   9.460374  10.3180  4.118549\n",
       "19994 -1  14.751723  15.0774  3.116835\n",
       "19995 -1  37.453771  37.6355  3.694036\n",
       "19996  1  28.377819  28.5478  3.110674\n",
       "19997  1  23.273369  23.4748  3.068637\n",
       "19998 -1  18.347209  18.6048  3.085210\n",
       "19999 -1  28.823329  28.9854  3.060899\n",
       "20000 -1  24.103492  24.3050  3.123252"
      ]
     },
     "metadata": {},
     "output_type": "display_data"
    }
   ],
   "source": [
    "# Overwrite the original data frame with the \"mutated\" version\n",
    "jpsi <- jpsi %>% \n",
    "  mutate(ptotal = sqrt((px1+px2)^2 + (py1+py2)^2 + (pz1+pz2)^2), \n",
    "         E = E1+E2, \n",
    "         mass = sqrt(E^2 - ptotal^2))\n",
    "\n",
    "# Display the updated data frame and scroll to the extreme right\n",
    "# to see our new variables:\n",
    "jpsi"
   ]
  },
  {
   "cell_type": "markdown",
   "metadata": {},
   "source": [
    "Instead of displaying it like this, we can \"pipe\" the new data frame to our plotting function:\n",
    "\n",
    "- `ggplot()` comes from the `ggplot2` package, and works on the principle of layers:\n",
    "    1. `aes(mass)` tells it we want to use the `mass` variable we've just created,\n",
    "    1. `geom_histogram()` tells it to take this variable and draw its histogram with the specified bins and colours,\n",
    "    1. `xlab()` and `ylab()` provides the labels,\n",
    "    1. `ggtitle()` specifies the title,\n",
    "    1. `theme_bw()` choses the black-and-white theme, and\n",
    "    1. `theme()` allows you to manipulate elements of the plot individually."
   ]
  },
  {
   "cell_type": "code",
   "execution_count": 34,
   "metadata": {},
   "outputs": [
    {
     "name": "stderr",
     "output_type": "stream",
     "text": [
      "`stat_bin()` using `bins = 30`. Pick better value with `binwidth`.\n"
     ]
    },
    {
     "data": {
      "image/png": "[encoded data removed]",
      "text/plain": [
       "plot without title"
      ]
     },
     "metadata": {},
     "output_type": "display_data"
    }
   ],
   "source": [
    "# Plot the variable `mass` from the data frame `jpsi` with default values\n",
    "jpsi %>% \n",
    "  ggplot(aes(mass)) + \n",
    "  geom_histogram()"
   ]
  },
  {
   "cell_type": "markdown",
   "metadata": {},
   "source": [
    "But thanks to the `%>%` operator, we don't have to create a named variable (\"`jpsi`\") and keep overwriting it manually.\n",
    "We can chain the various outputs through \"piping\", and give `ggplot` some nice tweaks, as we saw above:"
   ]
  },
  {
   "cell_type": "code",
   "execution_count": 35,
   "metadata": {},
   "outputs": [
    {
     "data": {
      "image/png": "[encoded data removed]",
      "text/plain": [
       "plot without title"
      ]
     },
     "metadata": {},
     "output_type": "display_data"
    }
   ],
   "source": [
    "read_csv(\"http://opendata.cern.ch/record/545/files/Jpsimumu.csv\", \n",
    "         col_types = cols()) %>% \n",
    "  mutate(ptotal = sqrt((px1+px2)^2 + (py1+py2)^2 + (pz1+pz2)^2), \n",
    "         E = E1+E2, \n",
    "         mass = sqrt(E^2 - ptotal^2)) %>% \n",
    "  ggplot(aes(mass)) + \n",
    "  geom_histogram(bins = 500, fill = \"blue\", alpha = 0.4) + \n",
    "  xlab(\"Mass (GeV)\") + \n",
    "  ylab(\"Frequency\") + \n",
    "  ggtitle(\"Invariant Mass Histogram\") + \n",
    "  theme_bw() + \n",
    "  theme(plot.title = element_text(hjust = 0.5))"
   ]
  },
  {
   "cell_type": "markdown",
   "metadata": {},
   "source": [
    "We hope you enjoyed this tutorial.\n",
    "Good luck with exploring CMS Open Data using R!"
   ]
  },
  {
   "cell_type": "markdown",
   "metadata": {},
   "source": [
    "# Fit a function to the J/$\\psi$ peak\n",
    "\n",
    "It is also possible with R to fit a function to our distribution. First we need to compute the histogram frequencies. We can do that without having to display the histogram again with the following command:"
   ]
  },
  {
   "cell_type": "code",
   "execution_count": 37,
   "metadata": {},
   "outputs": [],
   "source": [
    "jpsel <- jpsi%>% filter(mass>2 & mass < 5) \n",
    "a<-hist(jpsel$mass,breaks=250,plot=FALSE)"
   ]
  },
  {
   "cell_type": "code",
   "execution_count": 39,
   "metadata": {},
   "outputs": [
    {
     "name": "stdout",
     "output_type": "stream",
     "text": [
      "      x  n\n",
      "1 2.005 77\n",
      "2 2.015 73\n",
      "3 2.025 69\n",
      "4 2.035 65\n",
      "5 2.045 79\n",
      "6 2.055 77\n"
     ]
    }
   ],
   "source": [
    "## here we create a new data frame with x column the bin centers and n column the counts in each bin\n",
    "jpdf <-  data.frame(x=a$mids, n=a$counts) \n",
    "print(head(jpdf))"
   ]
  },
  {
   "cell_type": "code",
   "execution_count": 43,
   "metadata": {},
   "outputs": [
    {
     "data": {
      "image/png": "[encoded data removed]",
      "text/plain": [
       "plot without title"
      ]
     },
     "metadata": {},
     "output_type": "display_data"
    }
   ],
   "source": [
    "library(latex2exp)\n",
    "jpdf %>%\n",
    "   ggplot(aes(x,n, ymin=n-sqrt(n),ymax=n+sqrt(n))) + \n",
    "   geom_point() + \n",
    "   geom_errorbar() + \n",
    "   xlab(\"Mass (GeV)\")+\n",
    "   ylab(\"Number of Events\")+\n",
    "   ggtitle(TeX(\"J/$\\\\psi$ and $\\\\psi$ mass peaks for $\\\\mu^+\\\\mu^-$ final states\"))+\n",
    "   theme_bw() + theme(plot.title = element_text(hjust = 0.5))"
   ]
  },
  {
   "cell_type": "code",
   "execution_count": null,
   "metadata": {},
   "outputs": [],
   "source": []
  }
 ],
 "metadata": {
  "kernel_info": {
   "name": "ir"
  },
  "kernelspec": {
   "display_name": "R",
   "language": "R",
   "name": "ir"
  },
  "language_info": {
   "codemirror_mode": "r",
   "file_extension": ".r",
   "mimetype": "text/x-r-source",
   "name": "R",
   "pygments_lexer": "r",
   "version": "3.4.2"
  },
  "nteract": {
   "version": "0.3.4"
  }
 },
 "nbformat": 4,
 "nbformat_minor": 1
}
